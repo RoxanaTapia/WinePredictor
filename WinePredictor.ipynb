{
 "cells": [
  {
   "cell_type": "markdown",
   "metadata": {},
   "source": [
    "<h2>Data Structure</h2>"
   ]
  },
  {
   "cell_type": "code",
   "execution_count": 218,
   "metadata": {},
   "outputs": [],
   "source": [
    "import pandas as pd \n",
    "import numpy as np\n",
    "import matplotlib.pyplot as plt\n",
    "%matplotlib inline\n",
    "from sklearn.linear_model import LinearRegression\n",
    "from sklearn.metrics import mean_squared_error\n",
    " \n",
    "import csv\n",
    "from pprint import pprint"
   ]
  },
  {
   "cell_type": "code",
   "execution_count": 219,
   "metadata": {},
   "outputs": [],
   "source": [
    "class WineReview:\n",
    "    def __init__(self, *argv):\n",
    "        self.id = argv[0]\n",
    "        self.country               = argv[1]\n",
    "        self.description           = argv[2]\n",
    "        self.designation           = argv[3]\n",
    "        self.points                = self._get_number(argv[4])\n",
    "        self.price                 = self._get_float(argv[5])\n",
    "        self.province              = argv[6]\n",
    "        self.region_1              = argv[7]\n",
    "        self.region_2              = argv[8]\n",
    "        self.taster_name           = argv[9]\n",
    "        self.taster_twitter_handle = argv[10]\n",
    "        self.title                 = argv[11]\n",
    "        self.variety               = argv[12]\n",
    "        self.winery                = argv[13]\n",
    "\n",
    "    def show(self):\n",
    "        pprint(vars(self))\n",
    "        \n",
    "    def _get_number(self, string):\n",
    "        return int(string)\n",
    "        \n",
    "    def _get_float(self, string):\n",
    "        return float(string)\n",
    "        "
   ]
  },
  {
   "cell_type": "code",
   "execution_count": 220,
   "metadata": {},
   "outputs": [],
   "source": [
    "def load_reviews():\n",
    "    f = open(\"wine-reviews/winemag-data-130k-v2.csv\", 'rt')\n",
    "    raw_data = list(csv.reader(f))\n",
    "    columns = raw_data.pop(0)\n",
    "    print(columns)\n",
    "    \n",
    "    reviews = dict()\n",
    "    errors = list()\n",
    "\n",
    "    for row in raw_data:\n",
    "        id = int(row[0])\n",
    "        try:\n",
    "            review = WineReview(*row)\n",
    "            reviews[id] = review\n",
    "        except ValueError as e:\n",
    "            errors.append(id)\n",
    "            pass # wrong type        \n",
    "    f.close()\n",
    "\n",
    "    return reviews, errors"
   ]
  },
  {
   "cell_type": "markdown",
   "metadata": {},
   "source": [
    "<h3>Dictionary with all WineReviews found in the .csv file and raw data<h3>"
   ]
  },
  {
   "cell_type": "code",
   "execution_count": 221,
   "metadata": {},
   "outputs": [
    {
     "name": "stdout",
     "output_type": "stream",
     "text": [
      "['', 'country', 'description', 'designation', 'points', 'price', 'province', 'region_1', 'region_2', 'taster_name', 'taster_twitter_handle', 'title', 'variety', 'winery']\n",
      "cleaned type errors of 8996 out of 129971 records (6.92%)\n"
     ]
    }
   ],
   "source": [
    "reviews, errors = load_reviews() \n",
    "total = len(errors)+len(reviews.keys())\n",
    "p = (len(errors)/total)*100\n",
    "print(\"cleaned type errors of {} out of {} records ({}%)\".format(len(errors), total, round(p, 2)))\n"
   ]
  },
  {
   "cell_type": "markdown",
   "metadata": {},
   "source": [
    "<h3>Attributes of a WineReview object</h3>"
   ]
  },
  {
   "cell_type": "code",
   "execution_count": 222,
   "metadata": {},
   "outputs": [
    {
     "name": "stdout",
     "output_type": "stream",
     "text": [
      "{'country': 'Germany',\n",
      " 'description': 'Savory dried thyme notes accent sunnier flavors of preserved '\n",
      "                \"peach in this brisk, off-dry wine. It's fruity and fresh, \"\n",
      "                'with an elegant, sprightly footprint.',\n",
      " 'designation': 'Shine',\n",
      " 'id': '8',\n",
      " 'points': 87,\n",
      " 'price': 12.0,\n",
      " 'province': 'Rheinhessen',\n",
      " 'region_1': '',\n",
      " 'region_2': '',\n",
      " 'taster_name': 'Anna Lee C. Iijima',\n",
      " 'taster_twitter_handle': '',\n",
      " 'title': 'Heinz Eifel 2013 Shine Gewürztraminer (Rheinhessen)',\n",
      " 'variety': 'Gewürztraminer',\n",
      " 'winery': 'Heinz Eifel'}\n"
     ]
    }
   ],
   "source": [
    "try: \n",
    "    reviews[8].show()\n",
    "except KeyError:\n",
    "    print(\"erroneous data\")"
   ]
  },
  {
   "cell_type": "markdown",
   "metadata": {},
   "source": [
    "<h2>Linear Regression</h2>"
   ]
  },
  {
   "cell_type": "code",
   "execution_count": 223,
   "metadata": {},
   "outputs": [],
   "source": [
    "def collect_value(attribute):\n",
    "    result = list()\n",
    "    for k, v in reviews.items():\n",
    "        result.append(vars(v)[attribute])\n",
    "    \n",
    "    return np.array(result)\n",
    "        \n",
    "    "
   ]
  },
  {
   "cell_type": "code",
   "execution_count": 229,
   "metadata": {},
   "outputs": [
    {
     "name": "stdout",
     "output_type": "stream",
     "text": [
      "5.607501402538701\n",
      "-460.46243009074493\n"
     ]
    }
   ],
   "source": [
    "X = collect_value('points')\n",
    "Y = collect_value('price')\n",
    "\n",
    "m = len(X)\n",
    "\n",
    "X = x.reshape(m, 1)\n",
    "model = LinearRegression()\n",
    "model.fit(X, Y)\n",
    "\n",
    "y_pred = model.predict(X)\n",
    "\n",
    "w = model.coef_[0] # parameters of model\n",
    "b = model.intercept_ #intercept of model\n",
    "\n",
    "mse = mean_squared_error(Y, y_pred)\n",
    "rmse = np.sqrt(mse)\n",
    "r2_score = model.score(X, Y)\n",
    "\n",
    "print(w)\n",
    "print(b)"
   ]
  },
  {
   "cell_type": "code",
   "execution_count": 233,
   "metadata": {},
   "outputs": [
    {
     "data": {
      "text/plain": [
       "[<matplotlib.lines.Line2D at 0x1338e7d30>]"
      ]
     },
     "execution_count": 233,
     "metadata": {},
     "output_type": "execute_result"
    },
    {
     "data": {
      "image/png": "[encoded data removed]",
      "text/plain": [
       "<Figure size 432x288 with 1 Axes>"
      ]
     },
     "metadata": {},
     "output_type": "display_data"
    }
   ],
   "source": [
    "max_x = np.max(X)\n",
    "min_x = np.min(X)\n",
    "\n",
    "x = np.linspace(min_x, max_x, 1000)\n",
    "y = b + w*x\n",
    "plt.plot(x, y,'-', color=\"#58b970\")\n",
    "plt.plot(X, Y,'o', color=\"#ef5423\")"
   ]
  },
  {
   "cell_type": "markdown",
   "metadata": {},
   "source": [
    "<h4>Using Pandas</h4>"
   ]
  },
  {
   "cell_type": "code",
   "execution_count": 234,
   "metadata": {},
   "outputs": [
    {
     "name": "stdout",
     "output_type": "stream",
     "text": [
      "(129971, 14)\n"
     ]
    }
   ],
   "source": [
    "data = pd.read_csv(\"wine-reviews/winemag-data-130k-v2.csv\")\n",
    "print(data.shape)"
   ]
  },
  {
   "cell_type": "code",
   "execution_count": 235,
   "metadata": {},
   "outputs": [],
   "source": [
    "x = data['points'].values\n",
    "y = data['price'].values\n",
    "\n",
    "# m = len(x)\n",
    "\n",
    "# x = x.reshape(m, 1)\n",
    "# model = LinearRegression()\n",
    "# model.fit(x, y)\n",
    "\n",
    "# y_pred = model.predict(x)\n",
    "\n",
    "\n",
    "# mse = mean_squared_error(y, y_pred)\n",
    "# rmse = np.sqrt(mse)\n",
    "# r2_score = model.score(x, y)\n",
    "\n",
    "# print(rmse)\n",
    "# print(r2_score)\n",
    "\n"
   ]
  },
  {
   "cell_type": "code",
   "execution_count": null,
   "metadata": {},
   "outputs": [],
   "source": []
  },
  {
   "cell_type": "code",
   "execution_count": null,
   "metadata": {},
   "outputs": [],
   "source": []
  }
 ],
 "metadata": {
  "kernelspec": {
   "display_name": "Python 3",
   "language": "python",
   "name": "python3"
  },
  "language_info": {
   "codemirror_mode": {
    "name": "ipython",
    "version": 3
   },
   "file_extension": ".py",
   "mimetype": "text/x-python",
   "name": "python",
   "nbconvert_exporter": "python",
   "pygments_lexer": "ipython3",
   "version": "3.7.0"
  }
 },
 "nbformat": 4,
 "nbformat_minor": 1
}
