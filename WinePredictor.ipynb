{
 "cells": [
  {
   "cell_type": "markdown",
   "metadata": {},
   "source": [
    "<h2>Data Structure</h2>"
   ]
  },
  {
   "cell_type": "code",
   "execution_count": 44,
   "metadata": {},
   "outputs": [],
   "source": [
    "import pandas as pd \n",
    "import numpy as np\n",
    "import matplotlib.pyplot as plt\n",
    "%matplotlib inline\n",
    "from sklearn.linear_model import LinearRegression\n",
    "from sklearn.metrics import mean_squared_error\n",
    "from sklearn.model_selection import train_test_split\n",
    " \n",
    "import csv\n",
    "from pprint import pprint"
   ]
  },
  {
   "cell_type": "code",
   "execution_count": 45,
   "metadata": {},
   "outputs": [],
   "source": [
    "class WineReview:\n",
    "    def __init__(self, *argv):\n",
    "        self.id                    = argv[0]\n",
    "        self.country               = argv[1]\n",
    "        self.description           = argv[2]\n",
    "        self.designation           = argv[3]\n",
    "        self.points                = self._get_number(argv[4])\n",
    "        self.price                 = self._get_float(argv[5])\n",
    "        self.province              = argv[6]\n",
    "        self.region_1              = argv[7]\n",
    "        self.region_2              = argv[8]\n",
    "        self.taster_name           = argv[9]\n",
    "        self.taster_twitter_handle = argv[10]\n",
    "        self.title                 = argv[11]\n",
    "        self.variety               = argv[12]\n",
    "        self.winery                = argv[13]\n",
    "\n",
    "    def show(self):\n",
    "        pprint(vars(self))\n",
    "        \n",
    "    def _get_number(self, string):\n",
    "        return int(string)\n",
    "        \n",
    "    def _get_float(self, string):\n",
    "        f = float(string)\n",
    "        if f == 0:\n",
    "            print(f)\n",
    "        return f\n",
    "        "
   ]
  },
  {
   "cell_type": "code",
   "execution_count": 46,
   "metadata": {},
   "outputs": [],
   "source": [
    "def load_reviews():\n",
    "    f = open(\"data/winemag-data-130k-v2.csv\", 'rt')\n",
    "    raw_data = list(csv.reader(f))\n",
    "    columns = raw_data.pop(0)\n",
    "    \n",
    "    reviews = dict()\n",
    "    errors = list()\n",
    "\n",
    "    for row in raw_data:\n",
    "        id = int(row[0])\n",
    "        try:\n",
    "            review = WineReview(*row)\n",
    "            reviews[id] = review\n",
    "        except ValueError as e:\n",
    "            errors.append(id)   \n",
    "    f.close()\n",
    "\n",
    "    return reviews, errors"
   ]
  },
  {
   "cell_type": "code",
   "execution_count": 47,
   "metadata": {},
   "outputs": [],
   "source": [
    "def collect_value(attribute, data):\n",
    "    result = list()\n",
    "    for k, v in data.items():\n",
    "        result.append(vars(v)[attribute])\n",
    "    \n",
    "    return np.array(result)\n",
    "\n",
    "def reject_outliers(data, m=2):\n",
    "    return data[abs(data - np.mean(data)) < m * np.std(data)]\n"
   ]
  },
  {
   "cell_type": "markdown",
   "metadata": {},
   "source": [
    "<h3>Dictionary with all WineReviews found in the .csv file and raw data<h3>"
   ]
  },
  {
   "cell_type": "code",
   "execution_count": 48,
   "metadata": {},
   "outputs": [],
   "source": [
    "reviews, errors = load_reviews() "
   ]
  },
  {
   "cell_type": "code",
   "execution_count": 49,
   "metadata": {},
   "outputs": [
    {
     "name": "stdout",
     "output_type": "stream",
     "text": [
      "--> cleaned [type_errors, outliers] of 11672 out of 129971 records (8.98%)\n"
     ]
    }
   ],
   "source": [
    "# remove price outliers\n",
    "prices = collect_value('price', reviews)\n",
    "prices_wo_outliers = reject_outliers(prices)\n",
    "\n",
    "reviews_wo_outliers = dict()\n",
    "\n",
    "for k, v in reviews.items():\n",
    "    \n",
    "    if v.price not in prices_wo_outliers:\n",
    "        errors.append(v.id)\n",
    "        continue\n",
    "    reviews_wo_outliers[k] = v\n",
    "\n",
    "total = len(errors)+len(reviews_wo_outliers.keys())\n",
    "p = (len(errors)/total)*100\n",
    "print(\"--> cleaned [type_errors, outliers] of {} out of {} records ({}%)\".format(len(errors), total, round(p, 2)))\n"
   ]
  },
  {
   "cell_type": "markdown",
   "metadata": {},
   "source": [
    "<h3>Attributes of a WineReview object</h3>"
   ]
  },
  {
   "cell_type": "code",
   "execution_count": 50,
   "metadata": {},
   "outputs": [
    {
     "name": "stdout",
     "output_type": "stream",
     "text": [
      "{'country': 'Germany',\n",
      " 'description': 'Savory dried thyme notes accent sunnier flavors of preserved '\n",
      "                \"peach in this brisk, off-dry wine. It's fruity and fresh, \"\n",
      "                'with an elegant, sprightly footprint.',\n",
      " 'designation': 'Shine',\n",
      " 'id': '8',\n",
      " 'points': 87,\n",
      " 'price': 12.0,\n",
      " 'province': 'Rheinhessen',\n",
      " 'region_1': '',\n",
      " 'region_2': '',\n",
      " 'taster_name': 'Anna Lee C. Iijima',\n",
      " 'taster_twitter_handle': '',\n",
      " 'title': 'Heinz Eifel 2013 Shine Gewürztraminer (Rheinhessen)',\n",
      " 'variety': 'Gewürztraminer',\n",
      " 'winery': 'Heinz Eifel'}\n"
     ]
    }
   ],
   "source": [
    "try: \n",
    "    reviews_wo_outliers[8].show()\n",
    "except KeyError:\n",
    "    print(\"erroneous data\")"
   ]
  },
  {
   "cell_type": "markdown",
   "metadata": {},
   "source": [
    "<h2>Linear Regression</h2>"
   ]
  },
  {
   "cell_type": "code",
   "execution_count": 51,
   "metadata": {},
   "outputs": [
    {
     "name": "stdout",
     "output_type": "stream",
     "text": [
      "coeficient:  0.032237849162463215\n",
      "intercept:  87.28726377411728\n",
      "mse:  8.073928825693237\n",
      "r2_score:  1.0\n"
     ]
    }
   ],
   "source": [
    "X = collect_value('price', reviews)\n",
    "Y = collect_value('points', reviews)\n",
    "\n",
    "# training and test separation\n",
    "X_train, X_test, y_train, y_test = train_test_split(X.reshape(-1, 1), Y, test_size=0.20)\n",
    "\n",
    "model = LinearRegression()\n",
    "\n",
    "model.fit(X_train, y_train)\n",
    "y_pred = model.predict(X_test)\n",
    "\n",
    "w = model.coef_[0] # parameters of model\n",
    "b = model.intercept_ #intercept of model\n",
    "\n",
    "mse = mean_squared_error(y_test, y_pred)\n",
    "rmse = np.sqrt(mse)\n",
    "r2_score = model.score(X_test, y_pred)\n",
    "\n",
    "print(\"coeficient: \", w)\n",
    "print(\"intercept: \", b)\n",
    "\n",
    "print(\"mse: \", mse)\n",
    "print(\"r2_score: \", r2_score)"
   ]
  },
  {
   "cell_type": "code",
   "execution_count": 52,
   "metadata": {},
   "outputs": [
    {
     "name": "stderr",
     "output_type": "stream",
     "text": [
      "/Users/roxana/.virtualenvs/dojo3/lib/python3.7/site-packages/scipy/stats/stats.py:1713: FutureWarning: Using a non-tuple sequence for multidimensional indexing is deprecated; use `arr[tuple(seq)]` instead of `arr[seq]`. In the future this will be interpreted as an array index, `arr[np.array(seq)]`, which will result either in an error or a different result.\n",
      "  return np.add.reduce(sorted[indexer] * weights, axis=axis) / sumval\n"
     ]
    },
    {
     "data": {
      "text/plain": [
       "<matplotlib.axes._subplots.AxesSubplot at 0x119e180f0>"
      ]
     },
     "execution_count": 52,
     "metadata": {},
     "output_type": "execute_result"
    },
    {
     "data": {
      "image/png": "[encoded data removed]",
      "text/plain": [
       "<Figure size 432x288 with 1 Axes>"
      ]
     },
     "metadata": {},
     "output_type": "display_data"
    }
   ],
   "source": [
    "import seaborn as sns\n",
    "\n",
    "sns.distplot(np.log(y_test))"
   ]
  },
  {
   "cell_type": "code",
   "execution_count": 53,
   "metadata": {},
   "outputs": [
    {
     "data": {
      "text/plain": [
       "[<matplotlib.lines.Line2D at 0x119c8f2e8>]"
      ]
     },
     "execution_count": 53,
     "metadata": {},
     "output_type": "execute_result"
    },
    {
     "data": {
      "image/png": "[encoded data removed]",
      "text/plain": [
       "<Figure size 432x288 with 1 Axes>"
      ]
     },
     "metadata": {},
     "output_type": "display_data"
    }
   ],
   "source": [
    "max_x = np.max(X_test)\n",
    "min_x = np.min(X_test)\n",
    "\n",
    "x = np.linspace(min_x, max_x, 1000)\n",
    "y = b + w*x\n",
    "\n",
    "plt.plot(x, y,'-', color=\"#58b970\")\n",
    "plt.plot(X_test, y_test,'o', color=\"#ef5423\")"
   ]
  },
  {
   "cell_type": "markdown",
   "metadata": {},
   "source": [
    "<h4>Using Pandas</h4>"
   ]
  },
  {
   "cell_type": "code",
   "execution_count": 54,
   "metadata": {},
   "outputs": [
    {
     "data": {
      "text/html": [
       "<div>\n",
       "<style scoped>\n",
       "    .dataframe tbody tr th:only-of-type {\n",
       "        vertical-align: middle;\n",
       "    }\n",
       "\n",
       "    .dataframe tbody tr th {\n",
       "        vertical-align: top;\n",
       "    }\n",
       "\n",
       "    .dataframe thead th {\n",
       "        text-align: right;\n",
       "    }\n",
       "</style>\n",
       "<table border=\"1\" class=\"dataframe\">\n",
       "  <thead>\n",
       "    <tr style=\"text-align: right;\">\n",
       "      <th></th>\n",
       "      <th>Unnamed: 0</th>\n",
       "      <th>country</th>\n",
       "      <th>description</th>\n",
       "      <th>designation</th>\n",
       "      <th>points</th>\n",
       "      <th>price</th>\n",
       "      <th>province</th>\n",
       "      <th>region_1</th>\n",
       "      <th>region_2</th>\n",
       "      <th>taster_name</th>\n",
       "      <th>taster_twitter_handle</th>\n",
       "      <th>title</th>\n",
       "      <th>variety</th>\n",
       "      <th>winery</th>\n",
       "    </tr>\n",
       "  </thead>\n",
       "  <tbody>\n",
       "    <tr>\n",
       "      <th>0</th>\n",
       "      <td>0</td>\n",
       "      <td>Italy</td>\n",
       "      <td>Aromas include tropical fruit, broom, brimston...</td>\n",
       "      <td>Vulkà Bianco</td>\n",
       "      <td>87</td>\n",
       "      <td>NaN</td>\n",
       "      <td>Sicily &amp; Sardinia</td>\n",
       "      <td>Etna</td>\n",
       "      <td>NaN</td>\n",
       "      <td>Kerin O’Keefe</td>\n",
       "      <td>@kerinokeefe</td>\n",
       "      <td>Nicosia 2013 Vulkà Bianco  (Etna)</td>\n",
       "      <td>White Blend</td>\n",
       "      <td>Nicosia</td>\n",
       "    </tr>\n",
       "    <tr>\n",
       "      <th>1</th>\n",
       "      <td>1</td>\n",
       "      <td>Portugal</td>\n",
       "      <td>This is ripe and fruity, a wine that is smooth...</td>\n",
       "      <td>Avidagos</td>\n",
       "      <td>87</td>\n",
       "      <td>15.0</td>\n",
       "      <td>Douro</td>\n",
       "      <td>NaN</td>\n",
       "      <td>NaN</td>\n",
       "      <td>Roger Voss</td>\n",
       "      <td>@vossroger</td>\n",
       "      <td>Quinta dos Avidagos 2011 Avidagos Red (Douro)</td>\n",
       "      <td>Portuguese Red</td>\n",
       "      <td>Quinta dos Avidagos</td>\n",
       "    </tr>\n",
       "    <tr>\n",
       "      <th>2</th>\n",
       "      <td>2</td>\n",
       "      <td>US</td>\n",
       "      <td>Tart and snappy, the flavors of lime flesh and...</td>\n",
       "      <td>NaN</td>\n",
       "      <td>87</td>\n",
       "      <td>14.0</td>\n",
       "      <td>Oregon</td>\n",
       "      <td>Willamette Valley</td>\n",
       "      <td>Willamette Valley</td>\n",
       "      <td>Paul Gregutt</td>\n",
       "      <td>@paulgwine</td>\n",
       "      <td>Rainstorm 2013 Pinot Gris (Willamette Valley)</td>\n",
       "      <td>Pinot Gris</td>\n",
       "      <td>Rainstorm</td>\n",
       "    </tr>\n",
       "  </tbody>\n",
       "</table>\n",
       "</div>"
      ],
      "text/plain": [
       "   Unnamed: 0   country                                        description  \\\n",
       "0           0     Italy  Aromas include tropical fruit, broom, brimston...   \n",
       "1           1  Portugal  This is ripe and fruity, a wine that is smooth...   \n",
       "2           2        US  Tart and snappy, the flavors of lime flesh and...   \n",
       "\n",
       "    designation  points  price           province           region_1  \\\n",
       "0  Vulkà Bianco      87    NaN  Sicily & Sardinia               Etna   \n",
       "1      Avidagos      87   15.0              Douro                NaN   \n",
       "2           NaN      87   14.0             Oregon  Willamette Valley   \n",
       "\n",
       "            region_2    taster_name taster_twitter_handle  \\\n",
       "0                NaN  Kerin O’Keefe          @kerinokeefe   \n",
       "1                NaN     Roger Voss            @vossroger   \n",
       "2  Willamette Valley   Paul Gregutt           @paulgwine    \n",
       "\n",
       "                                           title         variety  \\\n",
       "0              Nicosia 2013 Vulkà Bianco  (Etna)     White Blend   \n",
       "1  Quinta dos Avidagos 2011 Avidagos Red (Douro)  Portuguese Red   \n",
       "2  Rainstorm 2013 Pinot Gris (Willamette Valley)      Pinot Gris   \n",
       "\n",
       "                winery  \n",
       "0              Nicosia  \n",
       "1  Quinta dos Avidagos  \n",
       "2            Rainstorm  "
      ]
     },
     "execution_count": 54,
     "metadata": {},
     "output_type": "execute_result"
    }
   ],
   "source": [
    "data = pd.read_csv(\"data/winemag-data-130k-v2.csv\")\n",
    "data.head(3)"
   ]
  },
  {
   "cell_type": "code",
   "execution_count": 23,
   "metadata": {},
   "outputs": [
    {
     "name": "stdout",
     "output_type": "stream",
     "text": [
      "129971\n"
     ]
    }
   ],
   "source": [
    "x = data['points'].values\n",
    "y = data['price'].values\n",
    "print(len(x))"
   ]
  },
  {
   "cell_type": "code",
   "execution_count": null,
   "metadata": {},
   "outputs": [],
   "source": []
  }
 ],
 "metadata": {
  "kernelspec": {
   "display_name": "Python 3",
   "language": "python",
   "name": "python3"
  },
  "language_info": {
   "codemirror_mode": {
    "name": "ipython",
    "version": 3
   },
   "file_extension": ".py",
   "mimetype": "text/x-python",
   "name": "python",
   "nbconvert_exporter": "python",
   "pygments_lexer": "ipython3",
   "version": "3.7.0"
  }
 },
 "nbformat": 4,
 "nbformat_minor": 1
}
