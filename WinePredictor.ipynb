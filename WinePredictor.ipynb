{
 "cells": [
  {
   "cell_type": "markdown",
   "metadata": {},
   "source": [
    "<h1>Data Structure</h>"
   ]
  },
  {
   "cell_type": "code",
   "execution_count": 59,
   "metadata": {},
   "outputs": [],
   "source": [
    "# import numpy as np\n",
    "# import matplotlib.pyplot as plt\n",
    "# %matplotlib inline\n",
    "# from sklearn.linear_model import LinearRegression\n",
    "# from sklearn.metrics import accuracy_score\n",
    "# from sklearn.externals import joblib\n",
    "# import pandas as pd  \n",
    "import csv\n",
    "from pprint import pprint"
   ]
  },
  {
   "cell_type": "code",
   "execution_count": 60,
   "metadata": {},
   "outputs": [],
   "source": [
    "class WineReview:\n",
    "    def __init__(self, *argv):\n",
    "        self.id = argv[0]\n",
    "        self.country               = argv[1]\n",
    "        self.description           = argv[2]\n",
    "        self.designation           = argv[3]\n",
    "        self.points                = argv[4]\n",
    "        self.price                 = argv[5]\n",
    "        self.province              = argv[6]\n",
    "        self.region_1              = argv[7]\n",
    "        self.region_2              = argv[8]\n",
    "        self.taster_name           = argv[9]\n",
    "        self.taster_twitter_handle = argv[10]\n",
    "        self.title                 = argv[11]\n",
    "        self.variety               = argv[12]\n",
    "        self.winery                = argv[13]\n",
    "\n",
    "    def show(self):\n",
    "        pprint(vars(self))"
   ]
  },
  {
   "cell_type": "code",
   "execution_count": 61,
   "metadata": {},
   "outputs": [],
   "source": [
    "def load_reviews():\n",
    "    f = open(\"wine-reviews/winemag-data-130k-v2.csv\", 'rt')\n",
    "    reader = list(csv.reader(f))\n",
    "    reader.pop(0)\n",
    "\n",
    "    reviews = dict()\n",
    "\n",
    "    for row in reader:\n",
    "        id = int(row[0])\n",
    "        review = WineReview(*row)\n",
    "        reviews[id] = review\n",
    "    f.close()\n",
    "\n",
    "    return reviews"
   ]
  },
  {
   "cell_type": "markdown",
   "metadata": {},
   "source": [
    "<h2>Dictionary with all WineReviews found in the .csv file<h2>"
   ]
  },
  {
   "cell_type": "code",
   "execution_count": 62,
   "metadata": {},
   "outputs": [],
   "source": [
    "reviews = load_reviews()"
   ]
  },
  {
   "cell_type": "markdown",
   "metadata": {},
   "source": [
    "<h3>Attributes of a WineReview object</h3>"
   ]
  },
  {
   "cell_type": "code",
   "execution_count": 65,
   "metadata": {},
   "outputs": [
    {
     "name": "stdout",
     "output_type": "stream",
     "text": [
      "{'country': 'Italy',\n",
      " 'description': 'Aromas include tropical fruit, broom, brimstone and dried '\n",
      "                \"herb. The palate isn't overly expressive, offering unripened \"\n",
      "                'apple, citrus and dried sage alongside brisk acidity.',\n",
      " 'designation': 'Vulkà Bianco',\n",
      " 'id': '0',\n",
      " 'points': '87',\n",
      " 'price': '',\n",
      " 'province': 'Sicily & Sardinia',\n",
      " 'region_1': 'Etna',\n",
      " 'region_2': '',\n",
      " 'taster_name': 'Kerin O’Keefe',\n",
      " 'taster_twitter_handle': '@kerinokeefe',\n",
      " 'title': 'Nicosia 2013 Vulkà Bianco  (Etna)',\n",
      " 'variety': 'White Blend',\n",
      " 'winery': 'Nicosia'}\n"
     ]
    }
   ],
   "source": [
    "reviews[0].show()"
   ]
  },
  {
   "cell_type": "code",
   "execution_count": null,
   "metadata": {},
   "outputs": [],
   "source": []
  }
 ],
 "metadata": {
  "kernelspec": {
   "display_name": "Python 3",
   "language": "python",
   "name": "python3"
  },
  "language_info": {
   "codemirror_mode": {
    "name": "ipython",
    "version": 3
   },
   "file_extension": ".py",
   "mimetype": "text/x-python",
   "name": "python",
   "nbconvert_exporter": "python",
   "pygments_lexer": "ipython3",
   "version": "3.7.0"
  }
 },
 "nbformat": 4,
 "nbformat_minor": 1
}
