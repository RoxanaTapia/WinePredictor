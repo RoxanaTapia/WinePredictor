{
 "cells": [
  {
   "cell_type": "markdown",
   "metadata": {},
   "source": [
    "<h1> Predictor typos in most influential country </h1>"
   ]
  },
  {
   "cell_type": "markdown",
   "metadata": {},
   "source": [
    "* <b>Retrieves incrementally dataframes with n% of typos from <i>typos_generator</i></b>\n",
    "* <b>In each case, executes one hot encoding of categorical variables</b>\n",
    "* <b>Retrieves base MSE of data with n-typos</b>\n",
    "* <b>Stores metrics for further statistics</b>"
   ]
  },
  {
   "cell_type": "code",
   "execution_count": 24,
   "metadata": {},
   "outputs": [],
   "source": [
    "# imports\n",
    "import copy\n",
    "import matplotlib.pyplot as plt\n",
    "from sklearn import metrics\n",
    "from sklearn.model_selection import train_test_split\n",
    "from sklearn.metrics import mean_squared_error\n",
    "from sklearn.model_selection import train_test_split \n",
    "from sklearn import metrics\n",
    "from sklearn import linear_model\n",
    "import pandas as pd \n",
    "import numpy as np\n",
    "from sklearn import metrics  \n",
    "from sklearn.tree import DecisionTreeRegressor\n",
    "from sklearn.model_selection import train_test_split\n",
    "from sklearn.model_selection import GridSearchCV, RandomizedSearchCV\n",
    "from scipy.stats import randint as sp_randint\n",
    "from sklearn.preprocessing import LabelEncoder\n",
    "import random\n",
    "import string\n",
    "from collections import OrderedDict\n",
    "import time\n",
    "\n",
    "\n",
    "import import_ipynb\n",
    "import typos_generator as typos_generator\n",
    "\n",
    "%matplotlib inline"
   ]
  },
  {
   "cell_type": "markdown",
   "metadata": {},
   "source": [
    "# Data Split"
   ]
  },
  {
   "cell_type": "code",
   "execution_count": 25,
   "metadata": {},
   "outputs": [
    {
     "data": {
      "text/html": [
       "<div>\n",
       "<style scoped>\n",
       "    .dataframe tbody tr th:only-of-type {\n",
       "        vertical-align: middle;\n",
       "    }\n",
       "\n",
       "    .dataframe tbody tr th {\n",
       "        vertical-align: top;\n",
       "    }\n",
       "\n",
       "    .dataframe thead th {\n",
       "        text-align: right;\n",
       "    }\n",
       "</style>\n",
       "<table border=\"1\" class=\"dataframe\">\n",
       "  <thead>\n",
       "    <tr style=\"text-align: right;\">\n",
       "      <th></th>\n",
       "      <th>index</th>\n",
       "      <th>country</th>\n",
       "      <th>province</th>\n",
       "      <th>region</th>\n",
       "      <th>price</th>\n",
       "      <th>variety</th>\n",
       "      <th>points</th>\n",
       "      <th>year_of_wine</th>\n",
       "    </tr>\n",
       "  </thead>\n",
       "  <tbody>\n",
       "    <tr>\n",
       "      <th>0</th>\n",
       "      <td>0</td>\n",
       "      <td>US</td>\n",
       "      <td>Oregon</td>\n",
       "      <td>Willamette Valley</td>\n",
       "      <td>14.0</td>\n",
       "      <td>Pinot Gris</td>\n",
       "      <td>87</td>\n",
       "      <td>2013</td>\n",
       "    </tr>\n",
       "    <tr>\n",
       "      <th>1</th>\n",
       "      <td>1</td>\n",
       "      <td>US</td>\n",
       "      <td>Michigan</td>\n",
       "      <td>Lake Michigan Shore</td>\n",
       "      <td>13.0</td>\n",
       "      <td>Riesling</td>\n",
       "      <td>87</td>\n",
       "      <td>2013</td>\n",
       "    </tr>\n",
       "    <tr>\n",
       "      <th>2</th>\n",
       "      <td>2</td>\n",
       "      <td>US</td>\n",
       "      <td>Oregon</td>\n",
       "      <td>Willamette Valley</td>\n",
       "      <td>65.0</td>\n",
       "      <td>Pinot Noir</td>\n",
       "      <td>87</td>\n",
       "      <td>2012</td>\n",
       "    </tr>\n",
       "    <tr>\n",
       "      <th>3</th>\n",
       "      <td>3</td>\n",
       "      <td>Spain</td>\n",
       "      <td>Northern Spain</td>\n",
       "      <td>Navarra</td>\n",
       "      <td>15.0</td>\n",
       "      <td>Tempranillo-Merlot</td>\n",
       "      <td>87</td>\n",
       "      <td>2011</td>\n",
       "    </tr>\n",
       "  </tbody>\n",
       "</table>\n",
       "</div>"
      ],
      "text/plain": [
       "   index country        province               region  price  \\\n",
       "0      0      US          Oregon    Willamette Valley   14.0   \n",
       "1      1      US        Michigan  Lake Michigan Shore   13.0   \n",
       "2      2      US          Oregon    Willamette Valley   65.0   \n",
       "3      3   Spain  Northern Spain              Navarra   15.0   \n",
       "\n",
       "              variety  points  year_of_wine  \n",
       "0          Pinot Gris      87          2013  \n",
       "1            Riesling      87          2013  \n",
       "2          Pinot Noir      87          2012  \n",
       "3  Tempranillo-Merlot      87          2011  "
      ]
     },
     "execution_count": 25,
     "metadata": {},
     "output_type": "execute_result"
    }
   ],
   "source": [
    "# Load the Wine Dataset\n",
    "df_wine = pd.read_csv(\"df_wine_horizontal_tests.csv\", encoding = 'utf8', index_col=0)\n",
    "df_wine = df_wine.reset_index()\n",
    "# check data\n",
    "df_wine.head(4)"
   ]
  },
  {
   "cell_type": "code",
   "execution_count": 26,
   "metadata": {},
   "outputs": [],
   "source": [
    "# drop unnecessary columns\n",
    "# df_wine = df_wine.drop(['province', 'region', 'price', 'variety', 'year_of_wine'], axis=1)\n",
    "# df_wine.head(4)"
   ]
  },
  {
   "cell_type": "code",
   "execution_count": 27,
   "metadata": {},
   "outputs": [],
   "source": [
    "df_X = df_wine.drop('points', axis=1)\n",
    "df_Y = df_wine[['points']]\n",
    "X_train, X_test, y_train, y_test = train_test_split(df_X, df_Y, test_size=0.3, random_state=0) "
   ]
  },
  {
   "cell_type": "code",
   "execution_count": 28,
   "metadata": {},
   "outputs": [
    {
     "data": {
      "text/html": [
       "<div>\n",
       "<style scoped>\n",
       "    .dataframe tbody tr th:only-of-type {\n",
       "        vertical-align: middle;\n",
       "    }\n",
       "\n",
       "    .dataframe tbody tr th {\n",
       "        vertical-align: top;\n",
       "    }\n",
       "\n",
       "    .dataframe thead th {\n",
       "        text-align: right;\n",
       "    }\n",
       "</style>\n",
       "<table border=\"1\" class=\"dataframe\">\n",
       "  <thead>\n",
       "    <tr style=\"text-align: right;\">\n",
       "      <th></th>\n",
       "      <th>index</th>\n",
       "      <th>country</th>\n",
       "      <th>province</th>\n",
       "      <th>region</th>\n",
       "      <th>price</th>\n",
       "      <th>variety</th>\n",
       "      <th>year_of_wine</th>\n",
       "    </tr>\n",
       "  </thead>\n",
       "  <tbody>\n",
       "    <tr>\n",
       "      <th>82970</th>\n",
       "      <td>86163</td>\n",
       "      <td>US</td>\n",
       "      <td>California</td>\n",
       "      <td>Napa</td>\n",
       "      <td>100.0</td>\n",
       "      <td>Cabernet Sauvignon</td>\n",
       "      <td>2013</td>\n",
       "    </tr>\n",
       "    <tr>\n",
       "      <th>4606</th>\n",
       "      <td>4766</td>\n",
       "      <td>US</td>\n",
       "      <td>New York</td>\n",
       "      <td>Long Island</td>\n",
       "      <td>40.0</td>\n",
       "      <td>Sauvignon Blanc</td>\n",
       "      <td>2013</td>\n",
       "    </tr>\n",
       "    <tr>\n",
       "      <th>27058</th>\n",
       "      <td>28094</td>\n",
       "      <td>France</td>\n",
       "      <td>Burgundy</td>\n",
       "      <td>Saint-Véran</td>\n",
       "      <td>30.0</td>\n",
       "      <td>Chardonnay</td>\n",
       "      <td>2014</td>\n",
       "    </tr>\n",
       "    <tr>\n",
       "      <th>84009</th>\n",
       "      <td>87245</td>\n",
       "      <td>France</td>\n",
       "      <td>Bordeaux</td>\n",
       "      <td>Blaye Côtes de Bordeaux</td>\n",
       "      <td>15.0</td>\n",
       "      <td>Bordeaux-style Red Blend</td>\n",
       "      <td>2016</td>\n",
       "    </tr>\n",
       "  </tbody>\n",
       "</table>\n",
       "</div>"
      ],
      "text/plain": [
       "       index country    province                   region  price  \\\n",
       "82970  86163      US  California                     Napa  100.0   \n",
       "4606    4766      US    New York              Long Island   40.0   \n",
       "27058  28094  France    Burgundy              Saint-Véran   30.0   \n",
       "84009  87245  France    Bordeaux  Blaye Côtes de Bordeaux   15.0   \n",
       "\n",
       "                        variety  year_of_wine  \n",
       "82970        Cabernet Sauvignon          2013  \n",
       "4606            Sauvignon Blanc          2013  \n",
       "27058                Chardonnay          2014  \n",
       "84009  Bordeaux-style Red Blend          2016  "
      ]
     },
     "execution_count": 28,
     "metadata": {},
     "output_type": "execute_result"
    }
   ],
   "source": [
    "X_train_copy = copy.deepcopy(X_train)\n",
    "X_train_copy.head(4)\n"
   ]
  },
  {
   "cell_type": "code",
   "execution_count": 29,
   "metadata": {},
   "outputs": [
    {
     "name": "stdout",
     "output_type": "stream",
     "text": [
      "US           37282\n",
      "France       11412\n",
      "Italy        11173\n",
      "Spain         4227\n",
      "Argentina     2563\n",
      "Australia     1568\n",
      "Canada         167\n",
      "Name: country, dtype: int64\n"
     ]
    }
   ],
   "source": [
    "# check number of US values in X_train\n",
    "frequencies = X_train_copy[\"country\"].value_counts()\n",
    "frequencies.sort_values\n",
    "print(frequencies)"
   ]
  },
  {
   "cell_type": "markdown",
   "metadata": {},
   "source": [
    "# One hot encoding (constant)"
   ]
  },
  {
   "cell_type": "code",
   "execution_count": 30,
   "metadata": {},
   "outputs": [],
   "source": [
    "X_test = pd.get_dummies(X_test, columns=['country'])\n",
    "X_test = pd.get_dummies(X_test, columns=['province'])\n",
    "X_test = pd.get_dummies(X_test, columns=['region'])\n",
    "X_test = pd.get_dummies(X_test, columns=['variety'])"
   ]
  },
  {
   "cell_type": "markdown",
   "metadata": {},
   "source": [
    "# Results"
   ]
  },
  {
   "cell_type": "code",
   "execution_count": null,
   "metadata": {},
   "outputs": [
    {
     "name": "stdout",
     "output_type": "stream",
     "text": [
      "[OK] Inserting typos in 372 out of 37282 rows in US. (1%)\n"
     ]
    }
   ],
   "source": [
    "n = 100\n",
    "i = 0\n",
    "results = list()\n",
    "\n",
    "for X_train_typos in typos_generator.generate_dirty_data(X_train_copy, \"country\", \"US\", n):\n",
    "    print(\"[OK] Experiment {}: \".format(i+1))\n",
    "    start_time = time.time()\n",
    "    # get hyperparameters\n",
    "    # max_depth, min_samples_split = get_hyperparameters(X_train, y_train)\n",
    "    # print(\"max_depth: {}, min_samples_split: {}\".format(max_depth, min_samples_split))\n",
    "    \n",
    "    # one hot encoding (variable)\n",
    "    X_train_typos = pd.get_dummies(X_train_typos, columns=['country'])\n",
    "    X_train_typos = pd.get_dummies(X_train_typos, columns=['province'])\n",
    "    X_train_typos = pd.get_dummies(X_train_typos, columns=['region'])\n",
    "    X_train_typos = pd.get_dummies(X_train_typos, columns=['variety'])\n",
    "    \n",
    "    X_train_typos, X_test = X_train_typos.align(X_test, join='outer', axis=1, fill_value=0)\n",
    "    \n",
    "    # print(X_train_typos.shape, X_test.shape, y_train.shape, y_test.shape)\n",
    "    \n",
    "    # apply regression\n",
    "    regressor = DecisionTreeRegressor()  \n",
    "    regressor.fit(X_train_typos, y_train) # Train the model using the training sets\n",
    "    y_pred = regressor.predict(X_test) # Make predictions using the testing set\n",
    "\n",
    "    # The evaluation metrics\n",
    "    mae = metrics.mean_absolute_error(y_test, y_pred)\n",
    "    mse = metrics.mean_squared_error(y_test, y_pred)\n",
    "    rmse = np.sqrt(metrics.mean_squared_error(y_test, y_pred))\n",
    "    elapsed_time = round(time.time() - start_time, 2)\n",
    "    \n",
    "    print('Mean Absolute Error:', round(mae, 3))  \n",
    "    print('Mean Squared Error:', round(mse, 3))  \n",
    "    print('Root Mean Squared Error:', round(rmse, 3)) \n",
    "    print('Elapsed time: ', elapsed_time)\n",
    "    print(\"*****\"*20)\n",
    "    \n",
    "    # store results\n",
    "    result = dict(\n",
    "        n=i,\n",
    "        columns=len(X_train_typos.columns),\n",
    "        elapsed_time=elapsed_time,\n",
    "        results=dict(mae=mae, mse=mse, rmse=rmse)\n",
    "    )\n",
    "    results.append(result)\n",
    "    i += 1"
   ]
  },
  {
   "cell_type": "code",
   "execution_count": null,
   "metadata": {},
   "outputs": [],
   "source": [
    "def get_hyperparameters(X_train, y_train):\n",
    "    regressor3 = DecisionTreeRegressor()\n",
    "    param_dist = {'max_depth': sp_randint(2,16),\n",
    "                  'min_samples_split': sp_randint(2,16)}\n",
    "\n",
    "    n_iter_search = 20\n",
    "    clfrs = RandomizedSearchCV(regressor3, \n",
    "                               param_distributions=param_dist,\n",
    "                               scoring='neg_mean_squared_error',\n",
    "                               cv=5 , n_jobs=1, verbose=1,\n",
    "                               n_iter=n_iter_search)\n",
    "    clfrs.fit(X_train, y_train)\n",
    "    params = clfrs.best_params_\n",
    "    return params[\"max_depth\"], params[\"min_samples_split\"]"
   ]
  },
  {
   "cell_type": "code",
   "execution_count": null,
   "metadata": {},
   "outputs": [],
   "source": [
    "import pprint\n",
    "pp = pprint.PrettyPrinter(indent=4)\n",
    "pp.pprint(results)"
   ]
  }
 ],
 "metadata": {
  "kernelspec": {
   "display_name": "Python 3",
   "language": "python",
   "name": "python3"
  },
  "language_info": {
   "codemirror_mode": {
    "name": "ipython",
    "version": 3
   },
   "file_extension": ".py",
   "mimetype": "text/x-python",
   "name": "python",
   "nbconvert_exporter": "python",
   "pygments_lexer": "ipython3",
   "version": "3.7.0"
  }
 },
 "nbformat": 4,
 "nbformat_minor": 2
}
