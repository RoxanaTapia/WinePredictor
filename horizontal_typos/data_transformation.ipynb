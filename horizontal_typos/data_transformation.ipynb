{
 "cells": [
  {
   "cell_type": "markdown",
   "metadata": {},
   "source": [
    "<h1> Base Data Transformation </h1>"
   ]
  },
  {
   "cell_type": "markdown",
   "metadata": {},
   "source": [
    "* <b>Stores transformed data into a csv file (<i>df_wine_horizontal_tests.csv</i>)</b>\n",
    "* <b>Does not include one hot encoding of categorical variables (e.g. country, variety)</b>\n",
    "* <b>Includes extraction of year of the wine</b>"
   ]
  },
  {
   "cell_type": "code",
   "execution_count": 1,
   "metadata": {},
   "outputs": [],
   "source": [
    "import pandas as pd \n",
    "import numpy as np\n",
    "import re\n",
    "from sklearn.preprocessing import LabelEncoder"
   ]
  },
  {
   "cell_type": "code",
   "execution_count": 2,
   "metadata": {},
   "outputs": [],
   "source": [
    "# Load the Wine Dataset\n",
    "df_wine = pd.read_csv(\"../data/winemag-data-130k-v2.csv\", encoding = 'utf8', index_col=0)"
   ]
  },
  {
   "cell_type": "code",
   "execution_count": 3,
   "metadata": {},
   "outputs": [
    {
     "data": {
      "text/html": [
       "<div>\n",
       "<style scoped>\n",
       "    .dataframe tbody tr th:only-of-type {\n",
       "        vertical-align: middle;\n",
       "    }\n",
       "\n",
       "    .dataframe tbody tr th {\n",
       "        vertical-align: top;\n",
       "    }\n",
       "\n",
       "    .dataframe thead th {\n",
       "        text-align: right;\n",
       "    }\n",
       "</style>\n",
       "<table border=\"1\" class=\"dataframe\">\n",
       "  <thead>\n",
       "    <tr style=\"text-align: right;\">\n",
       "      <th></th>\n",
       "      <th>country</th>\n",
       "      <th>description</th>\n",
       "      <th>designation</th>\n",
       "      <th>points</th>\n",
       "      <th>price</th>\n",
       "      <th>province</th>\n",
       "      <th>region_1</th>\n",
       "      <th>region_2</th>\n",
       "      <th>taster_name</th>\n",
       "      <th>taster_twitter_handle</th>\n",
       "      <th>title</th>\n",
       "      <th>variety</th>\n",
       "      <th>winery</th>\n",
       "      <th>region</th>\n",
       "    </tr>\n",
       "  </thead>\n",
       "  <tbody>\n",
       "    <tr>\n",
       "      <th>0</th>\n",
       "      <td>Italy</td>\n",
       "      <td>Aromas include tropical fruit, broom, brimston...</td>\n",
       "      <td>Vulkà Bianco</td>\n",
       "      <td>87</td>\n",
       "      <td>NaN</td>\n",
       "      <td>Sicily &amp; Sardinia</td>\n",
       "      <td>Etna</td>\n",
       "      <td>NaN</td>\n",
       "      <td>Kerin O’Keefe</td>\n",
       "      <td>@kerinokeefe</td>\n",
       "      <td>Nicosia 2013 Vulkà Bianco  (Etna)</td>\n",
       "      <td>White Blend</td>\n",
       "      <td>Nicosia</td>\n",
       "      <td>Etna</td>\n",
       "    </tr>\n",
       "  </tbody>\n",
       "</table>\n",
       "</div>"
      ],
      "text/plain": [
       "  country                                        description   designation  \\\n",
       "0   Italy  Aromas include tropical fruit, broom, brimston...  Vulkà Bianco   \n",
       "\n",
       "   points  price           province region_1 region_2    taster_name  \\\n",
       "0      87    NaN  Sicily & Sardinia     Etna      NaN  Kerin O’Keefe   \n",
       "\n",
       "  taster_twitter_handle                              title      variety  \\\n",
       "0          @kerinokeefe  Nicosia 2013 Vulkà Bianco  (Etna)  White Blend   \n",
       "\n",
       "    winery region  \n",
       "0  Nicosia   Etna  "
      ]
     },
     "execution_count": 3,
     "metadata": {},
     "output_type": "execute_result"
    }
   ],
   "source": [
    "# fill unexisting values in region 2 with values of region 1\n",
    "df_wine[\"region\"] = df_wine[\"region_2\"].fillna(df_wine[\"region_1\"])\n",
    "df_wine.head(1)"
   ]
  },
  {
   "cell_type": "code",
   "execution_count": 4,
   "metadata": {},
   "outputs": [],
   "source": [
    "# select most complete columns\n",
    "df_wine = df_wine[['country','province','region','price','title','variety','points']]\n",
    "df_wine = df_wine.reset_index(drop=True)\n",
    "# drop NaN values\n",
    "df_wine = df_wine.dropna()\n",
    "df_wine = df_wine.reset_index(drop=True)\n"
   ]
  },
  {
   "cell_type": "code",
   "execution_count": 5,
   "metadata": {},
   "outputs": [
    {
     "data": {
      "text/plain": [
       "country     0\n",
       "province    0\n",
       "region      0\n",
       "price       0\n",
       "title       0\n",
       "variety     0\n",
       "points      0\n",
       "dtype: int64"
      ]
     },
     "execution_count": 5,
     "metadata": {},
     "output_type": "execute_result"
    }
   ],
   "source": [
    "# check NaN values\n",
    "df_wine.isnull().sum()"
   ]
  },
  {
   "cell_type": "code",
   "execution_count": 6,
   "metadata": {},
   "outputs": [
    {
     "data": {
      "text/html": [
       "<div>\n",
       "<style scoped>\n",
       "    .dataframe tbody tr th:only-of-type {\n",
       "        vertical-align: middle;\n",
       "    }\n",
       "\n",
       "    .dataframe tbody tr th {\n",
       "        vertical-align: top;\n",
       "    }\n",
       "\n",
       "    .dataframe thead th {\n",
       "        text-align: right;\n",
       "    }\n",
       "</style>\n",
       "<table border=\"1\" class=\"dataframe\">\n",
       "  <thead>\n",
       "    <tr style=\"text-align: right;\">\n",
       "      <th></th>\n",
       "      <th>country</th>\n",
       "      <th>province</th>\n",
       "      <th>region</th>\n",
       "      <th>price</th>\n",
       "      <th>title</th>\n",
       "      <th>variety</th>\n",
       "      <th>points</th>\n",
       "    </tr>\n",
       "  </thead>\n",
       "  <tbody>\n",
       "    <tr>\n",
       "      <th>0</th>\n",
       "      <td>US</td>\n",
       "      <td>Oregon</td>\n",
       "      <td>Willamette Valley</td>\n",
       "      <td>14.0</td>\n",
       "      <td>Rainstorm 2013 Pinot Gris (Willamette Valley)</td>\n",
       "      <td>Pinot Gris</td>\n",
       "      <td>87</td>\n",
       "    </tr>\n",
       "    <tr>\n",
       "      <th>1</th>\n",
       "      <td>US</td>\n",
       "      <td>Michigan</td>\n",
       "      <td>Lake Michigan Shore</td>\n",
       "      <td>13.0</td>\n",
       "      <td>St. Julian 2013 Reserve Late Harvest Riesling ...</td>\n",
       "      <td>Riesling</td>\n",
       "      <td>87</td>\n",
       "    </tr>\n",
       "    <tr>\n",
       "      <th>2</th>\n",
       "      <td>US</td>\n",
       "      <td>Oregon</td>\n",
       "      <td>Willamette Valley</td>\n",
       "      <td>65.0</td>\n",
       "      <td>Sweet Cheeks 2012 Vintner's Reserve Wild Child...</td>\n",
       "      <td>Pinot Noir</td>\n",
       "      <td>87</td>\n",
       "    </tr>\n",
       "    <tr>\n",
       "      <th>3</th>\n",
       "      <td>Spain</td>\n",
       "      <td>Northern Spain</td>\n",
       "      <td>Navarra</td>\n",
       "      <td>15.0</td>\n",
       "      <td>Tandem 2011 Ars In Vitro Tempranillo-Merlot (N...</td>\n",
       "      <td>Tempranillo-Merlot</td>\n",
       "      <td>87</td>\n",
       "    </tr>\n",
       "    <tr>\n",
       "      <th>4</th>\n",
       "      <td>Italy</td>\n",
       "      <td>Sicily &amp; Sardinia</td>\n",
       "      <td>Vittoria</td>\n",
       "      <td>16.0</td>\n",
       "      <td>Terre di Giurfo 2013 Belsito Frappato (Vittoria)</td>\n",
       "      <td>Frappato</td>\n",
       "      <td>87</td>\n",
       "    </tr>\n",
       "    <tr>\n",
       "      <th>5</th>\n",
       "      <td>France</td>\n",
       "      <td>Alsace</td>\n",
       "      <td>Alsace</td>\n",
       "      <td>24.0</td>\n",
       "      <td>Trimbach 2012 Gewurztraminer (Alsace)</td>\n",
       "      <td>Gewürztraminer</td>\n",
       "      <td>87</td>\n",
       "    </tr>\n",
       "    <tr>\n",
       "      <th>6</th>\n",
       "      <td>France</td>\n",
       "      <td>Alsace</td>\n",
       "      <td>Alsace</td>\n",
       "      <td>27.0</td>\n",
       "      <td>Jean-Baptiste Adam 2012 Les Natures Pinot Gris...</td>\n",
       "      <td>Pinot Gris</td>\n",
       "      <td>87</td>\n",
       "    </tr>\n",
       "    <tr>\n",
       "      <th>7</th>\n",
       "      <td>US</td>\n",
       "      <td>California</td>\n",
       "      <td>Napa</td>\n",
       "      <td>19.0</td>\n",
       "      <td>Kirkland Signature 2011 Mountain Cuvée Caberne...</td>\n",
       "      <td>Cabernet Sauvignon</td>\n",
       "      <td>87</td>\n",
       "    </tr>\n",
       "    <tr>\n",
       "      <th>8</th>\n",
       "      <td>France</td>\n",
       "      <td>Alsace</td>\n",
       "      <td>Alsace</td>\n",
       "      <td>30.0</td>\n",
       "      <td>Leon Beyer 2012 Gewurztraminer (Alsace)</td>\n",
       "      <td>Gewürztraminer</td>\n",
       "      <td>87</td>\n",
       "    </tr>\n",
       "    <tr>\n",
       "      <th>9</th>\n",
       "      <td>US</td>\n",
       "      <td>California</td>\n",
       "      <td>Sonoma</td>\n",
       "      <td>34.0</td>\n",
       "      <td>Louis M. Martini 2012 Cabernet Sauvignon (Alex...</td>\n",
       "      <td>Cabernet Sauvignon</td>\n",
       "      <td>87</td>\n",
       "    </tr>\n",
       "  </tbody>\n",
       "</table>\n",
       "</div>"
      ],
      "text/plain": [
       "  country           province               region  price  \\\n",
       "0      US             Oregon    Willamette Valley   14.0   \n",
       "1      US           Michigan  Lake Michigan Shore   13.0   \n",
       "2      US             Oregon    Willamette Valley   65.0   \n",
       "3   Spain     Northern Spain              Navarra   15.0   \n",
       "4   Italy  Sicily & Sardinia             Vittoria   16.0   \n",
       "5  France             Alsace               Alsace   24.0   \n",
       "6  France             Alsace               Alsace   27.0   \n",
       "7      US         California                 Napa   19.0   \n",
       "8  France             Alsace               Alsace   30.0   \n",
       "9      US         California               Sonoma   34.0   \n",
       "\n",
       "                                               title             variety  \\\n",
       "0      Rainstorm 2013 Pinot Gris (Willamette Valley)          Pinot Gris   \n",
       "1  St. Julian 2013 Reserve Late Harvest Riesling ...            Riesling   \n",
       "2  Sweet Cheeks 2012 Vintner's Reserve Wild Child...          Pinot Noir   \n",
       "3  Tandem 2011 Ars In Vitro Tempranillo-Merlot (N...  Tempranillo-Merlot   \n",
       "4   Terre di Giurfo 2013 Belsito Frappato (Vittoria)            Frappato   \n",
       "5              Trimbach 2012 Gewurztraminer (Alsace)      Gewürztraminer   \n",
       "6  Jean-Baptiste Adam 2012 Les Natures Pinot Gris...          Pinot Gris   \n",
       "7  Kirkland Signature 2011 Mountain Cuvée Caberne...  Cabernet Sauvignon   \n",
       "8            Leon Beyer 2012 Gewurztraminer (Alsace)      Gewürztraminer   \n",
       "9  Louis M. Martini 2012 Cabernet Sauvignon (Alex...  Cabernet Sauvignon   \n",
       "\n",
       "   points  \n",
       "0      87  \n",
       "1      87  \n",
       "2      87  \n",
       "3      87  \n",
       "4      87  \n",
       "5      87  \n",
       "6      87  \n",
       "7      87  \n",
       "8      87  \n",
       "9      87  "
      ]
     },
     "execution_count": 6,
     "metadata": {},
     "output_type": "execute_result"
    }
   ],
   "source": [
    "# check data\n",
    "df_wine.head(10)"
   ]
  },
  {
   "cell_type": "code",
   "execution_count": 7,
   "metadata": {},
   "outputs": [
    {
     "data": {
      "text/plain": [
       "array(['2013', '2012', '2011', '2010', '2007', '2009', '2014', '2015',\n",
       "       nan, '2016', '2', '2004', '2003', '2006', '2008', '2001', '2005',\n",
       "       '2002', '9', '46', '1887', '2000', '1999', '1991', '1997', '772',\n",
       "       '1', '41', '42', '44', '14', '33', '2017', '1637', '35', '39',\n",
       "       '1996', '4', '3', '012', '401', '181', '1492', '1898', '1998',\n",
       "       '7200', '1852', '50', '7', '12', '66', '1995', '1994', '1992',\n",
       "       '18401', '15', '5', '6', '1929', '240', '075', '17', '1875', '22',\n",
       "       '10', '786', '21', '8', '38', '351', '460', '1856', '91', '29',\n",
       "       '24', '25', '1990', '1988', '154', '511', '1827', '1860', '45',\n",
       "       '735', '1872', '52', '109', '204', '150', '1850', '337', '1877',\n",
       "       '30', '310', '1870', '100', '205', '1000', '1868', '16', '103',\n",
       "       '585', '413', '1989', '1993', '360', '32', '20', '1882', '51',\n",
       "       '375', '1821', '47', '158', '69', '128', '1947', '13', '1070',\n",
       "       '1985', '1927', '1904', '68', '1847', '1982', '1986', '90', '736',\n",
       "       '253', '010', '1752', '28', '1789', '75', '1987', '88', '1607',\n",
       "       '813', '1621', '31', '800', '1978', '1919', '868', '19', '013',\n",
       "       '1845', '09', '1150', '500', '61', '23', '555', '428', '18', '125',\n",
       "       '999', '36', '60', '01', '34', '1945', '26', '733'], dtype=object)"
      ]
     },
     "execution_count": 7,
     "metadata": {},
     "output_type": "execute_result"
    }
   ],
   "source": [
    "# check distinct years in title\n",
    "df = pd.DataFrame(df_wine['title'])\n",
    "df['year'] = df['title'].str.extract('(\\d+)')\n",
    "df.year.unique()"
   ]
  },
  {
   "cell_type": "code",
   "execution_count": 8,
   "metadata": {},
   "outputs": [],
   "source": [
    "# FUNCTION: FIND ALL NUMBERS IN THE TITLE, ADD THEM TO A LIST VARIABLE\n",
    "def regex(x):\n",
    "    L = re.findall(r'\\d+', str(x))\n",
    "    L_str = \",\".join(str(x) for x in L)\n",
    "    return str(L_str)\n",
    "\n",
    "# FOR ALL THE NUMERIC VALUES IN THE TITLES FIND THEM AND ADD TO A NEW DATA FRAME AS COLUMNS\n",
    "def regex2(y):\n",
    "    L = re.findall(r'\\d+', str(y))\n",
    "    X = np.array([L])\n",
    "    new_L = []\n",
    "    for x in X:\n",
    "        a = x.tolist()\n",
    "        b = []\n",
    "        for i in range(1, numeric_values_ct + 1):\n",
    "            if len(a) == numeric_values_ct:\n",
    "                new_L.append(a)\n",
    "                break\n",
    "            else:\n",
    "                for j in range(0, numeric_values_ct - len(a)):\n",
    "                     b = a.extend([0])\n",
    "    return new_L"
   ]
  },
  {
   "cell_type": "code",
   "execution_count": 9,
   "metadata": {},
   "outputs": [],
   "source": [
    "df['title_num_values'] = df['title'].apply(regex)"
   ]
  },
  {
   "cell_type": "code",
   "execution_count": 10,
   "metadata": {},
   "outputs": [],
   "source": [
    "# FINDING HOW MANY NUMBERS DOES EACH TITLE INCLUDE\n",
    "df['num_count'] = df.title_num_values.str.count(',') + 1\n",
    "numeric_values_ct = df.num_count.max()"
   ]
  },
  {
   "cell_type": "code",
   "execution_count": 11,
   "metadata": {},
   "outputs": [],
   "source": [
    "xx = df['title'].apply(regex2)\n",
    "new_list1 = []\n",
    "new_list2 = []\n",
    "new_list3 = []\n",
    "new_list4 = []\n",
    "new_list5 = []\n",
    "for row in xx:\n",
    "    new_list1.append(row[0][0])\n",
    "    new_list2.append(row[0][1])\n",
    "    new_list3.append(row[0][2])\n",
    "    new_list4.append(row[0][3])\n",
    "    new_list5.append(row[0][4])"
   ]
  },
  {
   "cell_type": "code",
   "execution_count": 12,
   "metadata": {},
   "outputs": [],
   "source": [
    "df.insert(loc=0, column='N5', value= pd.Series(new_list5))\n",
    "df.insert(loc=0, column='N4', value= pd.Series(new_list4))\n",
    "df.insert(loc=0, column='N3', value= pd.Series(new_list3))\n",
    "df.insert(loc=0, column='N2', value= pd.Series(new_list2))\n",
    "df.insert(loc=0, column='N1', value= pd.Series(new_list1))"
   ]
  },
  {
   "cell_type": "code",
   "execution_count": 13,
   "metadata": {},
   "outputs": [],
   "source": [
    "# SET 0 FOR ALL THE VALUES WHICH HAS MORE THAN 4 DIGIT\n",
    "df.loc[df['N1'].astype(str).map(len) != 4 , 'N1'] = 0\n",
    "df.loc[df['N2'].astype(str).map(len) != 4 , 'N2'] = 0\n",
    "df.loc[df['N3'].astype(str).map(len) != 4 , 'N3'] = 0\n",
    "df.loc[df['N4'].astype(str).map(len) != 4 , 'N4'] = 0\n",
    "df.loc[df['N5'].astype(str).map(len) != 4 , 'N5'] = 0\n",
    "\n",
    "# SET 0 FOR ALL THE VALUES GREATER THAN CURRENT YEAR\n",
    "df.loc[df['N1'].astype(int) > 2018 , 'N1'] = 0\n",
    "df.loc[df['N2'].astype(int) > 2018 , 'N2'] = 0\n",
    "df.loc[df['N3'].astype(int) > 2018 , 'N3'] = 0\n",
    "df.loc[df['N4'].astype(int) > 2018 , 'N4'] = 0\n",
    "df.loc[df['N5'].astype(int) > 2018 , 'N5'] = 0"
   ]
  },
  {
   "cell_type": "code",
   "execution_count": 14,
   "metadata": {},
   "outputs": [],
   "source": [
    "df['year_of_wine'] = df[['N5','N4','N3','N2','N1']].astype(int).max(axis=1)"
   ]
  },
  {
   "cell_type": "code",
   "execution_count": 15,
   "metadata": {},
   "outputs": [
    {
     "data": {
      "text/plain": [
       "array([2013, 2012, 2011, 2010, 2007, 2009, 2014, 2015,    0, 2016, 2004,\n",
       "       2003, 2006, 2008, 2001, 2005, 2002, 2000, 1999, 1991, 1997, 2017,\n",
       "       1996, 1998, 1995, 1994, 1992, 1990, 1988, 1989, 1993, 1947, 1985,\n",
       "       1927, 1904, 1982, 1986, 1987, 1978, 1919, 1945])"
      ]
     },
     "execution_count": 15,
     "metadata": {},
     "output_type": "execute_result"
    }
   ],
   "source": [
    "# DELETE ALL THE YEARS BEFORE 1900 \n",
    "df = df[['title', 'year_of_wine']]\n",
    "df.loc[df['year_of_wine']  < 1900 , 'year_of_wine'] = 0\n",
    "df.year_of_wine.unique()"
   ]
  },
  {
   "cell_type": "code",
   "execution_count": 16,
   "metadata": {},
   "outputs": [],
   "source": [
    "# CONCAT THE YEAR COLUMN TO MAIN DATAFRAME\n",
    "try:\n",
    "    if 'year_of_wine' not in df_wine:\n",
    "        df_wine = pd.concat([df_wine, df.year_of_wine], axis=1)\n",
    "except (RuntimeError, TypeError, NameError):\n",
    "    print(\"Error: concating year to main dataframe\")"
   ]
  },
  {
   "cell_type": "code",
   "execution_count": 17,
   "metadata": {},
   "outputs": [
    {
     "data": {
      "text/html": [
       "<div>\n",
       "<style scoped>\n",
       "    .dataframe tbody tr th:only-of-type {\n",
       "        vertical-align: middle;\n",
       "    }\n",
       "\n",
       "    .dataframe tbody tr th {\n",
       "        vertical-align: top;\n",
       "    }\n",
       "\n",
       "    .dataframe thead th {\n",
       "        text-align: right;\n",
       "    }\n",
       "</style>\n",
       "<table border=\"1\" class=\"dataframe\">\n",
       "  <thead>\n",
       "    <tr style=\"text-align: right;\">\n",
       "      <th></th>\n",
       "      <th>title</th>\n",
       "      <th>year_of_wine</th>\n",
       "    </tr>\n",
       "  </thead>\n",
       "  <tbody>\n",
       "    <tr>\n",
       "      <th>0</th>\n",
       "      <td>Rainstorm 2013 Pinot Gris (Willamette Valley)</td>\n",
       "      <td>2013</td>\n",
       "    </tr>\n",
       "    <tr>\n",
       "      <th>1</th>\n",
       "      <td>St. Julian 2013 Reserve Late Harvest Riesling ...</td>\n",
       "      <td>2013</td>\n",
       "    </tr>\n",
       "    <tr>\n",
       "      <th>2</th>\n",
       "      <td>Sweet Cheeks 2012 Vintner's Reserve Wild Child...</td>\n",
       "      <td>2012</td>\n",
       "    </tr>\n",
       "    <tr>\n",
       "      <th>3</th>\n",
       "      <td>Tandem 2011 Ars In Vitro Tempranillo-Merlot (N...</td>\n",
       "      <td>2011</td>\n",
       "    </tr>\n",
       "    <tr>\n",
       "      <th>4</th>\n",
       "      <td>Terre di Giurfo 2013 Belsito Frappato (Vittoria)</td>\n",
       "      <td>2013</td>\n",
       "    </tr>\n",
       "  </tbody>\n",
       "</table>\n",
       "</div>"
      ],
      "text/plain": [
       "                                               title  year_of_wine\n",
       "0      Rainstorm 2013 Pinot Gris (Willamette Valley)          2013\n",
       "1  St. Julian 2013 Reserve Late Harvest Riesling ...          2013\n",
       "2  Sweet Cheeks 2012 Vintner's Reserve Wild Child...          2012\n",
       "3  Tandem 2011 Ars In Vitro Tempranillo-Merlot (N...          2011\n",
       "4   Terre di Giurfo 2013 Belsito Frappato (Vittoria)          2013"
      ]
     },
     "execution_count": 17,
     "metadata": {},
     "output_type": "execute_result"
    }
   ],
   "source": [
    "df_wine[['title','year_of_wine']].head()"
   ]
  },
  {
   "cell_type": "code",
   "execution_count": 18,
   "metadata": {},
   "outputs": [
    {
     "name": "stdout",
     "output_type": "stream",
     "text": [
      "(101400, 8)\n"
     ]
    }
   ],
   "source": [
    "print(df_wine.shape)"
   ]
  },
  {
   "cell_type": "code",
   "execution_count": 19,
   "metadata": {},
   "outputs": [],
   "source": [
    "df_wine = df_wine[df_wine['year_of_wine'] > 0]"
   ]
  },
  {
   "cell_type": "code",
   "execution_count": 20,
   "metadata": {},
   "outputs": [
    {
     "name": "stdout",
     "output_type": "stream",
     "text": [
      "(97703, 8)\n"
     ]
    }
   ],
   "source": [
    "print(df_wine.shape)"
   ]
  },
  {
   "cell_type": "code",
   "execution_count": 21,
   "metadata": {},
   "outputs": [
    {
     "data": {
      "text/html": [
       "<div>\n",
       "<style scoped>\n",
       "    .dataframe tbody tr th:only-of-type {\n",
       "        vertical-align: middle;\n",
       "    }\n",
       "\n",
       "    .dataframe tbody tr th {\n",
       "        vertical-align: top;\n",
       "    }\n",
       "\n",
       "    .dataframe thead th {\n",
       "        text-align: right;\n",
       "    }\n",
       "</style>\n",
       "<table border=\"1\" class=\"dataframe\">\n",
       "  <thead>\n",
       "    <tr style=\"text-align: right;\">\n",
       "      <th></th>\n",
       "      <th>country</th>\n",
       "      <th>province</th>\n",
       "      <th>region</th>\n",
       "      <th>price</th>\n",
       "      <th>variety</th>\n",
       "      <th>points</th>\n",
       "      <th>year_of_wine</th>\n",
       "    </tr>\n",
       "  </thead>\n",
       "  <tbody>\n",
       "    <tr>\n",
       "      <th>0</th>\n",
       "      <td>US</td>\n",
       "      <td>Oregon</td>\n",
       "      <td>Willamette Valley</td>\n",
       "      <td>14.0</td>\n",
       "      <td>Pinot Gris</td>\n",
       "      <td>87</td>\n",
       "      <td>2013</td>\n",
       "    </tr>\n",
       "    <tr>\n",
       "      <th>1</th>\n",
       "      <td>US</td>\n",
       "      <td>Michigan</td>\n",
       "      <td>Lake Michigan Shore</td>\n",
       "      <td>13.0</td>\n",
       "      <td>Riesling</td>\n",
       "      <td>87</td>\n",
       "      <td>2013</td>\n",
       "    </tr>\n",
       "    <tr>\n",
       "      <th>2</th>\n",
       "      <td>US</td>\n",
       "      <td>Oregon</td>\n",
       "      <td>Willamette Valley</td>\n",
       "      <td>65.0</td>\n",
       "      <td>Pinot Noir</td>\n",
       "      <td>87</td>\n",
       "      <td>2012</td>\n",
       "    </tr>\n",
       "    <tr>\n",
       "      <th>3</th>\n",
       "      <td>Spain</td>\n",
       "      <td>Northern Spain</td>\n",
       "      <td>Navarra</td>\n",
       "      <td>15.0</td>\n",
       "      <td>Tempranillo-Merlot</td>\n",
       "      <td>87</td>\n",
       "      <td>2011</td>\n",
       "    </tr>\n",
       "    <tr>\n",
       "      <th>4</th>\n",
       "      <td>Italy</td>\n",
       "      <td>Sicily &amp; Sardinia</td>\n",
       "      <td>Vittoria</td>\n",
       "      <td>16.0</td>\n",
       "      <td>Frappato</td>\n",
       "      <td>87</td>\n",
       "      <td>2013</td>\n",
       "    </tr>\n",
       "  </tbody>\n",
       "</table>\n",
       "</div>"
      ],
      "text/plain": [
       "  country           province               region  price             variety  \\\n",
       "0      US             Oregon    Willamette Valley   14.0          Pinot Gris   \n",
       "1      US           Michigan  Lake Michigan Shore   13.0            Riesling   \n",
       "2      US             Oregon    Willamette Valley   65.0          Pinot Noir   \n",
       "3   Spain     Northern Spain              Navarra   15.0  Tempranillo-Merlot   \n",
       "4   Italy  Sicily & Sardinia             Vittoria   16.0            Frappato   \n",
       "\n",
       "   points  year_of_wine  \n",
       "0      87          2013  \n",
       "1      87          2013  \n",
       "2      87          2012  \n",
       "3      87          2011  \n",
       "4      87          2013  "
      ]
     },
     "execution_count": 21,
     "metadata": {},
     "output_type": "execute_result"
    }
   ],
   "source": [
    "df_wine = df_wine.drop('title', axis=1) # year was already extracted\n",
    "df_wine.head(5)"
   ]
  },
  {
   "cell_type": "code",
   "execution_count": 22,
   "metadata": {},
   "outputs": [],
   "source": [
    "# save data\n",
    "df_wine.to_csv('df_wine_horizontal_tests.csv')"
   ]
  }
 ],
 "metadata": {
  "kernelspec": {
   "display_name": "Python 3",
   "language": "python",
   "name": "python3"
  },
  "language_info": {
   "codemirror_mode": {
    "name": "ipython",
    "version": 3
   },
   "file_extension": ".py",
   "mimetype": "text/x-python",
   "name": "python",
   "nbconvert_exporter": "python",
   "pygments_lexer": "ipython3",
   "version": "3.7.0"
  }
 },
 "nbformat": 4,
 "nbformat_minor": 2
}
