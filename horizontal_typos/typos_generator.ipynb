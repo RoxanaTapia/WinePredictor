{
 "cells": [
  {
   "cell_type": "markdown",
   "metadata": {},
   "source": [
    "<h1> Typos Generator </h1>"
   ]
  },
  {
   "cell_type": "markdown",
   "metadata": {},
   "source": [
    "* <b>Reads ground truth db (<i>df_wine_horizontal_tests.csv</i>)</b>\n",
    "* <b> Checks most influential country based on frequency</b>\n",
    "* <b>Incrementally generates typos from 1 to 100% of data</b>\n",
    "* <b>In each case, stores a new csv file with n typos</b>"
   ]
  },
  {
   "cell_type": "code",
   "execution_count": 51,
   "metadata": {},
   "outputs": [],
   "source": [
    "# imports\n",
    "import copy\n",
    "import time\n",
    "import matplotlib.pyplot as plt\n",
    "from sklearn import metrics\n",
    "from sklearn.model_selection import train_test_split\n",
    "from sklearn.metrics import mean_squared_error\n",
    "from sklearn.model_selection import train_test_split \n",
    "from sklearn import metrics\n",
    "from sklearn import linear_model\n",
    "import pandas as pd \n",
    "import numpy as np\n",
    "from sklearn import metrics  \n",
    "from sklearn.tree import DecisionTreeRegressor\n",
    "from sklearn.model_selection import train_test_split\n",
    "from sklearn.model_selection import GridSearchCV, RandomizedSearchCV\n",
    "from scipy.stats import randint as sp_randint\n",
    "from sklearn.preprocessing import LabelEncoder\n",
    "import random\n",
    "import string\n",
    "\n",
    "%matplotlib inline"
   ]
  },
  {
   "cell_type": "markdown",
   "metadata": {},
   "source": [
    "# Data loader"
   ]
  },
  {
   "cell_type": "code",
   "execution_count": 52,
   "metadata": {},
   "outputs": [
    {
     "data": {
      "text/html": [
       "<div>\n",
       "<style scoped>\n",
       "    .dataframe tbody tr th:only-of-type {\n",
       "        vertical-align: middle;\n",
       "    }\n",
       "\n",
       "    .dataframe tbody tr th {\n",
       "        vertical-align: top;\n",
       "    }\n",
       "\n",
       "    .dataframe thead th {\n",
       "        text-align: right;\n",
       "    }\n",
       "</style>\n",
       "<table border=\"1\" class=\"dataframe\">\n",
       "  <thead>\n",
       "    <tr style=\"text-align: right;\">\n",
       "      <th></th>\n",
       "      <th>index</th>\n",
       "      <th>country</th>\n",
       "      <th>province</th>\n",
       "      <th>region</th>\n",
       "      <th>price</th>\n",
       "      <th>variety</th>\n",
       "      <th>points</th>\n",
       "      <th>year_of_wine</th>\n",
       "    </tr>\n",
       "  </thead>\n",
       "  <tbody>\n",
       "    <tr>\n",
       "      <th>0</th>\n",
       "      <td>0</td>\n",
       "      <td>US</td>\n",
       "      <td>Oregon</td>\n",
       "      <td>Willamette Valley</td>\n",
       "      <td>14.0</td>\n",
       "      <td>Pinot Gris</td>\n",
       "      <td>87</td>\n",
       "      <td>2013</td>\n",
       "    </tr>\n",
       "    <tr>\n",
       "      <th>1</th>\n",
       "      <td>1</td>\n",
       "      <td>US</td>\n",
       "      <td>Michigan</td>\n",
       "      <td>Lake Michigan Shore</td>\n",
       "      <td>13.0</td>\n",
       "      <td>Riesling</td>\n",
       "      <td>87</td>\n",
       "      <td>2013</td>\n",
       "    </tr>\n",
       "    <tr>\n",
       "      <th>2</th>\n",
       "      <td>2</td>\n",
       "      <td>US</td>\n",
       "      <td>Oregon</td>\n",
       "      <td>Willamette Valley</td>\n",
       "      <td>65.0</td>\n",
       "      <td>Pinot Noir</td>\n",
       "      <td>87</td>\n",
       "      <td>2012</td>\n",
       "    </tr>\n",
       "    <tr>\n",
       "      <th>3</th>\n",
       "      <td>3</td>\n",
       "      <td>Spain</td>\n",
       "      <td>Northern Spain</td>\n",
       "      <td>Navarra</td>\n",
       "      <td>15.0</td>\n",
       "      <td>Tempranillo-Merlot</td>\n",
       "      <td>87</td>\n",
       "      <td>2011</td>\n",
       "    </tr>\n",
       "  </tbody>\n",
       "</table>\n",
       "</div>"
      ],
      "text/plain": [
       "   index country        province               region  price  \\\n",
       "0      0      US          Oregon    Willamette Valley   14.0   \n",
       "1      1      US        Michigan  Lake Michigan Shore   13.0   \n",
       "2      2      US          Oregon    Willamette Valley   65.0   \n",
       "3      3   Spain  Northern Spain              Navarra   15.0   \n",
       "\n",
       "              variety  points  year_of_wine  \n",
       "0          Pinot Gris      87          2013  \n",
       "1            Riesling      87          2013  \n",
       "2          Pinot Noir      87          2012  \n",
       "3  Tempranillo-Merlot      87          2011  "
      ]
     },
     "execution_count": 52,
     "metadata": {},
     "output_type": "execute_result"
    }
   ],
   "source": [
    "# Load the Wine Dataset\n",
    "df_wine = pd.read_csv(\"df_wine_horizontal_tests.csv\", encoding = 'utf8', index_col=0)\n",
    "df_wine = df_wine.reset_index()\n",
    "# check data\n",
    "df_wine.head(4)"
   ]
  },
  {
   "cell_type": "markdown",
   "metadata": {},
   "source": [
    "# Most frequent"
   ]
  },
  {
   "cell_type": "code",
   "execution_count": 53,
   "metadata": {},
   "outputs": [
    {
     "name": "stdout",
     "output_type": "stream",
     "text": [
      "['US' 'Spain' 'Italy' 'France' 'Argentina' 'Australia' 'Canada']\n"
     ]
    }
   ],
   "source": [
    "# check distinct countries\n",
    "countries = pd.unique(df_wine['country'])\n",
    "print(countries)"
   ]
  },
  {
   "cell_type": "code",
   "execution_count": 54,
   "metadata": {},
   "outputs": [
    {
     "name": "stdout",
     "output_type": "stream",
     "text": [
      "US           53116\n",
      "France       16319\n",
      "Italy        16069\n",
      "Spain         6059\n",
      "Argentina     3664\n",
      "Australia     2223\n",
      "Canada         253\n",
      "Name: country, dtype: int64\n"
     ]
    }
   ],
   "source": [
    "# todo: check frequencies of country\n",
    "frequencies = df_wine['country'].value_counts()\n",
    "frequencies.sort_values\n",
    "print(frequencies)"
   ]
  },
  {
   "cell_type": "code",
   "execution_count": 55,
   "metadata": {},
   "outputs": [],
   "source": [
    "# name = frequencies.index[0]\n",
    "# value = frequencies[0]\n",
    "# print(\"Most frequent: {name} ({value})\".format(name=name, value=value))"
   ]
  },
  {
   "cell_type": "markdown",
   "metadata": {},
   "source": [
    "# Typos generator"
   ]
  },
  {
   "cell_type": "code",
   "execution_count": 56,
   "metadata": {},
   "outputs": [],
   "source": [
    "def randomize(value, n):\n",
    "    # makes harder to match the original value replacing n of the original chars\n",
    "    letters = string.ascii_letters\n",
    "    indexes = range(0, len(value))\n",
    "    indexes = random.sample(indexes, n)\n",
    "    for index in indexes:\n",
    "        temp = list(value)\n",
    "        temp[index] = random.choice(letters)\n",
    "        value = ''.join(temp)\n",
    "    return value"
   ]
  },
  {
   "cell_type": "code",
   "execution_count": 57,
   "metadata": {},
   "outputs": [],
   "source": [
    "def generate_random_typo(value):\n",
    "    letters = string.ascii_letters\n",
    "    degree = random.randint(1, len(value)) # add at least 1 typo\n",
    "    indexes = range(0, len(value))\n",
    "    indexes = random.sample(indexes, degree)\n",
    "\n",
    "    for index in indexes:\n",
    "        temp = list(value)\n",
    "        temp[index] = temp[index] + random.choice(letters)\n",
    "        value = ''.join(temp)\n",
    "\n",
    "    return randomize(value, 1)\n",
    "        "
   ]
  },
  {
   "cell_type": "code",
   "execution_count": 58,
   "metadata": {},
   "outputs": [],
   "source": [
    "def insert_typos(df, column_name, column_value, n, percent, size):\n",
    "    print(\"[OK] Inserting typos in {} out of {} rows in {}. ({}%)\".format(n, size, column_value, percent))\n",
    "    \n",
    "    ocurrence_indexes = df.index[df[column_name] == column_value].tolist()\n",
    "    \n",
    "    # select random elements \n",
    "    selected_indexes = random.sample(ocurrence_indexes, n)\n",
    "    for index, row in df.iterrows():\n",
    "        if index in selected_indexes:\n",
    "            value = generate_random_typo(column_value)\n",
    "            # print(\"[OK] Generated typo...\", value)\n",
    "            df.at[index, column_name] = value\n",
    "    return df"
   ]
  },
  {
   "cell_type": "code",
   "execution_count": 59,
   "metadata": {
    "scrolled": true
   },
   "outputs": [],
   "source": [
    "# Generates n% of typos in the selected dataframe\n",
    "def generate_dirty_data(df, column_name, column_value, n):\n",
    "    print(\"[OK] Experiment {}: \".format(n))\n",
    "    temp = copy.deepcopy(df)\n",
    "    for i in range(1, n+1):\n",
    "\n",
    "        print(\"*****\"*20)\n",
    "        \n",
    "        start_time = time.time()\n",
    "        \n",
    "        value = df[df[column_name].str.match(column_value)] \n",
    "        value = value.shape[0]\n",
    "        print(value)\n",
    "        \n",
    "        # increment nr of typos by 1%\n",
    "        rows_affected = int((i * value) / 100.0)\n",
    "\n",
    "        # generate typos\n",
    "        aux = copy.deepcopy(temp)\n",
    "        df_wine_typos = insert_typos(aux, column_name, column_value, rows_affected, i, value)\n",
    "\n",
    "        # calculate metrics\n",
    "        elapsed_time = time.time() - start_time\n",
    "        # print(\"Elapsed time: {} sec\".format(int(elapsed_time)))\n",
    "        \n",
    "        # yield results\n",
    "        yield df_wine_typos\n",
    "\n",
    "        print(\"*****\"*20)\n",
    "\n",
    "    print(\"[OK] Finished\")"
   ]
  }
 ],
 "metadata": {
  "kernelspec": {
   "display_name": "Python 3",
   "language": "python",
   "name": "python3"
  },
  "language_info": {
   "codemirror_mode": {
    "name": "ipython",
    "version": 3
   },
   "file_extension": ".py",
   "mimetype": "text/x-python",
   "name": "python",
   "nbconvert_exporter": "python",
   "pygments_lexer": "ipython3",
   "version": "3.7.0"
  }
 },
 "nbformat": 4,
 "nbformat_minor": 2
}
