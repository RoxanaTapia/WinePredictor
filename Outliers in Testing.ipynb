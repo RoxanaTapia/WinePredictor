{
 "cells": [
  {
   "cell_type": "code",
   "execution_count": 25,
   "metadata": {},
   "outputs": [],
   "source": [
    "from copy import copy, deepcopy\n",
    "from sklearn.feature_selection import SelectFromModel\n",
    "from sklearn.ensemble import RandomForestClassifier\n",
    "import matplotlib.pyplot as plt\n",
    "from sklearn import metrics\n",
    "from sklearn.model_selection import train_test_split\n",
    "from sklearn.metrics import mean_squared_error\n",
    "from sklearn.model_selection import GridSearchCV\n",
    "from sklearn.model_selection import cross_val_score\n",
    "from sklearn.model_selection import train_test_split \n",
    "from sklearn import metrics\n",
    "from sklearn.tree import DecisionTreeRegressor  \n",
    "import random\n",
    "\n",
    "import sklearn.linear_model\n",
    "import pandas as pd \n",
    "import numpy as np\n",
    "import sys\n",
    "import re\n",
    "\n",
    "%matplotlib inline"
   ]
  },
  {
   "cell_type": "code",
   "execution_count": 26,
   "metadata": {},
   "outputs": [],
   "source": [
    "# Load the Wine Dataset\n",
    "df_wine = pd.read_csv(\"df_wine.csv\", encoding = 'utf8', index_col=0)"
   ]
  },
  {
   "cell_type": "code",
   "execution_count": 27,
   "metadata": {},
   "outputs": [
    {
     "data": {
      "text/html": [
       "<div>\n",
       "<style scoped>\n",
       "    .dataframe tbody tr th:only-of-type {\n",
       "        vertical-align: middle;\n",
       "    }\n",
       "\n",
       "    .dataframe tbody tr th {\n",
       "        vertical-align: top;\n",
       "    }\n",
       "\n",
       "    .dataframe thead th {\n",
       "        text-align: right;\n",
       "    }\n",
       "</style>\n",
       "<table border=\"1\" class=\"dataframe\">\n",
       "  <thead>\n",
       "    <tr style=\"text-align: right;\">\n",
       "      <th></th>\n",
       "      <th>price</th>\n",
       "      <th>title</th>\n",
       "      <th>points</th>\n",
       "      <th>year_of_wine</th>\n",
       "      <th>v_Abouriou</th>\n",
       "      <th>v_Aglianico</th>\n",
       "      <th>v_Airen</th>\n",
       "      <th>v_Albana</th>\n",
       "      <th>v_Albanello</th>\n",
       "      <th>v_Albariño</th>\n",
       "      <th>...</th>\n",
       "      <th>province_Spanish Islands</th>\n",
       "      <th>province_Tasmania</th>\n",
       "      <th>province_Texas</th>\n",
       "      <th>province_Tuscany</th>\n",
       "      <th>province_Veneto</th>\n",
       "      <th>province_Vermont</th>\n",
       "      <th>province_Victoria</th>\n",
       "      <th>province_Virginia</th>\n",
       "      <th>province_Washington</th>\n",
       "      <th>province_Western Australia</th>\n",
       "    </tr>\n",
       "  </thead>\n",
       "  <tbody>\n",
       "    <tr>\n",
       "      <th>0</th>\n",
       "      <td>14.0</td>\n",
       "      <td>Rainstorm 2013 Pinot Gris (Willamette Valley)</td>\n",
       "      <td>87</td>\n",
       "      <td>2013</td>\n",
       "      <td>0</td>\n",
       "      <td>0</td>\n",
       "      <td>0</td>\n",
       "      <td>0</td>\n",
       "      <td>0</td>\n",
       "      <td>0</td>\n",
       "      <td>...</td>\n",
       "      <td>0</td>\n",
       "      <td>0</td>\n",
       "      <td>0</td>\n",
       "      <td>0</td>\n",
       "      <td>0</td>\n",
       "      <td>0</td>\n",
       "      <td>0</td>\n",
       "      <td>0</td>\n",
       "      <td>0</td>\n",
       "      <td>0</td>\n",
       "    </tr>\n",
       "  </tbody>\n",
       "</table>\n",
       "<p>1 rows × 585 columns</p>\n",
       "</div>"
      ],
      "text/plain": [
       "   price                                          title  points  year_of_wine  \\\n",
       "0   14.0  Rainstorm 2013 Pinot Gris (Willamette Valley)      87          2013   \n",
       "\n",
       "   v_Abouriou  v_Aglianico  v_Airen  v_Albana  v_Albanello  v_Albariño  \\\n",
       "0           0            0        0         0            0           0   \n",
       "\n",
       "              ...              province_Spanish Islands  province_Tasmania  \\\n",
       "0             ...                                     0                  0   \n",
       "\n",
       "   province_Texas  province_Tuscany  province_Veneto  province_Vermont  \\\n",
       "0               0                 0                0                 0   \n",
       "\n",
       "   province_Victoria  province_Virginia  province_Washington  \\\n",
       "0                  0                  0                    0   \n",
       "\n",
       "   province_Western Australia  \n",
       "0                           0  \n",
       "\n",
       "[1 rows x 585 columns]"
      ]
     },
     "execution_count": 27,
     "metadata": {},
     "output_type": "execute_result"
    }
   ],
   "source": [
    "df_wine.head(1)"
   ]
  },
  {
   "cell_type": "markdown",
   "metadata": {},
   "source": [
    "# Data Preparition"
   ]
  },
  {
   "cell_type": "code",
   "execution_count": 28,
   "metadata": {},
   "outputs": [],
   "source": [
    "# DEFINE X and Y VARIABLES\n",
    "df_wine = df_wine[df_wine['year_of_wine'] > 0]\n",
    "df_X = df_wine.drop('points', axis=1)\n",
    "df_X = df_X.drop('title', axis=1) # year was already extracted\n",
    "df_Y = df_wine[['points']]"
   ]
  },
  {
   "cell_type": "markdown",
   "metadata": {},
   "source": [
    "# Test & Train Split"
   ]
  },
  {
   "cell_type": "code",
   "execution_count": 29,
   "metadata": {},
   "outputs": [],
   "source": [
    "from sklearn.model_selection import train_test_split  \n",
    "X_train, X_test, y_train, y_test = train_test_split(df_X, df_Y, test_size=0.3, random_state=0) "
   ]
  },
  {
   "cell_type": "markdown",
   "metadata": {},
   "source": [
    "# HPO with groundtruth"
   ]
  },
  {
   "cell_type": "code",
   "execution_count": 6,
   "metadata": {},
   "outputs": [
    {
     "name": "stdout",
     "output_type": "stream",
     "text": [
      "Fitting 5 folds for each of 20 candidates, totalling 100 fits\n"
     ]
    },
    {
     "name": "stderr",
     "output_type": "stream",
     "text": [
      "[Parallel(n_jobs=1)]: Using backend SequentialBackend with 1 concurrent workers.\n",
      "[Parallel(n_jobs=1)]: Done 100 out of 100 | elapsed:  2.2min finished\n"
     ]
    },
    {
     "data": {
      "text/plain": [
       "({'max_depth': 11, 'min_samples_split': 12}, -5.4972439374636455)"
      ]
     },
     "execution_count": 6,
     "metadata": {},
     "output_type": "execute_result"
    }
   ],
   "source": [
    "# Using Randomized Search instead of a grid search\n",
    "\n",
    "from sklearn.model_selection import GridSearchCV, RandomizedSearchCV\n",
    "from scipy.stats import randint as sp_randint\n",
    "regressor3 = DecisionTreeRegressor()\n",
    "param_dist = {'max_depth': sp_randint(2,16),\n",
    "              'min_samples_split': sp_randint(2,16)}\n",
    "\n",
    "n_iter_search = 20\n",
    "clfrs = RandomizedSearchCV(regressor3, \n",
    "                                   param_distributions=param_dist,\n",
    "                                   scoring='neg_mean_squared_error',\n",
    "                                   cv=5 , n_jobs=1, verbose=1,\n",
    "                                   n_iter=n_iter_search)\n",
    "clfrs.fit(X_train, y_train)\n",
    "clfrs.best_params_, clfrs.best_score_"
   ]
  },
  {
   "cell_type": "markdown",
   "metadata": {},
   "source": [
    "# Decision Tree"
   ]
  },
  {
   "cell_type": "code",
   "execution_count": 9,
   "metadata": {},
   "outputs": [
    {
     "name": "stdout",
     "output_type": "stream",
     "text": [
      "Mean Absolute Error: 1.841139601683168\n",
      "Mean Squared Error: 5.448613811002482\n",
      "Root Mean Squared Error: 2.3342265980410906\n"
     ]
    }
   ],
   "source": [
    "# Best result with Hyperparameter optimisation\n",
    "regressor = DecisionTreeRegressor(max_depth=11, min_samples_split=12)  \n",
    "\n",
    "# Train the model using the training sets\n",
    "regressor.fit(X_train, y_train)\n",
    "\n",
    "# Make predictions using the testing set\n",
    "y_pred = regressor.predict(X_test)\n",
    "\n",
    "# The evaluation metrics\n",
    "from sklearn import metrics  \n",
    "print('Mean Absolute Error:', metrics.mean_absolute_error(y_test, y_pred))  \n",
    "print('Mean Squared Error:', metrics.mean_squared_error(y_test, y_pred))  \n",
    "print('Root Mean Squared Error:', np.sqrt(metrics.mean_squared_error(y_test, y_pred))) "
   ]
  },
  {
   "cell_type": "markdown",
   "metadata": {},
   "source": [
    "# Introduce Errors in Testing"
   ]
  },
  {
   "cell_type": "code",
   "execution_count": 33,
   "metadata": {},
   "outputs": [],
   "source": [
    "# Ground truth for other calculations\n",
    "X_test_gt = X_test.copy()"
   ]
  },
  {
   "cell_type": "code",
   "execution_count": 34,
   "metadata": {},
   "outputs": [
    {
     "data": {
      "text/html": [
       "<div>\n",
       "<style scoped>\n",
       "    .dataframe tbody tr th:only-of-type {\n",
       "        vertical-align: middle;\n",
       "    }\n",
       "\n",
       "    .dataframe tbody tr th {\n",
       "        vertical-align: top;\n",
       "    }\n",
       "\n",
       "    .dataframe thead th {\n",
       "        text-align: right;\n",
       "    }\n",
       "</style>\n",
       "<table border=\"1\" class=\"dataframe\">\n",
       "  <thead>\n",
       "    <tr style=\"text-align: right;\">\n",
       "      <th></th>\n",
       "      <th>year_of_wine</th>\n",
       "    </tr>\n",
       "  </thead>\n",
       "  <tbody>\n",
       "    <tr>\n",
       "      <th>count</th>\n",
       "      <td>29310.000000</td>\n",
       "    </tr>\n",
       "    <tr>\n",
       "      <th>mean</th>\n",
       "      <td>2010.666018</td>\n",
       "    </tr>\n",
       "    <tr>\n",
       "      <th>std</th>\n",
       "      <td>3.550408</td>\n",
       "    </tr>\n",
       "    <tr>\n",
       "      <th>min</th>\n",
       "      <td>1985.000000</td>\n",
       "    </tr>\n",
       "    <tr>\n",
       "      <th>25%</th>\n",
       "      <td>2009.000000</td>\n",
       "    </tr>\n",
       "    <tr>\n",
       "      <th>50%</th>\n",
       "      <td>2011.000000</td>\n",
       "    </tr>\n",
       "    <tr>\n",
       "      <th>75%</th>\n",
       "      <td>2013.000000</td>\n",
       "    </tr>\n",
       "    <tr>\n",
       "      <th>max</th>\n",
       "      <td>2017.000000</td>\n",
       "    </tr>\n",
       "  </tbody>\n",
       "</table>\n",
       "</div>"
      ],
      "text/plain": [
       "       year_of_wine\n",
       "count  29310.000000\n",
       "mean    2010.666018\n",
       "std        3.550408\n",
       "min     1985.000000\n",
       "25%     2009.000000\n",
       "50%     2011.000000\n",
       "75%     2013.000000\n",
       "max     2017.000000"
      ]
     },
     "execution_count": 34,
     "metadata": {},
     "output_type": "execute_result"
    }
   ],
   "source": [
    "X_test[['year_of_wine']].describe()"
   ]
  },
  {
   "cell_type": "code",
   "execution_count": 35,
   "metadata": {},
   "outputs": [],
   "source": [
    "year = X_train[['year_of_wine']].copy()\n",
    "year.columns = ['new_year']\n",
    "# df_wine = pd.concat([year, df_wine], axis=1)\n",
    "# df_wine"
   ]
  },
  {
   "cell_type": "code",
   "execution_count": 36,
   "metadata": {},
   "outputs": [],
   "source": [
    "def introduce_outliers(df):\n",
    "    rates = [0.1, 0.2, 0.3, 0.4, 0.5, 0.6, 0.7, 0.8, 0.9, 1.1, 1.2, 1.3, 1.4, 1.5, 1.6, 1.7, 1.8, 1.9]\n",
    "    # minimum sayi 1940 %0.5 e kadar artabilir\n",
    "    # max sayi 2018 %0.5 e kadar artabilir\n",
    "    j = 0\n",
    "    year_val = 0\n",
    "    for i, row in df.iterrows():\n",
    "        if j%2 == 0:\n",
    "            year_val = row['year_of_wine'] * random.choice(rates)\n",
    "            df.at[i,'year_of_wine'] = year_val\n",
    "        j = j + 1\n",
    "    return df"
   ]
  },
  {
   "cell_type": "code",
   "execution_count": 37,
   "metadata": {},
   "outputs": [],
   "source": [
    "X_test = introduce_outliers(X_test)"
   ]
  },
  {
   "cell_type": "code",
   "execution_count": 38,
   "metadata": {},
   "outputs": [
    {
     "data": {
      "text/plain": [
       "[<matplotlib.lines.Line2D at 0x1a1a83cb38>]"
      ]
     },
     "execution_count": 38,
     "metadata": {},
     "output_type": "execute_result"
    },
    {
     "data": {
      "image/png": "[encoded data removed]",
      "text/plain": [
       "<Figure size 432x288 with 1 Axes>"
      ]
     },
     "metadata": {
      "needs_background": "light"
     },
     "output_type": "display_data"
    }
   ],
   "source": [
    "plt.plot(X_test.groupby(['year_of_wine']).size())"
   ]
  },
  {
   "cell_type": "markdown",
   "metadata": {},
   "source": [
    "# HPO with errors in Testing"
   ]
  },
  {
   "cell_type": "code",
   "execution_count": 15,
   "metadata": {},
   "outputs": [
    {
     "name": "stdout",
     "output_type": "stream",
     "text": [
      "Fitting 5 folds for each of 20 candidates, totalling 100 fits\n"
     ]
    },
    {
     "name": "stderr",
     "output_type": "stream",
     "text": [
      "[Parallel(n_jobs=1)]: Using backend SequentialBackend with 1 concurrent workers.\n",
      "[Parallel(n_jobs=1)]: Done 100 out of 100 | elapsed:  3.5min finished\n"
     ]
    },
    {
     "data": {
      "text/plain": [
       "({'max_depth': 10, 'min_samples_split': 15}, -5.531594330790843)"
      ]
     },
     "execution_count": 15,
     "metadata": {},
     "output_type": "execute_result"
    }
   ],
   "source": [
    "# Using Randomized Search instead of a grid search\n",
    "\n",
    "# combine training and testing\n",
    "tr_data = pd.concat([X_train, X_test], axis=0)\n",
    "te_data = pd.concat([y_train, y_test], axis=0)\n",
    "\n",
    "from sklearn.model_selection import GridSearchCV, RandomizedSearchCV\n",
    "from scipy.stats import randint as sp_randint\n",
    "regressor3 = DecisionTreeRegressor()\n",
    "param_dist = {'max_depth': sp_randint(2,16),\n",
    "              'min_samples_split': sp_randint(2,16)}\n",
    "\n",
    "n_iter_search = 20\n",
    "clfrs = RandomizedSearchCV(regressor3, \n",
    "                                   param_distributions=param_dist,\n",
    "                                   scoring='neg_mean_squared_error',\n",
    "                                   cv=5 , n_jobs=1, verbose=1,\n",
    "                                   n_iter=n_iter_search)\n",
    "clfrs.fit(tr_data, te_data)\n",
    "clfrs.best_params_, clfrs.best_score_"
   ]
  },
  {
   "cell_type": "markdown",
   "metadata": {},
   "source": [
    "# Decision Tree Regressor with Outliers in Testing"
   ]
  },
  {
   "cell_type": "code",
   "execution_count": 17,
   "metadata": {},
   "outputs": [
    {
     "name": "stdout",
     "output_type": "stream",
     "text": [
      "Mean Absolute Error: 1.951533694873603\n",
      "Mean Squared Error: 6.192778224980914\n",
      "Root Mean Squared Error: 2.488529329740944\n"
     ]
    }
   ],
   "source": [
    "# Best result with Hyperparameter optimisation\n",
    "regressor = DecisionTreeRegressor(max_depth = 10, min_samples_split = 15)  \n",
    "\n",
    "# Train the model using the training sets\n",
    "regressor.fit(X_train, y_train)\n",
    "\n",
    "# Make predictions using the testing set\n",
    "y_pred = regressor.predict(X_test)\n",
    "\n",
    "# The evaluation metrics\n",
    "from sklearn import metrics  \n",
    "print('Mean Absolute Error:', metrics.mean_absolute_error(y_test, y_pred))  \n",
    "print('Mean Squared Error:', metrics.mean_squared_error(y_test, y_pred))  \n",
    "print('Root Mean Squared Error:', np.sqrt(metrics.mean_squared_error(y_test, y_pred))) "
   ]
  },
  {
   "cell_type": "markdown",
   "metadata": {},
   "source": [
    "# Outlier Detection"
   ]
  },
  {
   "cell_type": "code",
   "execution_count": 18,
   "metadata": {},
   "outputs": [],
   "source": [
    "mean = np.mean(X_test[['year_of_wine']], axis=0)\n",
    "sd = np.std(X_test[['year_of_wine']], axis=0)"
   ]
  },
  {
   "cell_type": "code",
   "execution_count": 19,
   "metadata": {},
   "outputs": [],
   "source": [
    "def outlier_detection(data):\n",
    "    mean = np.mean(data, axis=0)\n",
    "    sd = np.std(data, axis=0)\n",
    "    final_list = [x for x in data if (x > mean - 2 * sd)]\n",
    "    final_list = [x for x in final_list if (x < mean + 2 * sd)]\n",
    "    return final_list, mean"
   ]
  },
  {
   "cell_type": "code",
   "execution_count": 20,
   "metadata": {},
   "outputs": [],
   "source": [
    "year_outliers = outlier_detection(X_test['year_of_wine'].values)[0]\n",
    "mean = outlier_detection(X_test['year_of_wine'].values)[1]"
   ]
  },
  {
   "cell_type": "code",
   "execution_count": 21,
   "metadata": {},
   "outputs": [
    {
     "data": {
      "text/html": [
       "<div>\n",
       "<style scoped>\n",
       "    .dataframe tbody tr th:only-of-type {\n",
       "        vertical-align: middle;\n",
       "    }\n",
       "\n",
       "    .dataframe tbody tr th {\n",
       "        vertical-align: top;\n",
       "    }\n",
       "\n",
       "    .dataframe thead th {\n",
       "        text-align: right;\n",
       "    }\n",
       "</style>\n",
       "<table border=\"1\" class=\"dataframe\">\n",
       "  <thead>\n",
       "    <tr style=\"text-align: right;\">\n",
       "      <th></th>\n",
       "      <th>price</th>\n",
       "      <th>year_of_wine</th>\n",
       "      <th>v_Abouriou</th>\n",
       "      <th>v_Aglianico</th>\n",
       "      <th>v_Airen</th>\n",
       "      <th>v_Albana</th>\n",
       "      <th>v_Albanello</th>\n",
       "      <th>v_Albariño</th>\n",
       "      <th>v_Albarossa</th>\n",
       "      <th>v_Aleatico</th>\n",
       "      <th>...</th>\n",
       "      <th>province_Spanish Islands</th>\n",
       "      <th>province_Tasmania</th>\n",
       "      <th>province_Texas</th>\n",
       "      <th>province_Tuscany</th>\n",
       "      <th>province_Veneto</th>\n",
       "      <th>province_Vermont</th>\n",
       "      <th>province_Victoria</th>\n",
       "      <th>province_Virginia</th>\n",
       "      <th>province_Washington</th>\n",
       "      <th>province_Western Australia</th>\n",
       "    </tr>\n",
       "  </thead>\n",
       "  <tbody>\n",
       "    <tr>\n",
       "      <th>84805</th>\n",
       "      <td>48.0</td>\n",
       "      <td>1809</td>\n",
       "      <td>0</td>\n",
       "      <td>0</td>\n",
       "      <td>0</td>\n",
       "      <td>0</td>\n",
       "      <td>0</td>\n",
       "      <td>0</td>\n",
       "      <td>0</td>\n",
       "      <td>0</td>\n",
       "      <td>...</td>\n",
       "      <td>0</td>\n",
       "      <td>0</td>\n",
       "      <td>0</td>\n",
       "      <td>0</td>\n",
       "      <td>0</td>\n",
       "      <td>0</td>\n",
       "      <td>0</td>\n",
       "      <td>0</td>\n",
       "      <td>0</td>\n",
       "      <td>0</td>\n",
       "    </tr>\n",
       "    <tr>\n",
       "      <th>4507</th>\n",
       "      <td>35.0</td>\n",
       "      <td>2013</td>\n",
       "      <td>0</td>\n",
       "      <td>0</td>\n",
       "      <td>0</td>\n",
       "      <td>0</td>\n",
       "      <td>0</td>\n",
       "      <td>0</td>\n",
       "      <td>0</td>\n",
       "      <td>0</td>\n",
       "      <td>...</td>\n",
       "      <td>0</td>\n",
       "      <td>0</td>\n",
       "      <td>0</td>\n",
       "      <td>0</td>\n",
       "      <td>0</td>\n",
       "      <td>0</td>\n",
       "      <td>0</td>\n",
       "      <td>0</td>\n",
       "      <td>0</td>\n",
       "      <td>0</td>\n",
       "    </tr>\n",
       "    <tr>\n",
       "      <th>15458</th>\n",
       "      <td>70.0</td>\n",
       "      <td>3820</td>\n",
       "      <td>0</td>\n",
       "      <td>0</td>\n",
       "      <td>0</td>\n",
       "      <td>0</td>\n",
       "      <td>0</td>\n",
       "      <td>0</td>\n",
       "      <td>0</td>\n",
       "      <td>0</td>\n",
       "      <td>...</td>\n",
       "      <td>0</td>\n",
       "      <td>0</td>\n",
       "      <td>0</td>\n",
       "      <td>0</td>\n",
       "      <td>0</td>\n",
       "      <td>0</td>\n",
       "      <td>0</td>\n",
       "      <td>0</td>\n",
       "      <td>0</td>\n",
       "      <td>0</td>\n",
       "    </tr>\n",
       "    <tr>\n",
       "      <th>57872</th>\n",
       "      <td>17.0</td>\n",
       "      <td>2005</td>\n",
       "      <td>0</td>\n",
       "      <td>0</td>\n",
       "      <td>0</td>\n",
       "      <td>0</td>\n",
       "      <td>0</td>\n",
       "      <td>0</td>\n",
       "      <td>0</td>\n",
       "      <td>0</td>\n",
       "      <td>...</td>\n",
       "      <td>0</td>\n",
       "      <td>0</td>\n",
       "      <td>0</td>\n",
       "      <td>0</td>\n",
       "      <td>0</td>\n",
       "      <td>0</td>\n",
       "      <td>0</td>\n",
       "      <td>0</td>\n",
       "      <td>0</td>\n",
       "      <td>0</td>\n",
       "    </tr>\n",
       "    <tr>\n",
       "      <th>6460</th>\n",
       "      <td>20.0</td>\n",
       "      <td>403</td>\n",
       "      <td>0</td>\n",
       "      <td>0</td>\n",
       "      <td>0</td>\n",
       "      <td>0</td>\n",
       "      <td>0</td>\n",
       "      <td>0</td>\n",
       "      <td>0</td>\n",
       "      <td>0</td>\n",
       "      <td>...</td>\n",
       "      <td>0</td>\n",
       "      <td>0</td>\n",
       "      <td>0</td>\n",
       "      <td>0</td>\n",
       "      <td>0</td>\n",
       "      <td>0</td>\n",
       "      <td>0</td>\n",
       "      <td>0</td>\n",
       "      <td>0</td>\n",
       "      <td>0</td>\n",
       "    </tr>\n",
       "  </tbody>\n",
       "</table>\n",
       "<p>5 rows × 583 columns</p>\n",
       "</div>"
      ],
      "text/plain": [
       "       price  year_of_wine  v_Abouriou  v_Aglianico  v_Airen  v_Albana  \\\n",
       "84805   48.0          1809           0            0        0         0   \n",
       "4507    35.0          2013           0            0        0         0   \n",
       "15458   70.0          3820           0            0        0         0   \n",
       "57872   17.0          2005           0            0        0         0   \n",
       "6460    20.0           403           0            0        0         0   \n",
       "\n",
       "       v_Albanello  v_Albariño  v_Albarossa  v_Aleatico  \\\n",
       "84805            0           0            0           0   \n",
       "4507             0           0            0           0   \n",
       "15458            0           0            0           0   \n",
       "57872            0           0            0           0   \n",
       "6460             0           0            0           0   \n",
       "\n",
       "                  ...              province_Spanish Islands  \\\n",
       "84805             ...                                     0   \n",
       "4507              ...                                     0   \n",
       "15458             ...                                     0   \n",
       "57872             ...                                     0   \n",
       "6460              ...                                     0   \n",
       "\n",
       "       province_Tasmania  province_Texas  province_Tuscany  province_Veneto  \\\n",
       "84805                  0               0                 0                0   \n",
       "4507                   0               0                 0                0   \n",
       "15458                  0               0                 0                0   \n",
       "57872                  0               0                 0                0   \n",
       "6460                   0               0                 0                0   \n",
       "\n",
       "       province_Vermont  province_Victoria  province_Virginia  \\\n",
       "84805                 0                  0                  0   \n",
       "4507                  0                  0                  0   \n",
       "15458                 0                  0                  0   \n",
       "57872                 0                  0                  0   \n",
       "6460                  0                  0                  0   \n",
       "\n",
       "       province_Washington  province_Western Australia  \n",
       "84805                    0                           0  \n",
       "4507                     0                           0  \n",
       "15458                    0                           0  \n",
       "57872                    0                           0  \n",
       "6460                     0                           0  \n",
       "\n",
       "[5 rows x 583 columns]"
      ]
     },
     "execution_count": 21,
     "metadata": {},
     "output_type": "execute_result"
    }
   ],
   "source": [
    "X_test.head()"
   ]
  },
  {
   "cell_type": "code",
   "execution_count": 22,
   "metadata": {},
   "outputs": [],
   "source": [
    "min_year = min(year_outliers)\n",
    "max_year = max(year_outliers)\n",
    "\n",
    "training_data = pd.concat([X_train, y_train], axis=1)\n",
    "\n",
    "training_cleaned = training_data.drop(training_data[training_data.year_of_wine < min_year].index)\n",
    "training_cleaned = training_cleaned.drop(training_cleaned[training_cleaned.year_of_wine > max_year].index)\n",
    "\n",
    "X_train_outlier_cleaned = training_cleaned[training_cleaned.columns[:-1].tolist()]\n",
    "y_train_outlier_cleaned = training_cleaned['points'].values.reshape(-1, 1)"
   ]
  },
  {
   "cell_type": "code",
   "execution_count": 23,
   "metadata": {},
   "outputs": [],
   "source": [
    "min_year = min(year_outliers)\n",
    "max_year = max(year_outliers)\n",
    "\n",
    "testing_data = pd.concat([X_test, y_test], axis=1)\n",
    "\n",
    "testing_cleaned = testing_data.drop(testing_data[testing_data.year_of_wine < min_year].index)\n",
    "testing_cleaned = testing_cleaned.drop(testing_cleaned[testing_cleaned.year_of_wine > max_year].index)\n",
    "\n",
    "X_test_outlier_cleaned = testing_cleaned[testing_cleaned.columns[:-1].tolist()]\n",
    "#y_test_outlier_cleaned = testing_cleaned['points'].values.reshape(-1, 1)\n",
    "y_test_outlier_cleaned = testing_cleaned.filter(['points'], axis=1)"
   ]
  },
  {
   "cell_type": "markdown",
   "metadata": {},
   "source": [
    "# PRECISION & RECALL & RMSE FOR ERRORS"
   ]
  },
  {
   "cell_type": "code",
   "execution_count": null,
   "metadata": {},
   "outputs": [],
   "source": []
  },
  {
   "cell_type": "code",
   "execution_count": null,
   "metadata": {},
   "outputs": [],
   "source": []
  },
  {
   "cell_type": "code",
   "execution_count": null,
   "metadata": {},
   "outputs": [],
   "source": []
  },
  {
   "cell_type": "markdown",
   "metadata": {},
   "source": [
    "# HPO with cleaned data"
   ]
  },
  {
   "cell_type": "code",
   "execution_count": 24,
   "metadata": {},
   "outputs": [
    {
     "name": "stdout",
     "output_type": "stream",
     "text": [
      "Fitting 5 folds for each of 20 candidates, totalling 100 fits\n"
     ]
    },
    {
     "name": "stderr",
     "output_type": "stream",
     "text": [
      "[Parallel(n_jobs=1)]: Using backend SequentialBackend with 1 concurrent workers.\n",
      "[Parallel(n_jobs=1)]: Done 100 out of 100 | elapsed:  3.1min finished\n"
     ]
    },
    {
     "data": {
      "text/plain": [
       "({'max_depth': 10, 'min_samples_split': 15}, -5.539306951464277)"
      ]
     },
     "execution_count": 24,
     "metadata": {},
     "output_type": "execute_result"
    }
   ],
   "source": [
    "# Using Randomized Search instead of a grid search\n",
    "\n",
    "# combine training and testing\n",
    "tr_data = pd.concat([X_train, X_test_outlier_cleaned], axis=0)\n",
    "te_data = pd.concat([y_train, y_test_outlier_cleaned], axis=0)\n",
    "\n",
    "from sklearn.model_selection import GridSearchCV, RandomizedSearchCV\n",
    "from scipy.stats import randint as sp_randint\n",
    "regressor3 = DecisionTreeRegressor()\n",
    "param_dist = {'max_depth': sp_randint(2,16),\n",
    "              'min_samples_split': sp_randint(2,16)}\n",
    "\n",
    "n_iter_search = 20\n",
    "clfrs = RandomizedSearchCV(regressor3, \n",
    "                                   param_distributions=param_dist,\n",
    "                                   scoring='neg_mean_squared_error',\n",
    "                                   cv=5 , n_jobs=1, verbose=1,\n",
    "                                   n_iter=n_iter_search)\n",
    "clfrs.fit(tr_data, te_data)\n",
    "clfrs.best_params_, clfrs.best_score_"
   ]
  },
  {
   "cell_type": "markdown",
   "metadata": {},
   "source": [
    "# Decision Tree Regressor with Cleaned Data"
   ]
  },
  {
   "cell_type": "code",
   "execution_count": 46,
   "metadata": {},
   "outputs": [
    {
     "name": "stdout",
     "output_type": "stream",
     "text": [
      "Mean Absolute Error: 1.9270191555857648\n",
      "Mean Squared Error: 6.0285675817265725\n",
      "Root Mean Squared Error: 2.455314151331062\n"
     ]
    }
   ],
   "source": [
    "# Best result with Hyperparameter optimisation\n",
    "regressor = DecisionTreeRegressor(max_depth=9, min_samples_split=10)  \n",
    "\n",
    "# Train the model using the training sets\n",
    "regressor.fit(X_train, y_train)\n",
    "\n",
    "# Make predictions using the testing set\n",
    "y_pred = regressor.predict(X_test_outlier_cleaned)\n",
    "\n",
    "# The evaluation metrics\n",
    "from sklearn import metrics  \n",
    "print('Mean Absolute Error:', metrics.mean_absolute_error(y_test_outlier_cleaned, y_pred))  \n",
    "print('Mean Squared Error:', metrics.mean_squared_error(y_test_outlier_cleaned, y_pred))  \n",
    "print('Root Mean Squared Error:', np.sqrt(metrics.mean_squared_error(y_test_outlier_cleaned, y_pred))) "
   ]
  },
  {
   "cell_type": "code",
   "execution_count": null,
   "metadata": {},
   "outputs": [],
   "source": []
  }
 ],
 "metadata": {
  "kernelspec": {
   "display_name": "Python 3",
   "language": "python",
   "name": "python3"
  },
  "language_info": {
   "codemirror_mode": {
    "name": "ipython",
    "version": 3
   },
   "file_extension": ".py",
   "mimetype": "text/x-python",
   "name": "python",
   "nbconvert_exporter": "python",
   "pygments_lexer": "ipython3",
   "version": "3.6.6"
  }
 },
 "nbformat": 4,
 "nbformat_minor": 2
}
