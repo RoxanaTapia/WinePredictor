{
 "cells": [
  {
   "cell_type": "code",
   "execution_count": 109,
   "metadata": {},
   "outputs": [],
   "source": [
    "from copy import copy, deepcopy\n",
    "from sklearn.feature_selection import SelectFromModel\n",
    "from sklearn.ensemble import RandomForestClassifier\n",
    "import matplotlib.pyplot as plt\n",
    "from sklearn.linear_model import LinearRegression\n",
    "from sklearn import metrics\n",
    "from sklearn.model_selection import train_test_split\n",
    "from sklearn.metrics import mean_squared_error\n",
    "from sklearn.model_selection import GridSearchCV\n",
    "from sklearn.model_selection import cross_val_score\n",
    "from sklearn.model_selection import train_test_split \n",
    "from sklearn import metrics\n",
    "\n",
    "import pandas as pd \n",
    "import numpy as np\n",
    "import sys\n",
    "import re\n",
    "%matplotlib inline\n"
   ]
  },
  {
   "cell_type": "code",
   "execution_count": 110,
   "metadata": {},
   "outputs": [],
   "source": [
    "# # Load the Wine Dataset\n",
    "df_wine = pd.read_csv(\"data/winemag-data-130k-v2.csv\", encoding = 'utf8', index_col=0)\n",
    "df_wine = df_wine.reset_index()"
   ]
  },
  {
   "cell_type": "code",
   "execution_count": 111,
   "metadata": {},
   "outputs": [
    {
     "name": "stdout",
     "output_type": "stream",
     "text": [
      "index                      int64\n",
      "country                   object\n",
      "description               object\n",
      "designation               object\n",
      "points                     int64\n",
      "price                    float64\n",
      "province                  object\n",
      "region_1                  object\n",
      "region_2                  object\n",
      "taster_name               object\n",
      "taster_twitter_handle     object\n",
      "title                     object\n",
      "variety                   object\n",
      "winery                    object\n",
      "dtype: object\n"
     ]
    }
   ],
   "source": [
    "print(df_wine.dtypes)"
   ]
  },
  {
   "cell_type": "code",
   "execution_count": 112,
   "metadata": {},
   "outputs": [
    {
     "data": {
      "text/plain": [
       "index                        0\n",
       "country                     63\n",
       "description                  0\n",
       "designation              37465\n",
       "points                       0\n",
       "price                     8996\n",
       "province                    63\n",
       "region_1                 21247\n",
       "region_2                 79460\n",
       "taster_name              26244\n",
       "taster_twitter_handle    31213\n",
       "title                        0\n",
       "variety                      1\n",
       "winery                       0\n",
       "dtype: int64"
      ]
     },
     "execution_count": 112,
     "metadata": {},
     "output_type": "execute_result"
    }
   ],
   "source": [
    "# Finding the number of rows with NULL values\n",
    "df_wine.isnull().sum()"
   ]
  },
  {
   "cell_type": "code",
   "execution_count": 113,
   "metadata": {},
   "outputs": [],
   "source": [
    "# DROP region_2 column since most of the records NULL and we have region_1\n",
    "df_wine = df_wine.drop('region_2', 1)"
   ]
  },
  {
   "cell_type": "code",
   "execution_count": 114,
   "metadata": {},
   "outputs": [
    {
     "data": {
      "text/plain": [
       "(52106, 13)"
      ]
     },
     "execution_count": 114,
     "metadata": {},
     "output_type": "execute_result"
    }
   ],
   "source": [
    "# DROP rows with NULL values\n",
    "df_wine=df_wine.dropna()\n",
    "df_wine.shape"
   ]
  },
  {
   "cell_type": "code",
   "execution_count": 115,
   "metadata": {},
   "outputs": [
    {
     "data": {
      "text/plain": [
       "count    52106.000000\n",
       "mean        39.744847\n",
       "std         36.662203\n",
       "min          4.000000\n",
       "25%         20.000000\n",
       "50%         30.000000\n",
       "75%         50.000000\n",
       "max       2013.000000\n",
       "Name: price, dtype: float64"
      ]
     },
     "execution_count": 115,
     "metadata": {},
     "output_type": "execute_result"
    }
   ],
   "source": [
    "df_wine['price'].describe()"
   ]
  },
  {
   "cell_type": "code",
   "execution_count": 116,
   "metadata": {},
   "outputs": [
    {
     "name": "stdout",
     "output_type": "stream",
     "text": [
      "418\n"
     ]
    },
    {
     "name": "stderr",
     "output_type": "stream",
     "text": [
      "/Users/roxana/.virtualenvs/dojo3/lib/python3.7/site-packages/ipykernel_launcher.py:8: SettingWithCopyWarning: \n",
      "A value is trying to be set on a copy of a slice from a DataFrame.\n",
      "Try using .loc[row_indexer,col_indexer] = value instead\n",
      "\n",
      "See the caveats in the documentation: http://pandas.pydata.org/pandas-docs/stable/indexing.html#indexing-view-versus-copy\n",
      "  \n"
     ]
    }
   ],
   "source": [
    "from sklearn.preprocessing import LabelEncoder\n",
    "#Auto encodes any dataframe column of type category or object.\n",
    "def dummyEncode(df):\n",
    "        columnsToEncode = list(df.select_dtypes(include=['category','object']))\n",
    "        le = LabelEncoder()\n",
    "        for feature in columnsToEncode:\n",
    "            try:\n",
    "                df[feature] = le.fit_transform(df[feature])\n",
    "            except:\n",
    "                print('Error encoding '+feature)\n",
    "        return df\n",
    "    \n",
    "df_dummy = dummyEncode(df_wine[['country','variety']])\n",
    "\n",
    "df_wine = df_wine.drop('country', axis=1) \n",
    "df_wine = df_wine.drop('variety', axis=1) \n",
    "df_wine = pd.concat([df_wine, df_dummy], axis=1) \n",
    "# print(df_wine.describe())\n",
    "print(max(df_wine['variety'].unique()))\n"
   ]
  },
  {
   "cell_type": "code",
   "execution_count": 117,
   "metadata": {},
   "outputs": [],
   "source": [
    "# DEFINE X and Y VARIABLES\n",
    "# skip index and region_2 from df_X\n",
    "df_X = df_wine[['country', 'price', 'variety']]\n",
    "# df_X = df_wine[['country', 'description', 'designation', 'price', 'province', 'region_1', 'taster_name', 'taster_twitter_handle', 'title', 'variety', 'winery']]\n",
    "df_Y = df_wine[['points']]\n",
    "\n",
    "X_train, X_test, y_train, y_test = train_test_split(df_X, df_Y, test_size=0.20)"
   ]
  },
  {
   "cell_type": "code",
   "execution_count": 118,
   "metadata": {},
   "outputs": [
    {
     "name": "stdout",
     "output_type": "stream",
     "text": [
      "[(2.6423483410026654, 'price'), (2.935891643951412, 'country'), (2.9592013670852215, 'variety')]\n"
     ]
    }
   ],
   "source": [
    "from sklearn import linear_model\n",
    "\n",
    "lm = linear_model.LinearRegression()\n",
    "scores = []\n",
    "\n",
    "num_features = len(df_X.columns)\n",
    "for i in range(num_features):\n",
    "    col = df_X.columns[i]\n",
    "    scores_col = cross_val_score(lm, df_X[col].values.reshape(-1,1), df_Y.values.ravel(), cv=10, scoring='neg_mean_squared_error')\n",
    "    best_score = np.mean(np.sqrt(-scores_col))\n",
    "    scores.append((best_score, col))\n",
    "\n",
    "print(sorted(scores, reverse = False))\n"
   ]
  },
  {
   "cell_type": "markdown",
   "metadata": {},
   "source": [
    "# Convert categorical COUNTRY column to Numeric"
   ]
  },
  {
   "cell_type": "code",
   "execution_count": 119,
   "metadata": {},
   "outputs": [
    {
     "data": {
      "text/plain": [
       "array([6, 5, 4, 3, 0, 1, 2])"
      ]
     },
     "execution_count": 119,
     "metadata": {},
     "output_type": "execute_result"
    }
   ],
   "source": [
    "df_wine['country'].unique()"
   ]
  },
  {
   "cell_type": "code",
   "execution_count": 120,
   "metadata": {},
   "outputs": [
    {
     "ename": "AttributeError",
     "evalue": "Can only use .str accessor with string values, which use np.object_ dtype in pandas",
     "output_type": "error",
     "traceback": [
      "\u001b[0;31m---------------------------------------------------------------------------\u001b[0m",
      "\u001b[0;31mAttributeError\u001b[0m                            Traceback (most recent call last)",
      "\u001b[0;32m<ipython-input-120-84445476b245>\u001b[0m in \u001b[0;36m<module>\u001b[0;34m()\u001b[0m\n\u001b[0;32m----> 1\u001b[0;31m \u001b[0mdf_country\u001b[0m \u001b[0;34m=\u001b[0m \u001b[0mdf_wine\u001b[0m\u001b[0;34m.\u001b[0m\u001b[0mcountry\u001b[0m\u001b[0;34m.\u001b[0m\u001b[0mstr\u001b[0m\u001b[0;34m.\u001b[0m\u001b[0mget_dummies\u001b[0m\u001b[0;34m(\u001b[0m\u001b[0;34m)\u001b[0m \u001b[0;31m# get the pivot of the country attribte\u001b[0m\u001b[0;34m\u001b[0m\u001b[0m\n\u001b[0m\u001b[1;32m      2\u001b[0m \u001b[0mdf_country\u001b[0m\u001b[0;34m.\u001b[0m\u001b[0mcolumns\u001b[0m \u001b[0;34m=\u001b[0m \u001b[0;34m[\u001b[0m\u001b[0;34m'from_'\u001b[0m \u001b[0;34m+\u001b[0m \u001b[0mcol\u001b[0m \u001b[0;32mfor\u001b[0m \u001b[0mcol\u001b[0m \u001b[0;32min\u001b[0m \u001b[0mdf_country\u001b[0m\u001b[0;34m.\u001b[0m\u001b[0mcolumns\u001b[0m\u001b[0;34m]\u001b[0m \u001b[0;31m# naming the columns\u001b[0m\u001b[0;34m\u001b[0m\u001b[0m\n\u001b[1;32m      3\u001b[0m \u001b[0mdf_wine\u001b[0m \u001b[0;34m=\u001b[0m \u001b[0mpd\u001b[0m\u001b[0;34m.\u001b[0m\u001b[0mconcat\u001b[0m\u001b[0;34m(\u001b[0m\u001b[0;34m[\u001b[0m\u001b[0mdf_wine\u001b[0m\u001b[0;34m,\u001b[0m \u001b[0mdf_country\u001b[0m\u001b[0;34m]\u001b[0m\u001b[0;34m,\u001b[0m \u001b[0maxis\u001b[0m\u001b[0;34m=\u001b[0m\u001b[0;36m1\u001b[0m\u001b[0;34m)\u001b[0m \u001b[0;31m# combine main dataframe with country matrix dataframe\u001b[0m\u001b[0;34m\u001b[0m\u001b[0m\n\u001b[1;32m      4\u001b[0m \u001b[0mdf_wine\u001b[0m \u001b[0;34m=\u001b[0m \u001b[0mdf_wine\u001b[0m\u001b[0;34m.\u001b[0m\u001b[0mdrop\u001b[0m\u001b[0;34m(\u001b[0m\u001b[0;34m'country'\u001b[0m\u001b[0;34m,\u001b[0m \u001b[0maxis\u001b[0m\u001b[0;34m=\u001b[0m\u001b[0;36m1\u001b[0m\u001b[0;34m)\u001b[0m \u001b[0;31m# drop the country attribute since different attributes per country value\u001b[0m\u001b[0;34m\u001b[0m\u001b[0m\n\u001b[1;32m      5\u001b[0m \u001b[0mdf_wine\u001b[0m\u001b[0;34m.\u001b[0m\u001b[0mhead\u001b[0m\u001b[0;34m(\u001b[0m\u001b[0;36m3\u001b[0m\u001b[0;34m)\u001b[0m\u001b[0;34m\u001b[0m\u001b[0m\n",
      "\u001b[0;32m~/.virtualenvs/dojo3/lib/python3.7/site-packages/pandas/core/generic.py\u001b[0m in \u001b[0;36m__getattr__\u001b[0;34m(self, name)\u001b[0m\n\u001b[1;32m   4370\u001b[0m         if (name in self._internal_names_set or name in self._metadata or\n\u001b[1;32m   4371\u001b[0m                 name in self._accessors):\n\u001b[0;32m-> 4372\u001b[0;31m             \u001b[0;32mreturn\u001b[0m \u001b[0mobject\u001b[0m\u001b[0;34m.\u001b[0m\u001b[0m__getattribute__\u001b[0m\u001b[0;34m(\u001b[0m\u001b[0mself\u001b[0m\u001b[0;34m,\u001b[0m \u001b[0mname\u001b[0m\u001b[0;34m)\u001b[0m\u001b[0;34m\u001b[0m\u001b[0m\n\u001b[0m\u001b[1;32m   4373\u001b[0m         \u001b[0;32melse\u001b[0m\u001b[0;34m:\u001b[0m\u001b[0;34m\u001b[0m\u001b[0m\n\u001b[1;32m   4374\u001b[0m             \u001b[0;32mif\u001b[0m \u001b[0mself\u001b[0m\u001b[0;34m.\u001b[0m\u001b[0m_info_axis\u001b[0m\u001b[0;34m.\u001b[0m\u001b[0m_can_hold_identifiers_and_holds_name\u001b[0m\u001b[0;34m(\u001b[0m\u001b[0mname\u001b[0m\u001b[0;34m)\u001b[0m\u001b[0;34m:\u001b[0m\u001b[0;34m\u001b[0m\u001b[0m\n",
      "\u001b[0;32m~/.virtualenvs/dojo3/lib/python3.7/site-packages/pandas/core/accessor.py\u001b[0m in \u001b[0;36m__get__\u001b[0;34m(self, obj, cls)\u001b[0m\n\u001b[1;32m    131\u001b[0m             \u001b[0;31m# we're accessing the attribute of the class, i.e., Dataset.geo\u001b[0m\u001b[0;34m\u001b[0m\u001b[0;34m\u001b[0m\u001b[0m\n\u001b[1;32m    132\u001b[0m             \u001b[0;32mreturn\u001b[0m \u001b[0mself\u001b[0m\u001b[0;34m.\u001b[0m\u001b[0m_accessor\u001b[0m\u001b[0;34m\u001b[0m\u001b[0m\n\u001b[0;32m--> 133\u001b[0;31m         \u001b[0maccessor_obj\u001b[0m \u001b[0;34m=\u001b[0m \u001b[0mself\u001b[0m\u001b[0;34m.\u001b[0m\u001b[0m_accessor\u001b[0m\u001b[0;34m(\u001b[0m\u001b[0mobj\u001b[0m\u001b[0;34m)\u001b[0m\u001b[0;34m\u001b[0m\u001b[0m\n\u001b[0m\u001b[1;32m    134\u001b[0m         \u001b[0;31m# Replace the property with the accessor object. Inspired by:\u001b[0m\u001b[0;34m\u001b[0m\u001b[0;34m\u001b[0m\u001b[0m\n\u001b[1;32m    135\u001b[0m         \u001b[0;31m# http://www.pydanny.com/cached-property.html\u001b[0m\u001b[0;34m\u001b[0m\u001b[0;34m\u001b[0m\u001b[0m\n",
      "\u001b[0;32m~/.virtualenvs/dojo3/lib/python3.7/site-packages/pandas/core/strings.py\u001b[0m in \u001b[0;36m__init__\u001b[0;34m(self, data)\u001b[0m\n\u001b[1;32m   1893\u001b[0m \u001b[0;34m\u001b[0m\u001b[0m\n\u001b[1;32m   1894\u001b[0m     \u001b[0;32mdef\u001b[0m \u001b[0m__init__\u001b[0m\u001b[0;34m(\u001b[0m\u001b[0mself\u001b[0m\u001b[0;34m,\u001b[0m \u001b[0mdata\u001b[0m\u001b[0;34m)\u001b[0m\u001b[0;34m:\u001b[0m\u001b[0;34m\u001b[0m\u001b[0m\n\u001b[0;32m-> 1895\u001b[0;31m         \u001b[0mself\u001b[0m\u001b[0;34m.\u001b[0m\u001b[0m_validate\u001b[0m\u001b[0;34m(\u001b[0m\u001b[0mdata\u001b[0m\u001b[0;34m)\u001b[0m\u001b[0;34m\u001b[0m\u001b[0m\n\u001b[0m\u001b[1;32m   1896\u001b[0m         \u001b[0mself\u001b[0m\u001b[0;34m.\u001b[0m\u001b[0m_is_categorical\u001b[0m \u001b[0;34m=\u001b[0m \u001b[0mis_categorical_dtype\u001b[0m\u001b[0;34m(\u001b[0m\u001b[0mdata\u001b[0m\u001b[0;34m)\u001b[0m\u001b[0;34m\u001b[0m\u001b[0m\n\u001b[1;32m   1897\u001b[0m \u001b[0;34m\u001b[0m\u001b[0m\n",
      "\u001b[0;32m~/.virtualenvs/dojo3/lib/python3.7/site-packages/pandas/core/strings.py\u001b[0m in \u001b[0;36m_validate\u001b[0;34m(data)\u001b[0m\n\u001b[1;32m   1915\u001b[0m             \u001b[0;31m# (instead of test for object dtype), but that isn't practical for\u001b[0m\u001b[0;34m\u001b[0m\u001b[0;34m\u001b[0m\u001b[0m\n\u001b[1;32m   1916\u001b[0m             \u001b[0;31m# performance reasons until we have a str dtype (GH 9343)\u001b[0m\u001b[0;34m\u001b[0m\u001b[0;34m\u001b[0m\u001b[0m\n\u001b[0;32m-> 1917\u001b[0;31m             raise AttributeError(\"Can only use .str accessor with string \"\n\u001b[0m\u001b[1;32m   1918\u001b[0m                                  \u001b[0;34m\"values, which use np.object_ dtype in \"\u001b[0m\u001b[0;34m\u001b[0m\u001b[0m\n\u001b[1;32m   1919\u001b[0m                                  \"pandas\")\n",
      "\u001b[0;31mAttributeError\u001b[0m: Can only use .str accessor with string values, which use np.object_ dtype in pandas"
     ]
    }
   ],
   "source": [
    "df_country = df_wine.country.str.get_dummies() # get the pivot of the country attribte\n",
    "df_country.columns = ['from_' + col for col in df_country.columns] # naming the columns\n",
    "df_wine = pd.concat([df_wine, df_country], axis=1) # combine main dataframe with country matrix dataframe\n",
    "df_wine = df_wine.drop('country', axis=1) # drop the country attribute since different attributes per country value\n",
    "df_wine.head(3)"
   ]
  },
  {
   "cell_type": "code",
   "execution_count": 19,
   "metadata": {},
   "outputs": [
    {
     "name": "stdout",
     "output_type": "stream",
     "text": [
      "index                      int64\n",
      "description               object\n",
      "designation               object\n",
      "points                     int64\n",
      "price                    float64\n",
      "province                  object\n",
      "region_1                  object\n",
      "taster_name               object\n",
      "taster_twitter_handle     object\n",
      "title                     object\n",
      "variety                   object\n",
      "winery                    object\n",
      "from_Argentina             int64\n",
      "from_Australia             int64\n",
      "from_Canada                int64\n",
      "from_France                int64\n",
      "from_Italy                 int64\n",
      "from_Spain                 int64\n",
      "from_US                    int64\n",
      "dtype: object\n"
     ]
    }
   ],
   "source": [
    "print(df_wine.dtypes)"
   ]
  },
  {
   "cell_type": "markdown",
   "metadata": {},
   "source": [
    "<h1>Extracting Year from Title</h1>"
   ]
  },
  {
   "cell_type": "code",
   "execution_count": 45,
   "metadata": {},
   "outputs": [
    {
     "data": {
      "text/plain": [
       "array(['2012', '2011', '2013', '2010', '2007', '2009', '2015', '2014',\n",
       "       nan, '2016', '2', '2006', '46', '2008', '1887', '2000', '2002',\n",
       "       '2001', '1999', '772', '1', '2003', '2005', '2004', '2017', '14',\n",
       "       '41', '3', '012', '1996', '33', '1492', '1898', '1997', '1998',\n",
       "       '7200', '7', '12', '66', '5', '9', '6', '42', '1929', '075', '17',\n",
       "       '1994', '10', '39', '4', '21', '38', '1995', '1988', '1992',\n",
       "       '1827', '460', '735', '1872', '109', '204', '150', '50', '1877',\n",
       "       '1875', '30', '1852', '1000', '1868', '15', '16', '360', '29',\n",
       "       '1882', '51', '1989', '375', '158', '1860', '69', '1947', '13',\n",
       "       '1991', '1985', '1927', '1904', '1847', '1856', '736', '010',\n",
       "       '1752', '18401', '100', '24', '1607', '813', '44', '1978', '1919',\n",
       "       '1986', '013', '09', '1990', '20', '500', '61', '1821', '1993',\n",
       "       '23', '555', '428', '18', '999', '36', '01', '25', '34', '1945',\n",
       "       '31', '88', '26', '733'], dtype=object)"
      ]
     },
     "execution_count": 45,
     "metadata": {},
     "output_type": "execute_result"
    }
   ],
   "source": [
    "# REGEX: Extract first numbers from Title - FAILED BECAUSE THERE ARE MANY NUMBERS IN TITLES\n",
    "df = pd.DataFrame(df_wine['title'])\n",
    "df['year'] = df['title'].str.extract('(\\d+)')\n",
    "df.year.unique()"
   ]
  },
  {
   "cell_type": "code",
   "execution_count": 46,
   "metadata": {},
   "outputs": [],
   "source": [
    "# FUNCTION: FIND ALL NUMBERS IN THE TITLE, ADD THEM TO A LIST VARIABLE\n",
    "def regex(x):\n",
    "    L = re.findall(r'\\d+', str(x))\n",
    "    L_str = \",\".join(str(x) for x in L)\n",
    "    return str(L_str)"
   ]
  },
  {
   "cell_type": "code",
   "execution_count": 47,
   "metadata": {},
   "outputs": [],
   "source": [
    "df['title_num_values'] = df['title'].apply(regex)"
   ]
  },
  {
   "cell_type": "code",
   "execution_count": 48,
   "metadata": {},
   "outputs": [
    {
     "data": {
      "text/html": [
       "<div>\n",
       "<style scoped>\n",
       "    .dataframe tbody tr th:only-of-type {\n",
       "        vertical-align: middle;\n",
       "    }\n",
       "\n",
       "    .dataframe tbody tr th {\n",
       "        vertical-align: top;\n",
       "    }\n",
       "\n",
       "    .dataframe thead th {\n",
       "        text-align: right;\n",
       "    }\n",
       "</style>\n",
       "<table border=\"1\" class=\"dataframe\">\n",
       "  <thead>\n",
       "    <tr style=\"text-align: right;\">\n",
       "      <th></th>\n",
       "      <th>title</th>\n",
       "      <th>year</th>\n",
       "      <th>title_num_values</th>\n",
       "      <th>num_count</th>\n",
       "    </tr>\n",
       "  </thead>\n",
       "  <tbody>\n",
       "    <tr>\n",
       "      <th>4</th>\n",
       "      <td>Sweet Cheeks 2012 Vintner's Reserve Wild Child...</td>\n",
       "      <td>2012</td>\n",
       "      <td>2012</td>\n",
       "      <td>1</td>\n",
       "    </tr>\n",
       "    <tr>\n",
       "      <th>5</th>\n",
       "      <td>Tandem 2011 Ars In Vitro Tempranillo-Merlot (N...</td>\n",
       "      <td>2011</td>\n",
       "      <td>2011</td>\n",
       "      <td>1</td>\n",
       "    </tr>\n",
       "    <tr>\n",
       "      <th>6</th>\n",
       "      <td>Terre di Giurfo 2013 Belsito Frappato (Vittoria)</td>\n",
       "      <td>2013</td>\n",
       "      <td>2013</td>\n",
       "      <td>1</td>\n",
       "    </tr>\n",
       "    <tr>\n",
       "      <th>9</th>\n",
       "      <td>Jean-Baptiste Adam 2012 Les Natures Pinot Gris...</td>\n",
       "      <td>2012</td>\n",
       "      <td>2012</td>\n",
       "      <td>1</td>\n",
       "    </tr>\n",
       "    <tr>\n",
       "      <th>10</th>\n",
       "      <td>Kirkland Signature 2011 Mountain Cuvée Caberne...</td>\n",
       "      <td>2011</td>\n",
       "      <td>2011</td>\n",
       "      <td>1</td>\n",
       "    </tr>\n",
       "  </tbody>\n",
       "</table>\n",
       "</div>"
      ],
      "text/plain": [
       "                                                title  year title_num_values  \\\n",
       "4   Sweet Cheeks 2012 Vintner's Reserve Wild Child...  2012             2012   \n",
       "5   Tandem 2011 Ars In Vitro Tempranillo-Merlot (N...  2011             2011   \n",
       "6    Terre di Giurfo 2013 Belsito Frappato (Vittoria)  2013             2013   \n",
       "9   Jean-Baptiste Adam 2012 Les Natures Pinot Gris...  2012             2012   \n",
       "10  Kirkland Signature 2011 Mountain Cuvée Caberne...  2011             2011   \n",
       "\n",
       "    num_count  \n",
       "4           1  \n",
       "5           1  \n",
       "6           1  \n",
       "9           1  \n",
       "10          1  "
      ]
     },
     "execution_count": 48,
     "metadata": {},
     "output_type": "execute_result"
    }
   ],
   "source": [
    "# FINDING HOW MANY NUMBERS DOES EACH TITLE INCLUDE\n",
    "df['num_count'] = df.title_num_values.str.count(',') + 1\n",
    "numeric_values_ct = df.num_count.max()\n",
    "df.head()"
   ]
  },
  {
   "cell_type": "code",
   "execution_count": 49,
   "metadata": {},
   "outputs": [],
   "source": [
    "# FOR ALL THE NUMERIC VALUES IN THE TITLES FIND THEM AND ADD TO A NEW DATA FRAME AS COLUMNS\n",
    "def regex2(y):\n",
    "    L = re.findall(r'\\d+', str(y))\n",
    "    X = np.array([L])\n",
    "    new_L = []\n",
    "    for x in X:\n",
    "        a = x.tolist()\n",
    "        b = []\n",
    "        for i in range(1, numeric_values_ct + 1):\n",
    "            if len(a) == numeric_values_ct:\n",
    "                new_L.append(a)\n",
    "                break\n",
    "            else:\n",
    "                for j in range(0, numeric_values_ct - len(a)):\n",
    "                     b = a.extend([0])\n",
    "    return new_L"
   ]
  },
  {
   "cell_type": "code",
   "execution_count": 50,
   "metadata": {},
   "outputs": [],
   "source": [
    "xx = df['title'].apply(regex2)\n",
    "new_list1 = []\n",
    "new_list2 = []\n",
    "new_list3 = []\n",
    "new_list4 = []\n",
    "new_list5 = []\n",
    "for row in xx:\n",
    "    new_list1.append(row[0][0])\n",
    "    new_list2.append(row[0][1])\n",
    "    new_list3.append(row[0][2])\n",
    "    new_list4.append(row[0][3])\n",
    "    new_list5.append(row[0][4])"
   ]
  },
  {
   "cell_type": "code",
   "execution_count": 51,
   "metadata": {},
   "outputs": [],
   "source": [
    "df.insert(loc=0, column='N5', value= pd.Series(new_list5))\n",
    "df.insert(loc=0, column='N4', value= pd.Series(new_list4))\n",
    "df.insert(loc=0, column='N3', value= pd.Series(new_list3))\n",
    "df.insert(loc=0, column='N2', value= pd.Series(new_list2))\n",
    "df.insert(loc=0, column='N1', value= pd.Series(new_list1))"
   ]
  },
  {
   "cell_type": "code",
   "execution_count": 52,
   "metadata": {},
   "outputs": [],
   "source": [
    "# SET 0 FOR ALL THE VALUES WHICH HAS MORE THAN 4 DIGIT\n",
    "df.loc[df['N1'].astype(str).map(len) != 4 , 'N1'] = 0\n",
    "df.loc[df['N2'].astype(str).map(len) != 4 , 'N2'] = 0\n",
    "df.loc[df['N3'].astype(str).map(len) != 4 , 'N3'] = 0\n",
    "df.loc[df['N4'].astype(str).map(len) != 4 , 'N4'] = 0\n",
    "df.loc[df['N5'].astype(str).map(len) != 4 , 'N5'] = 0\n",
    "\n",
    "# SET 0 FOR ALL THE VALUES GREATER THAN CURRENT YEAR\n",
    "df.loc[df['N1'].astype(int) > 2018 , 'N1'] = 0\n",
    "df.loc[df['N2'].astype(int) > 2018 , 'N2'] = 0\n",
    "df.loc[df['N3'].astype(int) > 2018 , 'N3'] = 0\n",
    "df.loc[df['N4'].astype(int) > 2018 , 'N4'] = 0\n",
    "df.loc[df['N5'].astype(int) > 2018 , 'N5'] = 0"
   ]
  },
  {
   "cell_type": "code",
   "execution_count": 53,
   "metadata": {},
   "outputs": [],
   "source": [
    "df['year_of_wine'] = df[['N5','N4','N3','N2','N1']].astype(int).max(axis=1)"
   ]
  },
  {
   "cell_type": "code",
   "execution_count": 54,
   "metadata": {},
   "outputs": [
    {
     "data": {
      "text/plain": [
       "array([2011, 2010, 2009, 2013, 2015,    0, 2012, 2014, 2006, 2007, 2016,\n",
       "       2008, 2003, 2004, 2005, 2017, 1999, 1997, 1998, 2002, 2001, 2000,\n",
       "       1996, 1995, 1989, 1904, 1992, 1978, 1919, 1985, 1993])"
      ]
     },
     "execution_count": 54,
     "metadata": {},
     "output_type": "execute_result"
    }
   ],
   "source": [
    "# DELETE ALL THE YEARS BEFORE 1900 \n",
    "df = df[['title', 'year_of_wine']]\n",
    "df.loc[df['year_of_wine']  < 1900 , 'year_of_wine'] = 0\n",
    "df.year_of_wine.unique()"
   ]
  },
  {
   "cell_type": "code",
   "execution_count": 55,
   "metadata": {},
   "outputs": [],
   "source": [
    "# CONCAT THE YEAR COLUMN TO MAIN DATAFRAME\n",
    "try:\n",
    "    if 'year_of_wine' not in df_wine:\n",
    "        df_wine = pd.concat([df_wine, df.year_of_wine], axis=1)\n",
    "except (RuntimeError, TypeError, NameError):\n",
    "    print(\"Error: concating year to main dataframe\")"
   ]
  },
  {
   "cell_type": "code",
   "execution_count": 56,
   "metadata": {},
   "outputs": [
    {
     "data": {
      "text/html": [
       "<div>\n",
       "<style scoped>\n",
       "    .dataframe tbody tr th:only-of-type {\n",
       "        vertical-align: middle;\n",
       "    }\n",
       "\n",
       "    .dataframe tbody tr th {\n",
       "        vertical-align: top;\n",
       "    }\n",
       "\n",
       "    .dataframe thead th {\n",
       "        text-align: right;\n",
       "    }\n",
       "</style>\n",
       "<table border=\"1\" class=\"dataframe\">\n",
       "  <thead>\n",
       "    <tr style=\"text-align: right;\">\n",
       "      <th></th>\n",
       "      <th>Unnamed: 0</th>\n",
       "      <th>description</th>\n",
       "      <th>designation</th>\n",
       "      <th>points</th>\n",
       "      <th>price</th>\n",
       "      <th>province</th>\n",
       "      <th>region_1</th>\n",
       "      <th>taster_name</th>\n",
       "      <th>taster_twitter_handle</th>\n",
       "      <th>title</th>\n",
       "      <th>variety</th>\n",
       "      <th>winery</th>\n",
       "      <th>from_Argentina</th>\n",
       "      <th>from_Australia</th>\n",
       "      <th>from_Canada</th>\n",
       "      <th>from_France</th>\n",
       "      <th>from_Italy</th>\n",
       "      <th>from_Spain</th>\n",
       "      <th>from_US</th>\n",
       "      <th>year_of_wine</th>\n",
       "    </tr>\n",
       "  </thead>\n",
       "  <tbody>\n",
       "    <tr>\n",
       "      <th>4</th>\n",
       "      <td>4</td>\n",
       "      <td>Much like the regular bottling from 2012, this...</td>\n",
       "      <td>Vintner's Reserve Wild Child Block</td>\n",
       "      <td>87</td>\n",
       "      <td>65.0</td>\n",
       "      <td>Oregon</td>\n",
       "      <td>Willamette Valley</td>\n",
       "      <td>Paul Gregutt</td>\n",
       "      <td>@paulgwine</td>\n",
       "      <td>Sweet Cheeks 2012 Vintner's Reserve Wild Child...</td>\n",
       "      <td>Pinot Noir</td>\n",
       "      <td>Sweet Cheeks</td>\n",
       "      <td>0</td>\n",
       "      <td>0</td>\n",
       "      <td>0</td>\n",
       "      <td>0</td>\n",
       "      <td>0</td>\n",
       "      <td>0</td>\n",
       "      <td>1</td>\n",
       "      <td>2011</td>\n",
       "    </tr>\n",
       "    <tr>\n",
       "      <th>5</th>\n",
       "      <td>5</td>\n",
       "      <td>Blackberry and raspberry aromas show a typical...</td>\n",
       "      <td>Ars In Vitro</td>\n",
       "      <td>87</td>\n",
       "      <td>15.0</td>\n",
       "      <td>Northern Spain</td>\n",
       "      <td>Navarra</td>\n",
       "      <td>Michael Schachner</td>\n",
       "      <td>@wineschach</td>\n",
       "      <td>Tandem 2011 Ars In Vitro Tempranillo-Merlot (N...</td>\n",
       "      <td>Tempranillo-Merlot</td>\n",
       "      <td>Tandem</td>\n",
       "      <td>0</td>\n",
       "      <td>0</td>\n",
       "      <td>0</td>\n",
       "      <td>0</td>\n",
       "      <td>0</td>\n",
       "      <td>1</td>\n",
       "      <td>0</td>\n",
       "      <td>2010</td>\n",
       "    </tr>\n",
       "    <tr>\n",
       "      <th>6</th>\n",
       "      <td>6</td>\n",
       "      <td>Here's a bright, informal red that opens with ...</td>\n",
       "      <td>Belsito</td>\n",
       "      <td>87</td>\n",
       "      <td>16.0</td>\n",
       "      <td>Sicily &amp; Sardinia</td>\n",
       "      <td>Vittoria</td>\n",
       "      <td>Kerin O’Keefe</td>\n",
       "      <td>@kerinokeefe</td>\n",
       "      <td>Terre di Giurfo 2013 Belsito Frappato (Vittoria)</td>\n",
       "      <td>Frappato</td>\n",
       "      <td>Terre di Giurfo</td>\n",
       "      <td>0</td>\n",
       "      <td>0</td>\n",
       "      <td>0</td>\n",
       "      <td>0</td>\n",
       "      <td>1</td>\n",
       "      <td>0</td>\n",
       "      <td>0</td>\n",
       "      <td>2011</td>\n",
       "    </tr>\n",
       "  </tbody>\n",
       "</table>\n",
       "</div>"
      ],
      "text/plain": [
       "   Unnamed: 0                                        description  \\\n",
       "4           4  Much like the regular bottling from 2012, this...   \n",
       "5           5  Blackberry and raspberry aromas show a typical...   \n",
       "6           6  Here's a bright, informal red that opens with ...   \n",
       "\n",
       "                          designation  points  price           province  \\\n",
       "4  Vintner's Reserve Wild Child Block      87   65.0             Oregon   \n",
       "5                        Ars In Vitro      87   15.0     Northern Spain   \n",
       "6                             Belsito      87   16.0  Sicily & Sardinia   \n",
       "\n",
       "            region_1        taster_name taster_twitter_handle  \\\n",
       "4  Willamette Valley       Paul Gregutt           @paulgwine    \n",
       "5            Navarra  Michael Schachner           @wineschach   \n",
       "6           Vittoria      Kerin O’Keefe          @kerinokeefe   \n",
       "\n",
       "                                               title             variety  \\\n",
       "4  Sweet Cheeks 2012 Vintner's Reserve Wild Child...          Pinot Noir   \n",
       "5  Tandem 2011 Ars In Vitro Tempranillo-Merlot (N...  Tempranillo-Merlot   \n",
       "6   Terre di Giurfo 2013 Belsito Frappato (Vittoria)            Frappato   \n",
       "\n",
       "            winery  from_Argentina  from_Australia  from_Canada  from_France  \\\n",
       "4     Sweet Cheeks               0               0            0            0   \n",
       "5           Tandem               0               0            0            0   \n",
       "6  Terre di Giurfo               0               0            0            0   \n",
       "\n",
       "   from_Italy  from_Spain  from_US  year_of_wine  \n",
       "4           0           0        1          2011  \n",
       "5           0           1        0          2010  \n",
       "6           1           0        0          2011  "
      ]
     },
     "execution_count": 56,
     "metadata": {},
     "output_type": "execute_result"
    }
   ],
   "source": [
    "df_wine.head(3)"
   ]
  },
  {
   "cell_type": "markdown",
   "metadata": {},
   "source": [
    "<h1>DATA</h1>"
   ]
  },
  {
   "cell_type": "code",
   "execution_count": 57,
   "metadata": {},
   "outputs": [
    {
     "name": "stdout",
     "output_type": "stream",
     "text": [
      "(52106, 8)\n"
     ]
    }
   ],
   "source": [
    "# DEFINE X and Y VARIABLES\n",
    "df_X = df_wine[['price','year_of_wine','from_Argentina', 'from_Canada', 'from_France', 'from_Italy', 'from_Spain', 'from_US']]\n",
    "df_Y = df_wine[['points']]\n",
    "print(df_X.shape)"
   ]
  },
  {
   "cell_type": "code",
   "execution_count": 58,
   "metadata": {},
   "outputs": [
    {
     "name": "stdout",
     "output_type": "stream",
     "text": [
      "(41684, 8) (41684, 1)\n",
      "(10422, 8) (10422, 1)\n"
     ]
    }
   ],
   "source": [
    "# devide the dataframe for training and testing \n",
    "X_train, X_test, y_train, y_test = train_test_split(df_X, df_Y, test_size=0.20)\n",
    "print (X_train.shape, y_train.shape)\n",
    "print (X_test.shape, y_test.shape)"
   ]
  },
  {
   "cell_type": "markdown",
   "metadata": {},
   "source": [
    "<h1>Information gain</h1>"
   ]
  },
  {
   "cell_type": "code",
   "execution_count": 59,
   "metadata": {},
   "outputs": [
    {
     "name": "stderr",
     "output_type": "stream",
     "text": [
      "/Users/roxana/.virtualenvs/dojo3/lib/python3.7/site-packages/sklearn/feature_selection/from_model.py:197: DataConversionWarning: A column-vector y was passed when a 1d array was expected. Please change the shape of y to (n_samples,), for example using ravel().\n",
      "  self.estimator_.fit(X, y, **fit_params)\n"
     ]
    },
    {
     "name": "stdout",
     "output_type": "stream",
     "text": [
      "2 selected features\n",
      "['price', 'year_of_wine']\n"
     ]
    }
   ],
   "source": [
    "embeded_rf_selector = SelectFromModel(RandomForestClassifier(n_estimators=100), threshold='1.25*median')\n",
    "embeded_rf_selector.fit(X_train, y_train)\n",
    "\n",
    "embeded_rf_support = embeded_rf_selector.get_support()\n",
    "embeded_rf_feature = X_train.loc[:,embeded_rf_support].columns.tolist()\n",
    "print(str(len(embeded_rf_feature)), 'selected features')\n",
    "print(embeded_rf_feature)"
   ]
  },
  {
   "cell_type": "code",
   "execution_count": 60,
   "metadata": {},
   "outputs": [
    {
     "name": "stdout",
     "output_type": "stream",
     "text": [
      "(52106, 2)\n"
     ]
    }
   ],
   "source": [
    "# select only most important features\n",
    "df_X = df_wine[['price','year_of_wine']]\n",
    "df_Y = df_wine[['points']]\n",
    "print(df_X.shape)"
   ]
  },
  {
   "cell_type": "code",
   "execution_count": 61,
   "metadata": {},
   "outputs": [
    {
     "name": "stdout",
     "output_type": "stream",
     "text": [
      "(41684, 2) (41684, 1)\n",
      "(10422, 2) (10422, 1)\n"
     ]
    }
   ],
   "source": [
    "# devide the dataframe for training and testing \n",
    "X_train, X_test, y_train, y_test = train_test_split(df_X, df_Y, test_size=0.20)\n",
    "print (X_train.shape, y_train.shape)\n",
    "print (X_test.shape, y_test.shape)\n"
   ]
  },
  {
   "cell_type": "markdown",
   "metadata": {},
   "source": [
    "<h1>Grid Search For Hyper Parameter Selection</h1>"
   ]
  },
  {
   "cell_type": "code",
   "execution_count": 62,
   "metadata": {},
   "outputs": [
    {
     "name": "stdout",
     "output_type": "stream",
     "text": [
      "Best result without Hyperparameter optimisation\n",
      "Scores: [2.60737653 2.66405649 2.60509991 2.6515308  2.61622119 2.61200423\n",
      " 2.62678983 2.6793733  2.65652052 2.60234645]\n",
      "Mean: 2.632131923689277\n",
      "Standard deviation: 0.026720015237886974\n"
     ]
    },
    {
     "name": "stderr",
     "output_type": "stream",
     "text": [
      "/Users/roxana/.virtualenvs/dojo3/lib/python3.7/site-packages/sklearn/linear_model/base.py:485: RuntimeWarning: internal gelsd driver lwork query error, required iwork dimension not returned. This is likely the result of LAPACK bug 0038, fixed in LAPACK 3.2.2 (released July 21, 2010). Falling back to 'gelss' driver.\n",
      "  linalg.lstsq(X, y)\n"
     ]
    }
   ],
   "source": [
    "lm = linear_model.LinearRegression()\n",
    "scores = cross_val_score(lm, X_train, y_train, scoring=\"neg_mean_squared_error\", cv=10)\n",
    "rmse_scores = np.sqrt(-scores)\n",
    "print(\"Best result without Hyperparameter optimisation\")\n",
    "print(\"Scores:\", rmse_scores)\n",
    "print(\"Mean:\", rmse_scores.mean())\n",
    "print(\"Standard deviation:\", rmse_scores.std())"
   ]
  },
  {
   "cell_type": "code",
   "execution_count": 63,
   "metadata": {},
   "outputs": [
    {
     "name": "stdout",
     "output_type": "stream",
     "text": [
      "Best Parameters: {'copy_X': True, 'fit_intercept': True, 'normalize': True}\n"
     ]
    }
   ],
   "source": [
    "parameters = {'fit_intercept':[True,False], \n",
    "                'normalize':[True,False], \n",
    "                'copy_X':[True, False]\n",
    "              }\n",
    "\n",
    "gd_sr = GridSearchCV(estimator=lm,  \n",
    "                     param_grid=parameters,\n",
    "                     scoring=\"neg_mean_squared_error\",\n",
    "                     cv=10)\n",
    "\n",
    "gd_sr.fit(X_train, y_train)  \n",
    "\n",
    "best_parameters = gd_sr.best_params_  \n",
    "print(\"Best Parameters:\",best_parameters)"
   ]
  },
  {
   "cell_type": "code",
   "execution_count": 64,
   "metadata": {},
   "outputs": [
    {
     "name": "stdout",
     "output_type": "stream",
     "text": [
      "# Best result WITH hyperparameter optimisation #\n",
      "Mean absolute error: 1.44\n",
      "Mean squared error: 2.69\n",
      "------------------------\n",
      "# Best result WITHOUT hyperparameter optimisation #\n",
      "Mean squared error: 2.63\n"
     ]
    }
   ],
   "source": [
    "lm = linear_model.LinearRegression(fit_intercept = best_parameters['fit_intercept'], normalize = best_parameters['normalize'], copy_X = best_parameters['copy_X'] )\n",
    "\n",
    "# Train the model using the training sets\n",
    "lm.fit(X_train, y_train)\n",
    "\n",
    "# Make predictions using the testing set\n",
    "y_pred = lm.predict(X_test)\n",
    "\n",
    "# The mean squared error\n",
    "print(\"# Best result WITH hyperparameter optimisation #\")\n",
    "print(\"Mean absolute error: %.2f\" % np.sqrt(metrics.mean_absolute_error(y_test, y_pred)))\n",
    "print(\"Mean squared error: %.2f\" % np.sqrt(metrics.mean_squared_error(y_test, y_pred)))\n",
    "print(\"------------------------\")\n",
    "print(\"# Best result WITHOUT hyperparameter optimisation #\")\n",
    "print(\"Mean squared error: %.2f\" % rmse_scores.mean())"
   ]
  },
  {
   "cell_type": "markdown",
   "metadata": {},
   "source": [
    "<h1>Outliers in Test Data</h1>"
   ]
  },
  {
   "cell_type": "markdown",
   "metadata": {},
   "source": [
    "<h3>Regression WITH outliers in Training data</h3>"
   ]
  },
  {
   "cell_type": "code",
   "execution_count": 153,
   "metadata": {},
   "outputs": [
    {
     "name": "stdout",
     "output_type": "stream",
     "text": [
      "coeficient:  [[ 3.63697369e-02 -6.55235162e-06]]\n",
      "intercept:  [87.59188757]\n"
     ]
    }
   ],
   "source": [
    "lm = linear_model.LinearRegression()\n",
    "model = lm.fit(X_train, y_train)\n",
    "y_predictions_3 = lm.predict(X_test)\n",
    "\n",
    "w = model.coef_ # parameters of model\n",
    "b = model.intercept_ #intercept of model\n",
    "\n",
    "print(\"coeficient: \", w)\n",
    "print(\"intercept: \", b)"
   ]
  },
  {
   "cell_type": "code",
   "execution_count": 154,
   "metadata": {},
   "outputs": [],
   "source": [
    "from copy import copy, deepcopy\n",
    "# store results\n",
    "ax3_y_test = deepcopy(y_test)\n",
    "ax3_y_predictions = deepcopy(y_predictions_3)"
   ]
  },
  {
   "cell_type": "code",
   "execution_count": 155,
   "metadata": {},
   "outputs": [
    {
     "name": "stdout",
     "output_type": "stream",
     "text": [
      "Accuracy: 0.21808957098333412\n",
      "RMSE: 2.6282938707913153\n",
      "MAE: 2.0880716668472097\n"
     ]
    }
   ],
   "source": [
    "# Accuracy score\n",
    "print ('Accuracy:', model.score(X_test, ax3_y_test))\n",
    "# Root mean squared error (RMSE)\n",
    "print('RMSE:', np.sqrt(metrics.mean_squared_error(ax3_y_test, ax3_y_predictions)))\n",
    "# Mean absolute error (MAE)\n",
    "mae_3 = metrics.mean_absolute_error(ax3_y_test, ax3_y_predictions)\n",
    "print('MAE:', mae_3)"
   ]
  },
  {
   "cell_type": "markdown",
   "metadata": {},
   "source": [
    "<h3>Regression W/O outliers in Training Data</h3>"
   ]
  },
  {
   "cell_type": "code",
   "execution_count": 156,
   "metadata": {},
   "outputs": [
    {
     "name": "stdout",
     "output_type": "stream",
     "text": [
      "Training data with outliers (41684, 2) (41684, 1)\n",
      "Training data without outliers (40461, 2) (40461, 1)\n"
     ]
    }
   ],
   "source": [
    "# Clean test data\n",
    "def reject_outliers(data, m=2):\n",
    "    return data[abs(data - np.mean(data)) < m * np.std(data)]\n",
    "\n",
    "# store clean training data\n",
    "X_train_clean = deepcopy(X_train)\n",
    "y_train_clean = deepcopy(y_train)\n",
    "\n",
    "# remove outliers from training data\n",
    "print(\"Training data with outliers\", X_train_clean.shape, y_train_clean.shape)\n",
    "\n",
    "training_prices_wo_outliers = reject_outliers(X_train_clean['price'].values)\n",
    "# remove points from test set if price was an outlier\n",
    "min_price = min(training_prices_wo_outliers)\n",
    "max_price = max(training_prices_wo_outliers)\n",
    "\n",
    "\n",
    "training_data = pd.concat([X_train_clean, y_train_clean], axis=1)\n",
    "training_clean = training_data.drop(training_data[training_data.price < min_price].index)\n",
    "training_clean = training_clean.drop(training_clean[training_clean.price > max_price].index)\n",
    "\n",
    "X_train_outlier_clean = training_clean[training_clean.columns[:-1].tolist()]\n",
    "y_train_outlier_clean = training_clean['points'].values.reshape(-1, 1)\n",
    "print(\"Training data without outliers\", X_train_outlier_clean.shape, y_train_outlier_clean.shape)"
   ]
  },
  {
   "cell_type": "code",
   "execution_count": 157,
   "metadata": {},
   "outputs": [
    {
     "name": "stdout",
     "output_type": "stream",
     "text": [
      "coeficient:  [[ 7.45974424e-02 -4.19387307e-06]]\n",
      "intercept:  [86.27404214]\n"
     ]
    }
   ],
   "source": [
    "# apply linear regression again\n",
    "lm = linear_model.LinearRegression()\n",
    "model = lm.fit(X_train_outlier_clean, y_train_outlier_clean)\n",
    "y_predictions_4 = lm.predict(X_test)\n",
    "\n",
    "w = model.coef_ # parameters of model\n",
    "b = model.intercept_ #intercept of model\n",
    "\n",
    "print(\"coeficient: \", w)\n",
    "print(\"intercept: \", b)"
   ]
  },
  {
   "cell_type": "code",
   "execution_count": 158,
   "metadata": {},
   "outputs": [],
   "source": [
    "from copy import copy, deepcopy\n",
    "# store results for chart 4\n",
    "ax4_y_test = deepcopy(y_test)\n",
    "ax4_y_predictions = deepcopy(y_predictions_4)"
   ]
  },
  {
   "cell_type": "code",
   "execution_count": 159,
   "metadata": {},
   "outputs": [
    {
     "name": "stdout",
     "output_type": "stream",
     "text": [
      "Accuracy: -0.0055181733395037735\n",
      "RMSE: 2.980508615508565\n",
      "MAE: 2.0908186671257893\n"
     ]
    }
   ],
   "source": [
    "# Accuracy score\n",
    "print ('Accuracy:', model.score(X_test, y_test))\n",
    "# Root mean squared error (RMSE)\n",
    "print('RMSE:', np.sqrt(metrics.mean_squared_error(y_test, ax4_y_predictions)))\n",
    "# Mean absolute error (MAE)\n",
    "mae_4 = metrics.mean_absolute_error(y_test, ax4_y_predictions)\n",
    "print('MAE:', mae_4)"
   ]
  },
  {
   "cell_type": "markdown",
   "metadata": {},
   "source": [
    "<h1>Clean outliers from Test Data</h1>"
   ]
  },
  {
   "cell_type": "code",
   "execution_count": 160,
   "metadata": {},
   "outputs": [],
   "source": [
    "# store clean test data\n",
    "X_test_clean = deepcopy(X_test)\n",
    "y_test_clean = deepcopy(y_test)"
   ]
  },
  {
   "cell_type": "code",
   "execution_count": 161,
   "metadata": {},
   "outputs": [
    {
     "name": "stdout",
     "output_type": "stream",
     "text": [
      "Test data with outliers (10422, 2) (10422, 1)\n",
      "Test data without outliers (10422, 2) (10422, 1)\n"
     ]
    }
   ],
   "source": [
    "# ############################ REMOVE OUTLIERS FROM TESTING ##########################\n",
    "print(\"Test data with outliers\", X_test_clean.shape, y_test_clean.shape)\n",
    "# clean prices from testing\n",
    "test_prices_wo_outliers = reject_outliers(X_test_clean.values)\n",
    "# remove points from test set if price was an outlier\n",
    "min_price = min(test_prices_wo_outliers)\n",
    "max_price = max(test_prices_wo_outliers)\n",
    "\n",
    "test_data = pd.concat([X_test, y_test], axis=1)\n",
    "test_data_clean = test_data.drop(test_data[test_data.price < min_price].index)\n",
    "test_data_clean = test_data_clean.drop(test_data_clean[test_data_clean.price > max_price].index)\n",
    "\n",
    "X_test_outlier_clean = test_data_clean[test_data_clean.columns[:-1].tolist()]\n",
    "y_test_outlier_clean = pd.DataFrame(test_data_clean['points'])\n",
    "print(\"Test data without outliers\", X_test_outlier_clean.shape, y_test_outlier_clean.shape)\n",
    "#######################################################################################\n"
   ]
  },
  {
   "cell_type": "markdown",
   "metadata": {},
   "source": [
    "<h3>Regression WITH outliers in Training data</h3>"
   ]
  },
  {
   "cell_type": "code",
   "execution_count": 162,
   "metadata": {},
   "outputs": [
    {
     "name": "stdout",
     "output_type": "stream",
     "text": [
      "coeficient:  [[ 3.63697369e-02 -6.55235162e-06]]\n",
      "intercept:  [87.59188757]\n"
     ]
    }
   ],
   "source": [
    "lm = linear_model.LinearRegression()\n",
    "model = lm.fit(X_train, y_train) # dirty training\n",
    "y_predictions_1 = lm.predict(X_test_outlier_clean) # clean test\n",
    "\n",
    "w = model.coef_ # parameters of model\n",
    "b = model.intercept_ #intercept of model\n",
    "\n",
    "print(\"coeficient: \", w)\n",
    "print(\"intercept: \", b)"
   ]
  },
  {
   "cell_type": "code",
   "execution_count": 163,
   "metadata": {},
   "outputs": [],
   "source": [
    "from copy import copy, deepcopy\n",
    "# store results\n",
    "ax1_y_test = deepcopy(y_test_outlier_clean)\n",
    "ax1_y_predictions = deepcopy(y_predictions_1)\n"
   ]
  },
  {
   "cell_type": "code",
   "execution_count": 164,
   "metadata": {},
   "outputs": [
    {
     "name": "stdout",
     "output_type": "stream",
     "text": [
      "Accuracy: 0.21808957098333412\n",
      "RMSE: 2.6282938707913153\n",
      "MAE: 2.0880716668472097\n"
     ]
    }
   ],
   "source": [
    "# Accuracy score\n",
    "print ('Accuracy:', model.score(X_test_outlier_clean, y_test_outlier_clean))\n",
    "# Root mean squared error (RMSE)\n",
    "print('RMSE:', np.sqrt(metrics.mean_squared_error(ax1_y_test, ax1_y_predictions)))\n",
    "# Mean absolute error (MAE)\n",
    "mae_1 = metrics.mean_absolute_error(ax1_y_test, ax1_y_predictions)\n",
    "print('MAE:', mae_1)\n"
   ]
  },
  {
   "cell_type": "markdown",
   "metadata": {},
   "source": [
    "<h3>Regression W/O outliers in Training data</h3>"
   ]
  },
  {
   "cell_type": "code",
   "execution_count": 165,
   "metadata": {},
   "outputs": [
    {
     "name": "stdout",
     "output_type": "stream",
     "text": [
      "coeficient:  [[ 7.45974424e-02 -4.19387307e-06]]\n",
      "intercept:  [86.27404214]\n"
     ]
    }
   ],
   "source": [
    "# apply linear regression again\n",
    "lm = linear_model.LinearRegression()\n",
    "model = lm.fit(X_train_outlier_clean, y_train_outlier_clean)\n",
    "y_predictions_2 = lm.predict(X_test_outlier_clean)\n",
    "\n",
    "w = model.coef_ # parameters of model\n",
    "b = model.intercept_ #intercept of model\n",
    "\n",
    "print(\"coeficient: \", w)\n",
    "print(\"intercept: \", b)"
   ]
  },
  {
   "cell_type": "code",
   "execution_count": 166,
   "metadata": {},
   "outputs": [],
   "source": [
    "from copy import copy, deepcopy\n",
    "# store results\n",
    "ax2_y_test = deepcopy(y_test_outlier_clean)\n",
    "ax2_y_predictions = deepcopy(y_predictions_2)\n"
   ]
  },
  {
   "cell_type": "code",
   "execution_count": 167,
   "metadata": {},
   "outputs": [
    {
     "name": "stdout",
     "output_type": "stream",
     "text": [
      "Accuracy: -0.0055181733395037735\n",
      "RMSE: 2.980508615508565\n",
      "MAE: 2.0908186671257893\n"
     ]
    }
   ],
   "source": [
    "# Accuracy score\n",
    "print ('Accuracy:', model.score(X_test_clean, y_test_clean))\n",
    "# Root mean squared error (RMSE)\n",
    "print('RMSE:', np.sqrt(metrics.mean_squared_error(ax2_y_test, y_predictions_2)))\n",
    "# Mean absolute error (MAE)\n",
    "mae_2 = metrics.mean_absolute_error(ax2_y_test, y_predictions_2)\n",
    "print('MAE:', mae_2)\n"
   ]
  },
  {
   "cell_type": "markdown",
   "metadata": {},
   "source": [
    "<h3>SUMMARY</h3>"
   ]
  },
  {
   "cell_type": "code",
   "execution_count": 168,
   "metadata": {},
   "outputs": [
    {
     "data": {
      "text/html": [
       "<table><tr><td>Training\\Test</td><td>W/ OUTLIERS</td><td>W/O OUTLIERS</td></tr><tr><td>W/ OUTLIERS</td><td>2.0880716668472097</td><td>2.0880716668472097</td></tr><tr><td>W/O OUTLIERS</td><td>2.0908186671257893</td><td>2.0908186671257893</td></tr></table>"
      ],
      "text/plain": [
       "<IPython.core.display.HTML object>"
      ]
     },
     "metadata": {},
     "output_type": "display_data"
    }
   ],
   "source": [
    " from IPython.display import HTML, display\n",
    "\n",
    " data = [[\"Training\\Test\", \"W/ OUTLIERS\",\"W/O OUTLIERS\"],\n",
    "         [\"W/ OUTLIERS\",mae_3, mae_1],\n",
    "         [\"W/O OUTLIERS\",mae_4, mae_2],\n",
    "         ]\n",
    "\n",
    " display(HTML(\n",
    "    '<table><tr>{}</tr></table>'.format(\n",
    "        '</tr><tr>'.join(\n",
    "            '<td>{}</td>'.format('</td><td>'.join(str(_) for _ in row)) for row in data)\n",
    "        )\n",
    " ))"
   ]
  },
  {
   "cell_type": "code",
   "execution_count": 169,
   "metadata": {},
   "outputs": [
    {
     "name": "stdout",
     "output_type": "stream",
     "text": [
      "************OUTLIERS IN TEST DATA **************\n",
      "--> TEST OUTLIERS AND TRAINING OUTLIERS\n",
      "max_y_predictions:  116\n",
      "min_y_predictions:  87\n",
      "MAE: 2.0880716668472097\n",
      "\n",
      "--> ONLY OUTLIERS IN TEST\n",
      "max_y_predictions:  145\n",
      "min_y_predictions:  86\n",
      "MAE: 2.0908186671257893\n",
      "\n",
      "************CLEAN TEST DATA**************\n",
      "--> ONLY OUTLIERS IN TRAINING:\n",
      "max_y_predictions:  116\n",
      "min_y_predictions:  87\n",
      "MAE: 2.0880716668472097\n",
      "\n",
      "--> NO OUTLIERS:\n",
      "max_y_predictions:  145\n",
      "min_y_predictions:  86\n",
      "MAE: 2.0908186671257893\n"
     ]
    },
    {
     "data": {
      "image/png": "[encoded data removed]",
      "text/plain": [
       "<Figure size 1080x1080 with 4 Axes>"
      ]
     },
     "metadata": {},
     "output_type": "display_data"
    }
   ],
   "source": [
    "f, ((ax3, ax4), (ax1, ax2)) = plt.subplots(2, 2, sharey=True, figsize=(15,15))\n",
    "\n",
    "# Dirty test outliers\n",
    "print(\"************OUTLIERS IN TEST DATA **************\")\n",
    "# plot w/ outliers in training data\n",
    "ax3.scatter(ax3_y_test, ax3_y_predictions)\n",
    "ax3.set(xlabel='True Values', ylabel='Predictions')\n",
    "\n",
    "max_y_predictions = int(max(ax3_y_predictions))\n",
    "min_y_predictions = int(min(ax3_y_predictions))\n",
    "\n",
    "print(\"--> TEST OUTLIERS AND TRAINING OUTLIERS\")\n",
    "print('max_y_predictions: ', max_y_predictions)\n",
    "print('min_y_predictions: ', min_y_predictions)\n",
    "print('MAE:', mae_3)\n",
    "print()\n",
    "\n",
    "max_y_true = int(max(ax3_y_test.points))\n",
    "min_y_true = int(min(ax3_y_test.points))\n",
    "\n",
    "ax3.axhline(max_y_true,label='max true value', color=\"red\")\n",
    "\n",
    "ax3.legend()\n",
    "ax3.grid()\n",
    "ax3.set_xlim([80,100])\n",
    "ax3.set_ylim([80,100])\n",
    "ax3.set_title('TEST OUTLIERS AND TRAINING OUTLIERS')\n",
    "\n",
    "# plot w/o outliers in training data\n",
    "ax4.scatter(ax4_y_test, ax4_y_predictions)\n",
    "ax4.set(xlabel='True Values', ylabel='Predictions')\n",
    "\n",
    "max_y_predictions = int(max(ax4_y_predictions))\n",
    "min_y_predictions = int(min(ax4_y_predictions))\n",
    "\n",
    "print(\"--> ONLY OUTLIERS IN TEST\")\n",
    "print('max_y_predictions: ', max_y_predictions)\n",
    "print('min_y_predictions: ', min_y_predictions)\n",
    "print('MAE:', mae_4)\n",
    "\n",
    "max_y_true = int(max(ax4_y_test.points))\n",
    "min_y_true = int(min(ax4_y_test.points))\n",
    "\n",
    "ax4.axhline(max_y_true,label='max true value', color=\"red\")\n",
    "\n",
    "ax4.legend()\n",
    "ax4.grid()\n",
    "ax4.set_xlim([80,100])\n",
    "ax4.set_ylim([80,100])\n",
    "ax4.set_title('ONLY OUTLIERS IN TEST')\n",
    "\n",
    "# plt.subplots_adjust(left=None, bottom=None, right=None, top=None, wspace=0.5, hspace=None)\n",
    "\n",
    "print()\n",
    "\n",
    "# Clean test\n",
    "print(\"************CLEAN TEST DATA**************\")\n",
    "# plot w/ outliers in training data\n",
    "ax1.scatter(ax1_y_test, ax1_y_predictions)\n",
    "ax1.set(xlabel='True Values', ylabel='Predictions')\n",
    "\n",
    "max_y_predictions = int(max(ax1_y_predictions))\n",
    "min_y_predictions = int(min(ax1_y_predictions))\n",
    "\n",
    "print(\"--> ONLY OUTLIERS IN TRAINING:\")\n",
    "print('max_y_predictions: ', max_y_predictions)\n",
    "print('min_y_predictions: ', min_y_predictions)\n",
    "print('MAE:', mae_1)\n",
    "print()\n",
    "\n",
    "max_y_true = int(max(ax1_y_test.points))\n",
    "min_y_true = int(min(ax1_y_test.points))\n",
    "\n",
    "ax1.axhline(max_y_true,label='max true value', color=\"red\")\n",
    "\n",
    "ax1.legend()\n",
    "ax1.grid()\n",
    "ax1.set_xlim([80,100])\n",
    "ax1.set_ylim([80,100])\n",
    "ax1.set_title('ONLY OUTLIERS IN TRAINING')\n",
    "\n",
    "# plot w/o outliers in training data\n",
    "ax2.scatter(ax2_y_test, ax2_y_predictions)\n",
    "ax2.set(xlabel='True Values', ylabel='Predictions')\n",
    "\n",
    "max_y_predictions = int(max(ax2_y_predictions))\n",
    "min_y_predictions = int(min(ax2_y_predictions))\n",
    "\n",
    "print(\"--> NO OUTLIERS:\")\n",
    "print('max_y_predictions: ', max_y_predictions)\n",
    "print('min_y_predictions: ', min_y_predictions)\n",
    "print('MAE:', mae_2)\n",
    "\n",
    "max_y_true = int(max(ax2_y_test.points))\n",
    "min_y_true = int(min(ax2_y_test.points))\n",
    "\n",
    "ax2.axhline(max_y_true,label='max true value', color=\"red\")\n",
    "\n",
    "ax2.legend()\n",
    "ax2.grid()\n",
    "ax2.set_xlim([80,100])\n",
    "ax2.set_ylim([80,100])\n",
    "ax2.set_title('NO OUTLIERS')\n",
    "\n",
    "plt.tight_layout()\n",
    "\n",
    "# plt.subplots_adjust(left=None, bottom=None, right=None, top=None, wspace=0.5, hspace=None)\n",
    "\n"
   ]
  },
  {
   "cell_type": "code",
   "execution_count": null,
   "metadata": {},
   "outputs": [],
   "source": []
  }
 ],
 "metadata": {
  "kernelspec": {
   "display_name": "Python 3",
   "language": "python",
   "name": "python3"
  },
  "language_info": {
   "codemirror_mode": {
    "name": "ipython",
    "version": 3
   },
   "file_extension": ".py",
   "mimetype": "text/x-python",
   "name": "python",
   "nbconvert_exporter": "python",
   "pygments_lexer": "ipython3",
   "version": "3.7.0"
  }
 },
 "nbformat": 4,
 "nbformat_minor": 2
}
