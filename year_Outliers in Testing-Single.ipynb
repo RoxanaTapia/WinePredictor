{
 "cells": [
  {
   "cell_type": "code",
   "execution_count": 41,
   "metadata": {},
   "outputs": [],
   "source": [
    "from copy import copy, deepcopy\n",
    "from sklearn.feature_selection import SelectFromModel\n",
    "from sklearn.ensemble import RandomForestClassifier\n",
    "import matplotlib.pyplot as plt\n",
    "from sklearn import metrics\n",
    "from sklearn.model_selection import train_test_split\n",
    "from sklearn.metrics import mean_squared_error\n",
    "from sklearn.model_selection import GridSearchCV\n",
    "from sklearn.model_selection import cross_val_score\n",
    "from sklearn.model_selection import train_test_split \n",
    "from sklearn import metrics\n",
    "from sklearn.tree import DecisionTreeRegressor  \n",
    "import random\n",
    "\n",
    "import sklearn.linear_model\n",
    "import pandas as pd \n",
    "import numpy as np\n",
    "import sys\n",
    "import re\n",
    "\n",
    "%matplotlib inline"
   ]
  },
  {
   "cell_type": "code",
   "execution_count": 42,
   "metadata": {},
   "outputs": [],
   "source": [
    "# Load the Wine Dataset\n",
    "df_wine = pd.read_csv(\"../df_wine.csv\", encoding = 'utf8', index_col=0)"
   ]
  },
  {
   "cell_type": "code",
   "execution_count": 43,
   "metadata": {},
   "outputs": [
    {
     "data": {
      "text/html": [
       "<div>\n",
       "<style scoped>\n",
       "    .dataframe tbody tr th:only-of-type {\n",
       "        vertical-align: middle;\n",
       "    }\n",
       "\n",
       "    .dataframe tbody tr th {\n",
       "        vertical-align: top;\n",
       "    }\n",
       "\n",
       "    .dataframe thead th {\n",
       "        text-align: right;\n",
       "    }\n",
       "</style>\n",
       "<table border=\"1\" class=\"dataframe\">\n",
       "  <thead>\n",
       "    <tr style=\"text-align: right;\">\n",
       "      <th></th>\n",
       "      <th>price</th>\n",
       "      <th>title</th>\n",
       "      <th>points</th>\n",
       "      <th>year_of_wine</th>\n",
       "      <th>v_Abouriou</th>\n",
       "      <th>v_Aglianico</th>\n",
       "      <th>v_Airen</th>\n",
       "      <th>v_Albana</th>\n",
       "      <th>v_Albanello</th>\n",
       "      <th>v_Albariño</th>\n",
       "      <th>...</th>\n",
       "      <th>province_Spanish Islands</th>\n",
       "      <th>province_Tasmania</th>\n",
       "      <th>province_Texas</th>\n",
       "      <th>province_Tuscany</th>\n",
       "      <th>province_Veneto</th>\n",
       "      <th>province_Vermont</th>\n",
       "      <th>province_Victoria</th>\n",
       "      <th>province_Virginia</th>\n",
       "      <th>province_Washington</th>\n",
       "      <th>province_Western Australia</th>\n",
       "    </tr>\n",
       "  </thead>\n",
       "  <tbody>\n",
       "    <tr>\n",
       "      <th>0</th>\n",
       "      <td>14.0</td>\n",
       "      <td>Rainstorm 2013 Pinot Gris (Willamette Valley)</td>\n",
       "      <td>87</td>\n",
       "      <td>2013</td>\n",
       "      <td>0</td>\n",
       "      <td>0</td>\n",
       "      <td>0</td>\n",
       "      <td>0</td>\n",
       "      <td>0</td>\n",
       "      <td>0</td>\n",
       "      <td>...</td>\n",
       "      <td>0</td>\n",
       "      <td>0</td>\n",
       "      <td>0</td>\n",
       "      <td>0</td>\n",
       "      <td>0</td>\n",
       "      <td>0</td>\n",
       "      <td>0</td>\n",
       "      <td>0</td>\n",
       "      <td>0</td>\n",
       "      <td>0</td>\n",
       "    </tr>\n",
       "  </tbody>\n",
       "</table>\n",
       "<p>1 rows × 585 columns</p>\n",
       "</div>"
      ],
      "text/plain": [
       "   price                                          title  points  year_of_wine  \\\n",
       "0   14.0  Rainstorm 2013 Pinot Gris (Willamette Valley)      87          2013   \n",
       "\n",
       "   v_Abouriou  v_Aglianico  v_Airen  v_Albana  v_Albanello  v_Albariño  \\\n",
       "0           0            0        0         0            0           0   \n",
       "\n",
       "              ...              province_Spanish Islands  province_Tasmania  \\\n",
       "0             ...                                     0                  0   \n",
       "\n",
       "   province_Texas  province_Tuscany  province_Veneto  province_Vermont  \\\n",
       "0               0                 0                0                 0   \n",
       "\n",
       "   province_Victoria  province_Virginia  province_Washington  \\\n",
       "0                  0                  0                    0   \n",
       "\n",
       "   province_Western Australia  \n",
       "0                           0  \n",
       "\n",
       "[1 rows x 585 columns]"
      ]
     },
     "execution_count": 43,
     "metadata": {},
     "output_type": "execute_result"
    }
   ],
   "source": [
    "df_wine.head(1)"
   ]
  },
  {
   "cell_type": "markdown",
   "metadata": {},
   "source": [
    "# Data Preparition"
   ]
  },
  {
   "cell_type": "code",
   "execution_count": 44,
   "metadata": {},
   "outputs": [],
   "source": [
    "# DEFINE X and Y VARIABLES\n",
    "# df_wine = df_wine[df_wine['year_of_wine'] > 0]\n",
    "# df_X = df_wine.drop('points', axis=1)\n",
    "# df_X = df_X.drop('title', axis=1) # year was already extracted\n",
    "# df_Y = df_wine[['points']]"
   ]
  },
  {
   "cell_type": "code",
   "execution_count": 45,
   "metadata": {},
   "outputs": [],
   "source": [
    "df_wine = df_wine[df_wine['year_of_wine'] > 0]\n",
    "df_X = df_wine[['year_of_wine']]\n",
    "df_Y = df_wine[['points']]"
   ]
  },
  {
   "cell_type": "markdown",
   "metadata": {},
   "source": [
    "# Test & Train Split"
   ]
  },
  {
   "cell_type": "code",
   "execution_count": 46,
   "metadata": {},
   "outputs": [],
   "source": [
    "from sklearn.model_selection import train_test_split  \n",
    "X_train, X_test, y_train, y_test = train_test_split(df_X, df_Y, test_size=0.3, random_state=0) "
   ]
  },
  {
   "cell_type": "markdown",
   "metadata": {},
   "source": [
    "# HPO with groundtruth"
   ]
  },
  {
   "cell_type": "code",
   "execution_count": 47,
   "metadata": {},
   "outputs": [
    {
     "name": "stdout",
     "output_type": "stream",
     "text": [
      "Fitting 5 folds for each of 20 candidates, totalling 100 fits\n"
     ]
    },
    {
     "name": "stderr",
     "output_type": "stream",
     "text": [
      "[Parallel(n_jobs=1)]: Using backend SequentialBackend with 1 concurrent workers.\n",
      "[Parallel(n_jobs=1)]: Done 100 out of 100 | elapsed:    1.1s finished\n"
     ]
    },
    {
     "data": {
      "text/plain": [
       "({'max_depth': 12, 'min_samples_split': 6}, -9.206388245485066)"
      ]
     },
     "execution_count": 47,
     "metadata": {},
     "output_type": "execute_result"
    }
   ],
   "source": [
    "# Using Randomized Search instead of a grid search\n",
    "\n",
    "from sklearn.model_selection import GridSearchCV, RandomizedSearchCV\n",
    "from scipy.stats import randint as sp_randint\n",
    "regressor3 = DecisionTreeRegressor()\n",
    "param_dist = {'max_depth': sp_randint(2,16),\n",
    "              'min_samples_split': sp_randint(2,16)}\n",
    "\n",
    "n_iter_search = 20\n",
    "clfrs = RandomizedSearchCV(regressor3, \n",
    "                                   param_distributions=param_dist,\n",
    "                                   scoring='neg_mean_squared_error',\n",
    "                                   cv=5 , n_jobs=1, verbose=1,\n",
    "                                   n_iter=n_iter_search)\n",
    "clfrs.fit(X_train, y_train)\n",
    "clfrs.best_params_, clfrs.best_score_"
   ]
  },
  {
   "cell_type": "markdown",
   "metadata": {},
   "source": [
    "# Decision Tree"
   ]
  },
  {
   "cell_type": "code",
   "execution_count": 48,
   "metadata": {},
   "outputs": [
    {
     "name": "stdout",
     "output_type": "stream",
     "text": [
      "Mean Absolute Error: 2.4813967705971205\n",
      "Mean Squared Error: 9.310742182710763\n",
      "Root Mean Squared Error: 3.0513508783341785\n"
     ]
    }
   ],
   "source": [
    "# Best result with Hyperparameter optimisation\n",
    "regressor = DecisionTreeRegressor(max_depth = clfrs.best_params_['max_depth'], min_samples_split = clfrs.best_params_['min_samples_split'])  \n",
    "\n",
    "# Train the model using the training sets\n",
    "regressor.fit(X_train, y_train)\n",
    "\n",
    "# Make predictions using the testing set\n",
    "y_pred = regressor.predict(X_test)\n",
    "\n",
    "# The evaluation metrics\n",
    "from sklearn import metrics  \n",
    "print('Mean Absolute Error:', metrics.mean_absolute_error(y_test, y_pred))  \n",
    "print('Mean Squared Error:', metrics.mean_squared_error(y_test, y_pred))  \n",
    "print('Root Mean Squared Error:', np.sqrt(metrics.mean_squared_error(y_test, y_pred))) "
   ]
  },
  {
   "cell_type": "markdown",
   "metadata": {},
   "source": [
    "# Introduce Errors in Testing"
   ]
  },
  {
   "cell_type": "code",
   "execution_count": 49,
   "metadata": {},
   "outputs": [],
   "source": [
    "# Ground truth for other calculations\n",
    "X_test_gt = X_test.copy()"
   ]
  },
  {
   "cell_type": "code",
   "execution_count": 50,
   "metadata": {},
   "outputs": [
    {
     "data": {
      "text/html": [
       "<div>\n",
       "<style scoped>\n",
       "    .dataframe tbody tr th:only-of-type {\n",
       "        vertical-align: middle;\n",
       "    }\n",
       "\n",
       "    .dataframe tbody tr th {\n",
       "        vertical-align: top;\n",
       "    }\n",
       "\n",
       "    .dataframe thead th {\n",
       "        text-align: right;\n",
       "    }\n",
       "</style>\n",
       "<table border=\"1\" class=\"dataframe\">\n",
       "  <thead>\n",
       "    <tr style=\"text-align: right;\">\n",
       "      <th></th>\n",
       "      <th>year_of_wine</th>\n",
       "    </tr>\n",
       "  </thead>\n",
       "  <tbody>\n",
       "    <tr>\n",
       "      <th>count</th>\n",
       "      <td>29310.000000</td>\n",
       "    </tr>\n",
       "    <tr>\n",
       "      <th>mean</th>\n",
       "      <td>2010.666018</td>\n",
       "    </tr>\n",
       "    <tr>\n",
       "      <th>std</th>\n",
       "      <td>3.550408</td>\n",
       "    </tr>\n",
       "    <tr>\n",
       "      <th>min</th>\n",
       "      <td>1985.000000</td>\n",
       "    </tr>\n",
       "    <tr>\n",
       "      <th>25%</th>\n",
       "      <td>2009.000000</td>\n",
       "    </tr>\n",
       "    <tr>\n",
       "      <th>50%</th>\n",
       "      <td>2011.000000</td>\n",
       "    </tr>\n",
       "    <tr>\n",
       "      <th>75%</th>\n",
       "      <td>2013.000000</td>\n",
       "    </tr>\n",
       "    <tr>\n",
       "      <th>max</th>\n",
       "      <td>2017.000000</td>\n",
       "    </tr>\n",
       "  </tbody>\n",
       "</table>\n",
       "</div>"
      ],
      "text/plain": [
       "       year_of_wine\n",
       "count  29310.000000\n",
       "mean    2010.666018\n",
       "std        3.550408\n",
       "min     1985.000000\n",
       "25%     2009.000000\n",
       "50%     2011.000000\n",
       "75%     2013.000000\n",
       "max     2017.000000"
      ]
     },
     "execution_count": 50,
     "metadata": {},
     "output_type": "execute_result"
    }
   ],
   "source": [
    "X_test[['year_of_wine']].describe()"
   ]
  },
  {
   "cell_type": "code",
   "execution_count": 51,
   "metadata": {},
   "outputs": [],
   "source": [
    "year = X_train[['year_of_wine']].copy()\n",
    "year.columns = ['new_year']\n",
    "# df_wine = pd.concat([year, df_wine], axis=1)\n",
    "# df_wine"
   ]
  },
  {
   "cell_type": "code",
   "execution_count": 52,
   "metadata": {},
   "outputs": [],
   "source": [
    "def introduce_outliers(df):\n",
    "    rates = [0.1, 0.2, 0.3, 0.4, 0.5, 0.6, 0.7, 0.8, 0.9, 1.1, 1.2, 1.3, 1.4, 1.5, 1.6, 1.7, 1.8, 1.9]\n",
    "    # minimum sayi 1940 %0.5 e kadar artabilir\n",
    "    # max sayi 2018 %0.5 e kadar artabilir\n",
    "    j = 0\n",
    "    year_val = 0\n",
    "    for i, row in df.iterrows():\n",
    "        if j%2 == 0:\n",
    "            year_val = row['year_of_wine'] * random.choice(rates)\n",
    "            df.at[i,'year_of_wine'] = year_val\n",
    "        j = j + 1\n",
    "    return df"
   ]
  },
  {
   "cell_type": "code",
   "execution_count": 53,
   "metadata": {},
   "outputs": [],
   "source": [
    "X_test = introduce_outliers(X_test)"
   ]
  },
  {
   "cell_type": "code",
   "execution_count": 54,
   "metadata": {},
   "outputs": [],
   "source": [
    "df_new = X_test.groupby(['year_of_wine']).size().to_frame('#ofrows')"
   ]
  },
  {
   "cell_type": "code",
   "execution_count": 55,
   "metadata": {},
   "outputs": [],
   "source": [
    "df_new.to_csv( \"output_withoutliers.xlsx\")"
   ]
  },
  {
   "cell_type": "code",
   "execution_count": 56,
   "metadata": {},
   "outputs": [
    {
     "data": {
      "text/plain": [
       "[<matplotlib.lines.Line2D at 0x1a227abcf8>]"
      ]
     },
     "execution_count": 56,
     "metadata": {},
     "output_type": "execute_result"
    },
    {
     "data": {
      "image/png": "[encoded data removed]",
      "text/plain": [
       "<Figure size 432x288 with 1 Axes>"
      ]
     },
     "metadata": {
      "needs_background": "light"
     },
     "output_type": "display_data"
    }
   ],
   "source": [
    "plt.plot(X_test.groupby(['year_of_wine']).size())"
   ]
  },
  {
   "cell_type": "code",
   "execution_count": 57,
   "metadata": {},
   "outputs": [
    {
     "data": {
      "text/plain": [
       "[<matplotlib.lines.Line2D at 0x1a21548278>]"
      ]
     },
     "execution_count": 57,
     "metadata": {},
     "output_type": "execute_result"
    },
    {
     "data": {
      "image/png": "[encoded data removed]",
      "text/plain": [
       "<Figure size 432x288 with 1 Axes>"
      ]
     },
     "metadata": {
      "needs_background": "light"
     },
     "output_type": "display_data"
    }
   ],
   "source": [
    "plt.plot(X_test_gt.groupby(['year_of_wine']).size())"
   ]
  },
  {
   "cell_type": "code",
   "execution_count": 58,
   "metadata": {},
   "outputs": [],
   "source": [
    "df_new2 = X_test_gt.groupby(['year_of_wine']).size().to_frame('#ofrows')"
   ]
  },
  {
   "cell_type": "code",
   "execution_count": 59,
   "metadata": {},
   "outputs": [],
   "source": [
    "df_new2.to_csv( \"output_withoutoutliers.xlsx\")"
   ]
  },
  {
   "cell_type": "markdown",
   "metadata": {},
   "source": [
    "# HPO with errors in Testing"
   ]
  },
  {
   "cell_type": "code",
   "execution_count": 43,
   "metadata": {},
   "outputs": [
    {
     "name": "stdout",
     "output_type": "stream",
     "text": [
      "Fitting 5 folds for each of 20 candidates, totalling 100 fits\n"
     ]
    },
    {
     "name": "stderr",
     "output_type": "stream",
     "text": [
      "[Parallel(n_jobs=1)]: Using backend SequentialBackend with 1 concurrent workers.\n",
      "[Parallel(n_jobs=1)]: Done 100 out of 100 | elapsed:    1.9s finished\n"
     ]
    },
    {
     "data": {
      "text/plain": [
       "({'max_depth': 4, 'min_samples_split': 2}, -9.258303409997827)"
      ]
     },
     "execution_count": 43,
     "metadata": {},
     "output_type": "execute_result"
    }
   ],
   "source": [
    "# Using Randomized Search instead of a grid search\n",
    "\n",
    "# combine training and testing\n",
    "x_data = pd.concat([X_train, X_test], axis=0)\n",
    "y_data = pd.concat([y_train, y_test], axis=0)\n",
    "\n",
    "from sklearn.model_selection import GridSearchCV, RandomizedSearchCV\n",
    "from scipy.stats import randint as sp_randint\n",
    "regressor3 = DecisionTreeRegressor()\n",
    "param_dist = {'max_depth': sp_randint(2,16),\n",
    "              'min_samples_split': sp_randint(2,16)}\n",
    "\n",
    "n_iter_search = 20\n",
    "clfrs = RandomizedSearchCV(regressor3, \n",
    "                                   param_distributions=param_dist,\n",
    "                                   scoring='neg_mean_squared_error',\n",
    "                                   cv=5 , n_jobs=1, verbose=1,\n",
    "                                   n_iter=n_iter_search)\n",
    "clfrs.fit(x_data, y_data)\n",
    "clfrs.best_params_, clfrs.best_score_"
   ]
  },
  {
   "cell_type": "markdown",
   "metadata": {},
   "source": [
    "# Decision Tree Regressor with Outliers in Testing"
   ]
  },
  {
   "cell_type": "code",
   "execution_count": 44,
   "metadata": {},
   "outputs": [
    {
     "name": "stdout",
     "output_type": "stream",
     "text": [
      "Mean Absolute Error: 3.293247320050379\n",
      "Mean Squared Error: 16.7192560524002\n",
      "Root Mean Squared Error: 4.088918689873913\n"
     ]
    }
   ],
   "source": [
    "# Best result with Hyperparameter optimisation\n",
    "regressor = DecisionTreeRegressor(max_depth = clfrs.best_params_['max_depth'], min_samples_split = clfrs.best_params_['min_samples_split'])  \n",
    "\n",
    "# Train the model using the training sets\n",
    "regressor.fit(X_train, y_train)\n",
    "\n",
    "# Make predictions using the testing set\n",
    "y_pred = regressor.predict(X_test)\n",
    "\n",
    "# The evaluation metrics\n",
    "from sklearn import metrics  \n",
    "print('Mean Absolute Error:', metrics.mean_absolute_error(y_test, y_pred))  \n",
    "print('Mean Squared Error:', metrics.mean_squared_error(y_test, y_pred))  \n",
    "print('Root Mean Squared Error:', np.sqrt(metrics.mean_squared_error(y_test, y_pred))) "
   ]
  },
  {
   "cell_type": "markdown",
   "metadata": {},
   "source": [
    "# Outlier Detection"
   ]
  },
  {
   "cell_type": "code",
   "execution_count": 45,
   "metadata": {},
   "outputs": [],
   "source": [
    "mean = np.mean(X_test[['year_of_wine']], axis=0)\n",
    "sd = np.std(X_test[['year_of_wine']], axis=0)"
   ]
  },
  {
   "cell_type": "code",
   "execution_count": 46,
   "metadata": {},
   "outputs": [],
   "source": [
    "def outlier_detection(data):\n",
    "    mean = np.mean(data, axis=0)\n",
    "    sd = np.std(data, axis=0)\n",
    "    final_list = [x for x in data if (x > mean - 1 * sd)]\n",
    "    final_list = [x for x in final_list if (x < mean + 1 * sd)]\n",
    "    return final_list, mean"
   ]
  },
  {
   "cell_type": "code",
   "execution_count": 47,
   "metadata": {},
   "outputs": [],
   "source": [
    "year_outliers = outlier_detection(X_test['year_of_wine'].values)[0]\n",
    "mean = outlier_detection(X_test['year_of_wine'].values)[1]"
   ]
  },
  {
   "cell_type": "code",
   "execution_count": 48,
   "metadata": {},
   "outputs": [
    {
     "data": {
      "text/html": [
       "<div>\n",
       "<style scoped>\n",
       "    .dataframe tbody tr th:only-of-type {\n",
       "        vertical-align: middle;\n",
       "    }\n",
       "\n",
       "    .dataframe tbody tr th {\n",
       "        vertical-align: top;\n",
       "    }\n",
       "\n",
       "    .dataframe thead th {\n",
       "        text-align: right;\n",
       "    }\n",
       "</style>\n",
       "<table border=\"1\" class=\"dataframe\">\n",
       "  <thead>\n",
       "    <tr style=\"text-align: right;\">\n",
       "      <th></th>\n",
       "      <th>year_of_wine</th>\n",
       "    </tr>\n",
       "  </thead>\n",
       "  <tbody>\n",
       "    <tr>\n",
       "      <th>84805</th>\n",
       "      <td>402</td>\n",
       "    </tr>\n",
       "    <tr>\n",
       "      <th>4507</th>\n",
       "      <td>2013</td>\n",
       "    </tr>\n",
       "    <tr>\n",
       "      <th>15458</th>\n",
       "      <td>3820</td>\n",
       "    </tr>\n",
       "    <tr>\n",
       "      <th>57872</th>\n",
       "      <td>2005</td>\n",
       "    </tr>\n",
       "    <tr>\n",
       "      <th>6460</th>\n",
       "      <td>604</td>\n",
       "    </tr>\n",
       "  </tbody>\n",
       "</table>\n",
       "</div>"
      ],
      "text/plain": [
       "       year_of_wine\n",
       "84805           402\n",
       "4507           2013\n",
       "15458          3820\n",
       "57872          2005\n",
       "6460            604"
      ]
     },
     "execution_count": 48,
     "metadata": {},
     "output_type": "execute_result"
    }
   ],
   "source": [
    "X_test.head()"
   ]
  },
  {
   "cell_type": "code",
   "execution_count": 49,
   "metadata": {},
   "outputs": [],
   "source": [
    "# min_year = min(year_outliers)\n",
    "# max_year = max(year_outliers)\n",
    "\n",
    "# training_data = pd.concat([X_train, y_train], axis=1)\n",
    "\n",
    "# training_cleaned = training_data.drop(training_data[training_data.year_of_wine < min_year].index)\n",
    "# training_cleaned = training_cleaned.drop(training_cleaned[training_cleaned.year_of_wine > max_year].index)\n",
    "\n",
    "# X_train_outlier_cleaned = training_cleaned[training_cleaned.columns[:-1].tolist()]\n",
    "# y_train_outlier_cleaned = training_cleaned['points'].values.reshape(-1, 1)"
   ]
  },
  {
   "cell_type": "code",
   "execution_count": 50,
   "metadata": {},
   "outputs": [],
   "source": [
    "min_year = min(year_outliers)\n",
    "max_year = max(year_outliers)\n",
    "\n",
    "testing_data = pd.concat([X_test, y_test], axis=1)\n",
    "\n",
    "# DROP\n",
    "# testing_cleaned = testing_data.drop(testing_data[testing_data.year_of_wine < min_year].index)\n",
    "# testing_cleaned = testing_cleaned.drop(testing_cleaned[testing_cleaned.year_of_wine > max_year].index)\n",
    "# X_test_outlier_cleaned = testing_cleaned[testing_cleaned.columns[:-1].tolist()]\n",
    "# y_test_outlier_cleaned = testing_cleaned.filter(['points'], axis=1)\n",
    "\n",
    "# MEAN\n",
    "testing_data.loc[testing_data['year_of_wine'] < min_year, 'year_of_wine'] = round(mean)\n",
    "testing_data.loc[testing_data['year_of_wine'] > max_year, 'year_of_wine'] = round(mean)\n",
    "X_test_outlier_cleaned = testing_data[testing_data.columns[:-1].tolist()]\n",
    "y_test_outlier_cleaned = testing_data.filter(['points'], axis=1)"
   ]
  },
  {
   "cell_type": "markdown",
   "metadata": {},
   "source": [
    "# PRECISION & RECALL & RMSE FOR ERRORS"
   ]
  },
  {
   "cell_type": "code",
   "execution_count": 51,
   "metadata": {},
   "outputs": [
    {
     "name": "stderr",
     "output_type": "stream",
     "text": [
      "/anaconda2/envs/py3/lib/python3.6/site-packages/sklearn/metrics/classification.py:1143: UndefinedMetricWarning: Precision and F-score are ill-defined and being set to 0.0 in labels with no predicted samples.\n",
      "  'precision', 'predicted', average, warn_for)\n",
      "/anaconda2/envs/py3/lib/python3.6/site-packages/sklearn/metrics/classification.py:1145: UndefinedMetricWarning: Recall and F-score are ill-defined and being set to 0.0 in labels with no true samples.\n",
      "  'recall', 'true', average, warn_for)\n"
     ]
    },
    {
     "data": {
      "text/plain": [
       "(0.9493205411171456, 0.515353121801433, 0.6403238557453649, None)"
      ]
     },
     "execution_count": 51,
     "metadata": {},
     "output_type": "execute_result"
    }
   ],
   "source": [
    "from sklearn.metrics import precision_recall_fscore_support\n",
    "precision_recall_fscore_support(X_test_gt['year_of_wine'].values, X_test_outlier_cleaned['year_of_wine'].values, average='weighted')\n"
   ]
  },
  {
   "cell_type": "code",
   "execution_count": 52,
   "metadata": {},
   "outputs": [
    {
     "name": "stdout",
     "output_type": "stream",
     "text": [
      "Root Mean Squared Error: 222.75370670749268\n"
     ]
    }
   ],
   "source": [
    "# RMSE for Cleaned data and GT\n",
    "print('Root Mean Squared Error:', np.sqrt(metrics.mean_squared_error(X_test_gt['year_of_wine'].values, X_test_outlier_cleaned['year_of_wine'].values))) \n"
   ]
  },
  {
   "cell_type": "code",
   "execution_count": 53,
   "metadata": {},
   "outputs": [
    {
     "name": "stdout",
     "output_type": "stream",
     "text": [
      "Root Mean Squared Error: 803.143556064482\n"
     ]
    }
   ],
   "source": [
    "# RMSE for Dirty data and GY\n",
    "print('Root Mean Squared Error:', np.sqrt(metrics.mean_squared_error(X_test_gt['year_of_wine'].values, X_test['year_of_wine'].values))) "
   ]
  },
  {
   "cell_type": "markdown",
   "metadata": {},
   "source": [
    "# HPO with cleaned data"
   ]
  },
  {
   "cell_type": "code",
   "execution_count": 54,
   "metadata": {},
   "outputs": [
    {
     "name": "stdout",
     "output_type": "stream",
     "text": [
      "Fitting 5 folds for each of 20 candidates, totalling 100 fits\n"
     ]
    },
    {
     "name": "stderr",
     "output_type": "stream",
     "text": [
      "[Parallel(n_jobs=1)]: Using backend SequentialBackend with 1 concurrent workers.\n",
      "[Parallel(n_jobs=1)]: Done 100 out of 100 | elapsed:    1.6s finished\n"
     ]
    },
    {
     "data": {
      "text/plain": [
       "({'max_depth': 5, 'min_samples_split': 14}, -9.262337942902539)"
      ]
     },
     "execution_count": 54,
     "metadata": {},
     "output_type": "execute_result"
    }
   ],
   "source": [
    "# Using Randomized Search instead of a grid search\n",
    "\n",
    "# combine training and testing\n",
    "x_data = pd.concat([X_train, X_test_outlier_cleaned], axis=0)\n",
    "y_data = pd.concat([y_train, y_test_outlier_cleaned], axis=0)\n",
    "\n",
    "from sklearn.model_selection import GridSearchCV, RandomizedSearchCV\n",
    "from scipy.stats import randint as sp_randint\n",
    "regressor3 = DecisionTreeRegressor()\n",
    "param_dist = {'max_depth': sp_randint(2,16),\n",
    "              'min_samples_split': sp_randint(2,16)}\n",
    "\n",
    "n_iter_search = 20\n",
    "clfrs = RandomizedSearchCV(regressor3, \n",
    "                                   param_distributions=param_dist,\n",
    "                                   scoring='neg_mean_squared_error',\n",
    "                                   cv=5 , n_jobs=1, verbose=1,\n",
    "                                   n_iter=n_iter_search)\n",
    "clfrs.fit(x_data, y_data)\n",
    "clfrs.best_params_, clfrs.best_score_"
   ]
  },
  {
   "cell_type": "markdown",
   "metadata": {},
   "source": [
    "# Decision Tree Regressor with Cleaned Data"
   ]
  },
  {
   "cell_type": "code",
   "execution_count": 55,
   "metadata": {},
   "outputs": [
    {
     "name": "stdout",
     "output_type": "stream",
     "text": [
      "Mean Absolute Error: 2.799721056196315\n",
      "Mean Squared Error: 12.248647126569324\n",
      "Root Mean Squared Error: 3.4998067270306974\n"
     ]
    }
   ],
   "source": [
    "# Best result with Hyperparameter optimisation\n",
    "regressor = DecisionTreeRegressor(max_depth = clfrs.best_params_['max_depth'], min_samples_split = clfrs.best_params_['min_samples_split'])  \n",
    "\n",
    "# Train the model using the training sets\n",
    "regressor.fit(X_train, y_train)\n",
    "\n",
    "# Make predictions using the testing set\n",
    "y_pred = regressor.predict(X_test_outlier_cleaned)\n",
    "\n",
    "# The evaluation metrics\n",
    "from sklearn import metrics  \n",
    "print('Mean Absolute Error:', metrics.mean_absolute_error(y_test_outlier_cleaned, y_pred))  \n",
    "print('Mean Squared Error:', metrics.mean_squared_error(y_test_outlier_cleaned, y_pred))  \n",
    "print('Root Mean Squared Error:', np.sqrt(metrics.mean_squared_error(y_test_outlier_cleaned, y_pred))) "
   ]
  },
  {
   "cell_type": "code",
   "execution_count": null,
   "metadata": {},
   "outputs": [],
   "source": []
  }
 ],
 "metadata": {
  "kernelspec": {
   "display_name": "Python 3",
   "language": "python",
   "name": "python3"
  },
  "language_info": {
   "codemirror_mode": {
    "name": "ipython",
    "version": 3
   },
   "file_extension": ".py",
   "mimetype": "text/x-python",
   "name": "python",
   "nbconvert_exporter": "python",
   "pygments_lexer": "ipython3",
   "version": "3.6.7"
  }
 },
 "nbformat": 4,
 "nbformat_minor": 2
}
