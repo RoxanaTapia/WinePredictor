{
 "cells": [
  {
   "cell_type": "code",
   "execution_count": 3,
   "metadata": {},
   "outputs": [],
   "source": [
    "# imports\n",
    "from copy import copy, deepcopy\n",
    "import matplotlib.pyplot as plt\n",
    "from sklearn import metrics\n",
    "from sklearn.model_selection import train_test_split\n",
    "from sklearn.metrics import mean_squared_error\n",
    "from sklearn.model_selection import train_test_split \n",
    "from sklearn import metrics\n",
    "from sklearn import linear_model\n",
    "import pandas as pd \n",
    "import numpy as np\n",
    "from sklearn import metrics  \n",
    "from sklearn.tree import DecisionTreeRegressor\n",
    "from sklearn.model_selection import train_test_split\n",
    "from sklearn.model_selection import GridSearchCV, RandomizedSearchCV\n",
    "from scipy.stats import randint as sp_randint\n",
    "from sklearn.preprocessing import LabelEncoder\n",
    "import random\n",
    "import string\n",
    "from sklearn.metrics import r2_score\n",
    "\n",
    "%matplotlib inline"
   ]
  },
  {
   "cell_type": "code",
   "execution_count": 4,
   "metadata": {},
   "outputs": [],
   "source": [
    "# Load the Wine Dataset\n",
    "df_wine =  pd.read_csv(\"../df_wine_vertical.csv\", encoding = 'utf8', index_col=0)"
   ]
  },
  {
   "cell_type": "code",
   "execution_count": 22,
   "metadata": {},
   "outputs": [
    {
     "data": {
      "text/html": [
       "<div>\n",
       "<style scoped>\n",
       "    .dataframe tbody tr th:only-of-type {\n",
       "        vertical-align: middle;\n",
       "    }\n",
       "\n",
       "    .dataframe tbody tr th {\n",
       "        vertical-align: top;\n",
       "    }\n",
       "\n",
       "    .dataframe thead th {\n",
       "        text-align: right;\n",
       "    }\n",
       "</style>\n",
       "<table border=\"1\" class=\"dataframe\">\n",
       "  <thead>\n",
       "    <tr style=\"text-align: right;\">\n",
       "      <th></th>\n",
       "      <th>country</th>\n",
       "      <th>province</th>\n",
       "      <th>region</th>\n",
       "      <th>price</th>\n",
       "      <th>variety</th>\n",
       "      <th>points</th>\n",
       "      <th>year_of_wine</th>\n",
       "    </tr>\n",
       "  </thead>\n",
       "  <tbody>\n",
       "    <tr>\n",
       "      <th>96978</th>\n",
       "      <td>Australia</td>\n",
       "      <td>Victoria</td>\n",
       "      <td>Mornington Peninsula</td>\n",
       "      <td>50.0</td>\n",
       "      <td>Pinot Noir</td>\n",
       "      <td>93</td>\n",
       "      <td>2013</td>\n",
       "    </tr>\n",
       "    <tr>\n",
       "      <th>30234</th>\n",
       "      <td>Italy</td>\n",
       "      <td>Tuscany</td>\n",
       "      <td>Chianti Classico</td>\n",
       "      <td>55.0</td>\n",
       "      <td>Red Blend</td>\n",
       "      <td>95</td>\n",
       "      <td>2010</td>\n",
       "    </tr>\n",
       "    <tr>\n",
       "      <th>61403</th>\n",
       "      <td>Argentina</td>\n",
       "      <td>Mendoza Province</td>\n",
       "      <td>Uco Valley</td>\n",
       "      <td>39.0</td>\n",
       "      <td>Malbec</td>\n",
       "      <td>92</td>\n",
       "      <td>2013</td>\n",
       "    </tr>\n",
       "    <tr>\n",
       "      <th>7814</th>\n",
       "      <td>France</td>\n",
       "      <td>Rhône Valley</td>\n",
       "      <td>Cornas</td>\n",
       "      <td>56.0</td>\n",
       "      <td>Syrah</td>\n",
       "      <td>88</td>\n",
       "      <td>2013</td>\n",
       "    </tr>\n",
       "    <tr>\n",
       "      <th>26736</th>\n",
       "      <td>US</td>\n",
       "      <td>California</td>\n",
       "      <td>Mendocino County</td>\n",
       "      <td>14.0</td>\n",
       "      <td>Chardonnay</td>\n",
       "      <td>88</td>\n",
       "      <td>2013</td>\n",
       "    </tr>\n",
       "  </tbody>\n",
       "</table>\n",
       "</div>"
      ],
      "text/plain": [
       "         country          province                region  price     variety  \\\n",
       "96978  Australia          Victoria  Mornington Peninsula   50.0  Pinot Noir   \n",
       "30234      Italy           Tuscany      Chianti Classico   55.0   Red Blend   \n",
       "61403  Argentina  Mendoza Province            Uco Valley   39.0      Malbec   \n",
       "7814      France      Rhône Valley                Cornas   56.0       Syrah   \n",
       "26736         US        California      Mendocino County   14.0  Chardonnay   \n",
       "\n",
       "       points  year_of_wine  \n",
       "96978      93          2013  \n",
       "30234      95          2010  \n",
       "61403      92          2013  \n",
       "7814       88          2013  \n",
       "26736      88          2013  "
      ]
     },
     "execution_count": 22,
     "metadata": {},
     "output_type": "execute_result"
    }
   ],
   "source": [
    "random_subset = df_wine.sample(n=5)\n",
    "random_subset.head()"
   ]
  },
  {
   "cell_type": "code",
   "execution_count": 16,
   "metadata": {},
   "outputs": [],
   "source": [
    "# df_wine_sample = df_wine.sample(frac=0.10, random_state=2000)"
   ]
  },
  {
   "cell_type": "markdown",
   "metadata": {},
   "source": [
    "# Data Preparition"
   ]
  },
  {
   "cell_type": "code",
   "execution_count": 46,
   "metadata": {},
   "outputs": [],
   "source": [
    "# df_wine = df_wine_sample.copy()\n",
    "\n",
    "# DEFINE X and Y VARIABLES\n",
    "df_X = df_wine.drop('points', axis=1)\n",
    "df_X = df_X.drop('province', axis=1)\n",
    "df_X = df_X.drop('price', axis=1)\n",
    "df_X = df_X.drop('variety', axis=1)\n",
    "df_X = df_X.drop('year_of_wine', axis=1)\n",
    "df_X = df_X.drop('country', axis=1)\n",
    "df_Y = df_wine[['points']]\n",
    "\n",
    "from sklearn.model_selection import train_test_split  \n",
    "X_train, X_test, y_train, y_test = train_test_split(df_X, df_Y, test_size=0.3, random_state=0)"
   ]
  },
  {
   "cell_type": "code",
   "execution_count": 47,
   "metadata": {},
   "outputs": [],
   "source": [
    "# GROUND TRUTH\n",
    "gt_test_training = pd.concat([X_test, X_train])\n",
    "gt_training = X_train.copy()\n",
    "gt_test = X_test.copy()"
   ]
  },
  {
   "cell_type": "code",
   "execution_count": 48,
   "metadata": {},
   "outputs": [],
   "source": [
    "def randomize(value, n):\n",
    "    # makes harder to match the original value replacing n of the original chars (maybe)\n",
    "    letters = string.ascii_letters\n",
    "    indexes = range(0, len(value))\n",
    "    indexes = random.sample(indexes, n)\n",
    "    for index in indexes:\n",
    "        temp = list(value)\n",
    "        temp[index] = random.choice(letters)\n",
    "        value = ''.join(temp)\n",
    "    return value\n",
    "\n",
    "def generate_random_typo(value):\n",
    "    letters = string.ascii_letters\n",
    "    degree = random.randint(1, len(value)) # add at least 1 typo\n",
    "    indexes = range(0, len(value))\n",
    "    indexes = random.sample(indexes, degree)\n",
    "\n",
    "    for index in indexes:\n",
    "        temp = list(value)\n",
    "        temp[index] = temp[index] + random.choice(letters)\n",
    "        value = ''.join(temp)\n",
    "\n",
    "    return randomize(value, 1)\n",
    "\n",
    "def insert_typos(df, column_name, percent): \n",
    "    ocurrence_indexes = df[column_name].index.tolist()\n",
    "    columns_affected = 0\n",
    "    # select random elements \n",
    "    size = len(df[column_name])\n",
    "    columns_affected = int((percent * size) / 100.0)   \n",
    "    selected_indexes = random.sample(ocurrence_indexes, columns_affected)\n",
    "    for index, row in df.iterrows():\n",
    "        if index in selected_indexes:\n",
    "            value = generate_random_typo(row[0])\n",
    "            df.at[index, column_name] = value\n",
    "    return df\n",
    "\n",
    "def dtr(X_train, y_train, X_test):\n",
    "    # Decision Tree Regressor\n",
    "    regressor = DecisionTreeRegressor()  \n",
    "    regressor.fit(X_train, y_train)\n",
    "    y_pred = regressor.predict(X_test)\n",
    "    \n",
    "    # The evaluation metrics\n",
    "    MAE = metrics.mean_absolute_error(y_test, y_pred)\n",
    "    MSE = metrics.mean_squared_error(y_test, y_pred)\n",
    "    RMSE = np.sqrt(metrics.mean_squared_error(y_test, y_pred))\n",
    "    R2 = r2_score(y_test, y_pred)*100\n",
    "\n",
    "    results = {\"MAE\" : round(MAE, 3),\n",
    "              \"MSE\" : round(MSE, 3),\n",
    "              \"RMSE\" : round(RMSE, 3),\n",
    "              \"R2\": round(R2, 3)}\n",
    "    return results"
   ]
  },
  {
   "cell_type": "code",
   "execution_count": 49,
   "metadata": {},
   "outputs": [],
   "source": [
    "# GROUND TRUTH\n",
    "gt_test_training = pd.concat([X_test, X_train], ignore_index=True)"
   ]
  },
  {
   "cell_type": "code",
   "execution_count": 50,
   "metadata": {},
   "outputs": [
    {
     "ename": "KeyboardInterrupt",
     "evalue": "",
     "output_type": "error",
     "traceback": [
      "\u001b[0;31m---------------------------------------------------------------------------\u001b[0m",
      "\u001b[0;31mKeyboardInterrupt\u001b[0m                         Traceback (most recent call last)",
      "\u001b[0;32m<ipython-input-50-3eebfe49b718>\u001b[0m in \u001b[0;36m<module>\u001b[0;34m\u001b[0m\n\u001b[1;32m      1\u001b[0m \u001b[0;31m# INTRODUCE ERROR\u001b[0m\u001b[0;34m\u001b[0m\u001b[0;34m\u001b[0m\u001b[0;34m\u001b[0m\u001b[0m\n\u001b[0;32m----> 2\u001b[0;31m \u001b[0mX_test\u001b[0m \u001b[0;34m=\u001b[0m \u001b[0minsert_typos\u001b[0m\u001b[0;34m(\u001b[0m\u001b[0mX_test\u001b[0m\u001b[0;34m,\u001b[0m \u001b[0;34m\"region\"\u001b[0m\u001b[0;34m,\u001b[0m \u001b[0;36m10\u001b[0m\u001b[0;34m)\u001b[0m\u001b[0;34m\u001b[0m\u001b[0;34m\u001b[0m\u001b[0m\n\u001b[0m",
      "\u001b[0;32m<ipython-input-48-79ea9bae0913>\u001b[0m in \u001b[0;36minsert_typos\u001b[0;34m(df, column_name, percent)\u001b[0m\n\u001b[1;32m     31\u001b[0m     \u001b[0mselected_indexes\u001b[0m \u001b[0;34m=\u001b[0m \u001b[0mrandom\u001b[0m\u001b[0;34m.\u001b[0m\u001b[0msample\u001b[0m\u001b[0;34m(\u001b[0m\u001b[0mocurrence_indexes\u001b[0m\u001b[0;34m,\u001b[0m \u001b[0mcolumns_affected\u001b[0m\u001b[0;34m)\u001b[0m\u001b[0;34m\u001b[0m\u001b[0;34m\u001b[0m\u001b[0m\n\u001b[1;32m     32\u001b[0m     \u001b[0;32mfor\u001b[0m \u001b[0mindex\u001b[0m\u001b[0;34m,\u001b[0m \u001b[0mrow\u001b[0m \u001b[0;32min\u001b[0m \u001b[0mdf\u001b[0m\u001b[0;34m.\u001b[0m\u001b[0miterrows\u001b[0m\u001b[0;34m(\u001b[0m\u001b[0;34m)\u001b[0m\u001b[0;34m:\u001b[0m\u001b[0;34m\u001b[0m\u001b[0;34m\u001b[0m\u001b[0m\n\u001b[0;32m---> 33\u001b[0;31m         \u001b[0;32mif\u001b[0m \u001b[0mindex\u001b[0m \u001b[0;32min\u001b[0m \u001b[0mselected_indexes\u001b[0m\u001b[0;34m:\u001b[0m\u001b[0;34m\u001b[0m\u001b[0;34m\u001b[0m\u001b[0m\n\u001b[0m\u001b[1;32m     34\u001b[0m             \u001b[0mvalue\u001b[0m \u001b[0;34m=\u001b[0m \u001b[0mgenerate_random_typo\u001b[0m\u001b[0;34m(\u001b[0m\u001b[0mrow\u001b[0m\u001b[0;34m[\u001b[0m\u001b[0;36m0\u001b[0m\u001b[0;34m]\u001b[0m\u001b[0;34m)\u001b[0m\u001b[0;34m\u001b[0m\u001b[0;34m\u001b[0m\u001b[0m\n\u001b[1;32m     35\u001b[0m             \u001b[0mdf\u001b[0m\u001b[0;34m.\u001b[0m\u001b[0mat\u001b[0m\u001b[0;34m[\u001b[0m\u001b[0mindex\u001b[0m\u001b[0;34m,\u001b[0m \u001b[0mcolumn_name\u001b[0m\u001b[0;34m]\u001b[0m \u001b[0;34m=\u001b[0m \u001b[0mvalue\u001b[0m\u001b[0;34m\u001b[0m\u001b[0;34m\u001b[0m\u001b[0m\n",
      "\u001b[0;31mKeyboardInterrupt\u001b[0m: "
     ]
    }
   ],
   "source": [
    "# INTRODUCE ERROR\n",
    "X_test = insert_typos(X_test, \"region\", 10)\n"
   ]
  },
  {
   "cell_type": "code",
   "execution_count": 40,
   "metadata": {},
   "outputs": [],
   "source": [
    "\n",
    "X_test = pd.get_dummies(X_test, columns=['region'])\n",
    "\n",
    "X_train = pd.get_dummies(X_train, columns=['region'])\n",
    "    \n",
    "X_train, X_test = X_train.align(X_test, join='outer', axis=1, fill_value=0)"
   ]
  },
  {
   "cell_type": "code",
   "execution_count": 41,
   "metadata": {},
   "outputs": [
    {
     "name": "stdout",
     "output_type": "stream",
     "text": [
      "Mean Absolute Error: 2.240572889671645\n",
      "Mean Squared Error: 7.798125317917028\n",
      "Root Mean Squared Error: 2.792512366654269\n"
     ]
    }
   ],
   "source": [
    "# Best result with Hyperparameter optimisation\n",
    "regressor = DecisionTreeRegressor()  \n",
    "\n",
    "# Train the model using the training sets\n",
    "regressor.fit(X_train, y_train)\n",
    "\n",
    "# Make predictions using the testing set\n",
    "y_pred = regressor.predict(X_test)\n",
    "\n",
    "# The evaluation metrics\n",
    "from sklearn import metrics  \n",
    "print('Mean Absolute Error:', metrics.mean_absolute_error(y_test, y_pred))  \n",
    "print('Mean Squared Error:', metrics.mean_squared_error(y_test, y_pred))  \n",
    "print('Root Mean Squared Error:', np.sqrt(metrics.mean_squared_error(y_test, y_pred))) "
   ]
  },
  {
   "cell_type": "code",
   "execution_count": 382,
   "metadata": {},
   "outputs": [],
   "source": []
  },
  {
   "cell_type": "code",
   "execution_count": null,
   "metadata": {},
   "outputs": [],
   "source": []
  },
  {
   "cell_type": "code",
   "execution_count": null,
   "metadata": {},
   "outputs": [],
   "source": []
  },
  {
   "cell_type": "code",
   "execution_count": null,
   "metadata": {},
   "outputs": [],
   "source": []
  },
  {
   "cell_type": "code",
   "execution_count": null,
   "metadata": {},
   "outputs": [],
   "source": []
  },
  {
   "cell_type": "code",
   "execution_count": null,
   "metadata": {},
   "outputs": [],
   "source": []
  },
  {
   "cell_type": "code",
   "execution_count": null,
   "metadata": {},
   "outputs": [],
   "source": []
  },
  {
   "cell_type": "code",
   "execution_count": null,
   "metadata": {},
   "outputs": [],
   "source": []
  },
  {
   "cell_type": "code",
   "execution_count": null,
   "metadata": {},
   "outputs": [],
   "source": []
  },
  {
   "cell_type": "code",
   "execution_count": null,
   "metadata": {},
   "outputs": [],
   "source": []
  },
  {
   "cell_type": "code",
   "execution_count": 250,
   "metadata": {},
   "outputs": [],
   "source": [
    "# DIRTY TEST TRAINING\n",
    "dirty_test_training = pd.concat([X_test, X_train], ignore_index=True)\n",
    "dirty_test_training2 = X_train.copy()"
   ]
  },
  {
   "cell_type": "markdown",
   "metadata": {},
   "source": [
    "# Precision & Recall"
   ]
  },
  {
   "cell_type": "code",
   "execution_count": 251,
   "metadata": {},
   "outputs": [],
   "source": [
    "# from sklearn.metrics import precision_recall_fscore_support\n",
    "\n",
    "# precision_recall_fscore_support(gt_test_training['region'].values, \n",
    "#                                 dirty_test_training['region'].values, \n",
    "#                                 average='weighted')"
   ]
  },
  {
   "cell_type": "markdown",
   "metadata": {},
   "source": [
    "# HPO with ground truth"
   ]
  },
  {
   "cell_type": "code",
   "execution_count": 252,
   "metadata": {},
   "outputs": [],
   "source": [
    "# # Using Randomized Search for hyperparameter optimisation\n",
    "\n",
    "# from sklearn.model_selection import GridSearchCV, RandomizedSearchCV\n",
    "# from scipy.stats import randint as sp_randint\n",
    "# regressor3 = DecisionTreeRegressor()\n",
    "# param_dist = {'max_depth': sp_randint(2,16),\n",
    "#               'min_samples_split': sp_randint(2,16)}\n",
    "\n",
    "# n_iter_search = 20\n",
    "# clfrs = RandomizedSearchCV(regressor3, \n",
    "#                                    param_distributions=param_dist,\n",
    "#                                    scoring='neg_mean_squared_error',\n",
    "#                                    cv=5 , n_jobs=1, verbose=1,\n",
    "#                                    n_iter = n_iter_search)\n",
    "# clfrs.fit(df_X, df_Y)\n",
    "# clfrs.best_params_, clfrs.best_score_"
   ]
  },
  {
   "cell_type": "code",
   "execution_count": null,
   "metadata": {},
   "outputs": [],
   "source": []
  },
  {
   "cell_type": "code",
   "execution_count": null,
   "metadata": {},
   "outputs": [],
   "source": []
  },
  {
   "cell_type": "markdown",
   "metadata": {},
   "source": [
    "# Decision Tree"
   ]
  },
  {
   "cell_type": "code",
   "execution_count": 383,
   "metadata": {},
   "outputs": [
    {
     "name": "stdout",
     "output_type": "stream",
     "text": [
      "Mean Absolute Error: 2.6064677062285164\n",
      "Mean Squared Error: 10.874475700062352\n",
      "Root Mean Squared Error: 3.297646994458678\n"
     ]
    }
   ],
   "source": [
    "# Best result with Hyperparameter optimisation\n",
    "regressor = DecisionTreeRegressor()  \n",
    "\n",
    "# Train the model using the training sets\n",
    "regressor.fit(X_train, y_train)\n",
    "\n",
    "# Make predictions using the testing set\n",
    "y_pred = regressor.predict(X_test)\n",
    "\n",
    "# The evaluation metrics\n",
    "from sklearn import metrics  \n",
    "print('Mean Absolute Error:', metrics.mean_absolute_error(y_test, y_pred))  \n",
    "print('Mean Squared Error:', metrics.mean_squared_error(y_test, y_pred))  \n",
    "print('Root Mean Squared Error:', np.sqrt(metrics.mean_squared_error(y_test, y_pred))) "
   ]
  },
  {
   "cell_type": "code",
   "execution_count": null,
   "metadata": {},
   "outputs": [],
   "source": []
  },
  {
   "cell_type": "code",
   "execution_count": null,
   "metadata": {},
   "outputs": [],
   "source": []
  }
 ],
 "metadata": {
  "kernelspec": {
   "display_name": "Python 3",
   "language": "python",
   "name": "python3"
  },
  "language_info": {
   "codemirror_mode": {
    "name": "ipython",
    "version": 3
   },
   "file_extension": ".py",
   "mimetype": "text/x-python",
   "name": "python",
   "nbconvert_exporter": "python",
   "pygments_lexer": "ipython3",
   "version": "3.6.7"
  }
 },
 "nbformat": 4,
 "nbformat_minor": 2
}
