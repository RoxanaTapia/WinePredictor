{
 "cells": [
  {
   "cell_type": "markdown",
   "metadata": {},
   "source": [
    "<h1> TEST - Predictor typos in US - MULTI </h1>"
   ]
  },
  {
   "cell_type": "markdown",
   "metadata": {},
   "source": [
    "* <b>Retrieves incrementally dataframes with n% of typos from <i>typos_generator</i></b>\n",
    "* <b>In each case, executes one hot encoding of categorical variables</b>\n",
    "* <b>Retrieves base MSE of data with n-typos</b>\n",
    "* <b>Stores metrics for further statistics</b>"
   ]
  },
  {
   "cell_type": "code",
   "execution_count": 53,
   "metadata": {},
   "outputs": [],
   "source": [
    "# imports\n",
    "import copy\n",
    "import pandas as pd \n",
    "import numpy as np\n",
    "from sklearn import metrics  \n",
    "from sklearn.tree import DecisionTreeRegressor\n",
    "from sklearn.model_selection import train_test_split\n",
    "from sklearn.model_selection import GridSearchCV, RandomizedSearchCV\n",
    "from scipy.stats import randint as sp_randint\n",
    "from sklearn.preprocessing import LabelEncoder\n",
    "import random\n",
    "import string\n",
    "from collections import OrderedDict\n",
    "import time\n",
    "\n",
    "import import_ipynb\n",
    "import typos_generator as typos_generator\n",
    "\n",
    "%matplotlib inline"
   ]
  },
  {
   "cell_type": "markdown",
   "metadata": {},
   "source": [
    "# Data Split"
   ]
  },
  {
   "cell_type": "code",
   "execution_count": 54,
   "metadata": {},
   "outputs": [
    {
     "data": {
      "text/html": [
       "<div>\n",
       "<style scoped>\n",
       "    .dataframe tbody tr th:only-of-type {\n",
       "        vertical-align: middle;\n",
       "    }\n",
       "\n",
       "    .dataframe tbody tr th {\n",
       "        vertical-align: top;\n",
       "    }\n",
       "\n",
       "    .dataframe thead th {\n",
       "        text-align: right;\n",
       "    }\n",
       "</style>\n",
       "<table border=\"1\" class=\"dataframe\">\n",
       "  <thead>\n",
       "    <tr style=\"text-align: right;\">\n",
       "      <th></th>\n",
       "      <th>index</th>\n",
       "      <th>country</th>\n",
       "      <th>province</th>\n",
       "      <th>region</th>\n",
       "      <th>price</th>\n",
       "      <th>variety</th>\n",
       "      <th>points</th>\n",
       "      <th>year_of_wine</th>\n",
       "    </tr>\n",
       "  </thead>\n",
       "  <tbody>\n",
       "    <tr>\n",
       "      <th>0</th>\n",
       "      <td>0</td>\n",
       "      <td>US</td>\n",
       "      <td>Oregon</td>\n",
       "      <td>Willamette Valley</td>\n",
       "      <td>14.0</td>\n",
       "      <td>Pinot Gris</td>\n",
       "      <td>87</td>\n",
       "      <td>2013</td>\n",
       "    </tr>\n",
       "    <tr>\n",
       "      <th>1</th>\n",
       "      <td>1</td>\n",
       "      <td>US</td>\n",
       "      <td>Michigan</td>\n",
       "      <td>Lake Michigan Shore</td>\n",
       "      <td>13.0</td>\n",
       "      <td>Riesling</td>\n",
       "      <td>87</td>\n",
       "      <td>2013</td>\n",
       "    </tr>\n",
       "    <tr>\n",
       "      <th>2</th>\n",
       "      <td>2</td>\n",
       "      <td>US</td>\n",
       "      <td>Oregon</td>\n",
       "      <td>Willamette Valley</td>\n",
       "      <td>65.0</td>\n",
       "      <td>Pinot Noir</td>\n",
       "      <td>87</td>\n",
       "      <td>2012</td>\n",
       "    </tr>\n",
       "    <tr>\n",
       "      <th>3</th>\n",
       "      <td>3</td>\n",
       "      <td>Spain</td>\n",
       "      <td>Northern Spain</td>\n",
       "      <td>Navarra</td>\n",
       "      <td>15.0</td>\n",
       "      <td>Tempranillo-Merlot</td>\n",
       "      <td>87</td>\n",
       "      <td>2011</td>\n",
       "    </tr>\n",
       "  </tbody>\n",
       "</table>\n",
       "</div>"
      ],
      "text/plain": [
       "   index country        province               region  price  \\\n",
       "0      0      US          Oregon    Willamette Valley   14.0   \n",
       "1      1      US        Michigan  Lake Michigan Shore   13.0   \n",
       "2      2      US          Oregon    Willamette Valley   65.0   \n",
       "3      3   Spain  Northern Spain              Navarra   15.0   \n",
       "\n",
       "              variety  points  year_of_wine  \n",
       "0          Pinot Gris      87          2013  \n",
       "1            Riesling      87          2013  \n",
       "2          Pinot Noir      87          2012  \n",
       "3  Tempranillo-Merlot      87          2011  "
      ]
     },
     "execution_count": 54,
     "metadata": {},
     "output_type": "execute_result"
    }
   ],
   "source": [
    "# Load the Wine Dataset\n",
    "df_wine = pd.read_csv(\"df_wine_horizontal_tests.csv\", encoding = 'utf8', index_col=0)\n",
    "df_wine = df_wine.reset_index()\n",
    "# check data\n",
    "df_wine.head(4)"
   ]
  },
  {
   "cell_type": "code",
   "execution_count": 55,
   "metadata": {},
   "outputs": [],
   "source": [
    "# drop unnecessary columns\n",
    "# df_wine = df_wine.drop(['province', 'region', 'price', 'variety', 'year_of_wine'], axis=1)\n",
    "# df_wine.head(4)"
   ]
  },
  {
   "cell_type": "code",
   "execution_count": 56,
   "metadata": {},
   "outputs": [],
   "source": [
    "df_X = df_wine.drop('points', axis=1)\n",
    "df_Y = df_wine[['points']]\n",
    "X_train, X_test, y_train, y_test = train_test_split(df_X, df_Y, test_size=0.3, random_state=0) "
   ]
  },
  {
   "cell_type": "code",
   "execution_count": 57,
   "metadata": {},
   "outputs": [
    {
     "data": {
      "text/html": [
       "<div>\n",
       "<style scoped>\n",
       "    .dataframe tbody tr th:only-of-type {\n",
       "        vertical-align: middle;\n",
       "    }\n",
       "\n",
       "    .dataframe tbody tr th {\n",
       "        vertical-align: top;\n",
       "    }\n",
       "\n",
       "    .dataframe thead th {\n",
       "        text-align: right;\n",
       "    }\n",
       "</style>\n",
       "<table border=\"1\" class=\"dataframe\">\n",
       "  <thead>\n",
       "    <tr style=\"text-align: right;\">\n",
       "      <th></th>\n",
       "      <th>index</th>\n",
       "      <th>country</th>\n",
       "      <th>province</th>\n",
       "      <th>region</th>\n",
       "      <th>price</th>\n",
       "      <th>variety</th>\n",
       "      <th>year_of_wine</th>\n",
       "    </tr>\n",
       "  </thead>\n",
       "  <tbody>\n",
       "    <tr>\n",
       "      <th>96588</th>\n",
       "      <td>100226</td>\n",
       "      <td>France</td>\n",
       "      <td>Alsace</td>\n",
       "      <td>Alsace</td>\n",
       "      <td>48.0</td>\n",
       "      <td>Gewürztraminer</td>\n",
       "      <td>2014</td>\n",
       "    </tr>\n",
       "    <tr>\n",
       "      <th>29171</th>\n",
       "      <td>30266</td>\n",
       "      <td>Italy</td>\n",
       "      <td>Northeastern Italy</td>\n",
       "      <td>Collio</td>\n",
       "      <td>11.0</td>\n",
       "      <td>Friulano</td>\n",
       "      <td>2013</td>\n",
       "    </tr>\n",
       "    <tr>\n",
       "      <th>32367</th>\n",
       "      <td>33636</td>\n",
       "      <td>US</td>\n",
       "      <td>California</td>\n",
       "      <td>California Other</td>\n",
       "      <td>9.0</td>\n",
       "      <td>Merlot</td>\n",
       "      <td>2014</td>\n",
       "    </tr>\n",
       "    <tr>\n",
       "      <th>78874</th>\n",
       "      <td>81896</td>\n",
       "      <td>US</td>\n",
       "      <td>Oregon</td>\n",
       "      <td>Southern Oregon</td>\n",
       "      <td>24.0</td>\n",
       "      <td>Syrah</td>\n",
       "      <td>2009</td>\n",
       "    </tr>\n",
       "  </tbody>\n",
       "</table>\n",
       "</div>"
      ],
      "text/plain": [
       "        index country            province            region  price  \\\n",
       "96588  100226  France              Alsace            Alsace   48.0   \n",
       "29171   30266   Italy  Northeastern Italy            Collio   11.0   \n",
       "32367   33636      US          California  California Other    9.0   \n",
       "78874   81896      US              Oregon   Southern Oregon   24.0   \n",
       "\n",
       "              variety  year_of_wine  \n",
       "96588  Gewürztraminer          2014  \n",
       "29171        Friulano          2013  \n",
       "32367          Merlot          2014  \n",
       "78874           Syrah          2009  "
      ]
     },
     "execution_count": 57,
     "metadata": {},
     "output_type": "execute_result"
    }
   ],
   "source": [
    "X_test_copy = copy.deepcopy(X_test)\n",
    "X_test_copy.head(4)\n"
   ]
  },
  {
   "cell_type": "code",
   "execution_count": 58,
   "metadata": {},
   "outputs": [
    {
     "name": "stdout",
     "output_type": "stream",
     "text": [
      "US           15834\n",
      "France        4907\n",
      "Italy         4896\n",
      "Spain         1832\n",
      "Argentina     1101\n",
      "Australia      655\n",
      "Canada          86\n",
      "Name: country, dtype: int64\n"
     ]
    }
   ],
   "source": [
    "# check number of US values in X_train\n",
    "frequencies = X_test_copy[\"country\"].value_counts()\n",
    "frequencies.sort_values\n",
    "print(frequencies)"
   ]
  },
  {
   "cell_type": "markdown",
   "metadata": {},
   "source": [
    "# One hot encoding (constant)"
   ]
  },
  {
   "cell_type": "code",
   "execution_count": 59,
   "metadata": {},
   "outputs": [],
   "source": [
    "X_train = pd.get_dummies(X_train, columns=['country'])\n",
    "X_train = pd.get_dummies(X_train, columns=['province'])\n",
    "X_train = pd.get_dummies(X_train, columns=['region'])\n",
    "X_train = pd.get_dummies(X_train, columns=['variety'])"
   ]
  },
  {
   "cell_type": "markdown",
   "metadata": {},
   "source": [
    "# Setting: number of experinents"
   ]
  },
  {
   "cell_type": "code",
   "execution_count": 60,
   "metadata": {},
   "outputs": [],
   "source": [
    "n = [10, 20, 30, 40, 50]"
   ]
  },
  {
   "cell_type": "markdown",
   "metadata": {},
   "source": [
    "# Results Typos in Data"
   ]
  },
  {
   "cell_type": "code",
   "execution_count": 61,
   "metadata": {},
   "outputs": [
    {
     "name": "stdout",
     "output_type": "stream",
     "text": [
      "****************************************************************************************************\n",
      "[OK] Inserting typos in 1583 out of 15834 rows in US. (10%)\n",
      "[OK] Experiment 1: \n",
      "Mean Absolute Error: 2.1889\n",
      "Mean Squared Error: 8.7739\n",
      "Root Mean Squared Error: 2.9621\n",
      "Elapsed time:  15.76\n",
      "****************************************************************************************************\n",
      "[OK] Inserting typos in 3166 out of 15834 rows in US. (20%)\n",
      "[OK] Experiment 2: \n",
      "Mean Absolute Error: 2.1862\n",
      "Mean Squared Error: 8.751\n",
      "Root Mean Squared Error: 2.9582\n",
      "Elapsed time:  25.48\n",
      "****************************************************************************************************\n",
      "[OK] Inserting typos in 4750 out of 15834 rows in US. (30%)\n",
      "[OK] Experiment 3: \n",
      "Mean Absolute Error: 2.1822\n",
      "Mean Squared Error: 8.7085\n",
      "Root Mean Squared Error: 2.951\n",
      "Elapsed time:  41.99\n",
      "****************************************************************************************************\n",
      "[OK] Inserting typos in 6333 out of 15834 rows in US. (40%)\n",
      "[OK] Experiment 4: \n",
      "Mean Absolute Error: 2.1789\n",
      "Mean Squared Error: 8.6735\n",
      "Root Mean Squared Error: 2.9451\n",
      "Elapsed time:  72.06\n",
      "****************************************************************************************************\n",
      "[OK] Inserting typos in 7917 out of 15834 rows in US. (50%)\n",
      "[OK] Experiment 5: \n",
      "Mean Absolute Error: 2.1852\n",
      "Mean Squared Error: 8.7003\n",
      "Root Mean Squared Error: 2.9496\n",
      "Elapsed time:  102.72\n",
      "****************************************************************************************************\n",
      "[OK] Finished\n"
     ]
    }
   ],
   "source": [
    "i = 0\n",
    "results = list()\n",
    "\n",
    "\n",
    "typos = list()\n",
    "\n",
    "for X_test_typos in typos_generator.generate_dirty_data(X_test_copy, \"country\", \"US\", n):\n",
    "    # store data with typos for further cleaning\n",
    "    typos.append(X_test_typos)\n",
    "    \n",
    "    print(\"[OK] Experiment {}: \".format(i+1))\n",
    "    start_time = time.time()\n",
    "    # get hyperparameters\n",
    "    # max_depth, min_samples_split = get_hyperparameters(X_train, y_train)\n",
    "    # print(\"max_depth: {}, min_samples_split: {}\".format(max_depth, min_samples_split))\n",
    "    \n",
    "    # one hot encoding (variable)\n",
    "    X_test_typos = pd.get_dummies(X_test_typos, columns=['country'])\n",
    "    X_test_typos = pd.get_dummies(X_test_typos, columns=['province'])\n",
    "    X_test_typos = pd.get_dummies(X_test_typos, columns=['region'])\n",
    "    X_test_typos = pd.get_dummies(X_test_typos, columns=['variety'])\n",
    "    \n",
    "    X_test_typos, X_train = X_test_typos.align(X_train, join='outer', axis=1, fill_value=0)\n",
    "    \n",
    "    # print(X_test_typos.shape, X_test.shape, y_train.shape, y_test.shape)\n",
    "    \n",
    "    # apply regression\n",
    "    regressor = DecisionTreeRegressor()  \n",
    "    regressor.fit(X_train, y_train) # Train the model using the training sets\n",
    "    y_pred = regressor.predict(X_test_typos) # Make predictions using the testing set\n",
    "\n",
    "    # The evaluation metrics\n",
    "    mae = round(metrics.mean_absolute_error(y_test, y_pred), 4)\n",
    "    mse = round(metrics.mean_squared_error(y_test, y_pred), 4)\n",
    "    rmse = round(np.sqrt(metrics.mean_squared_error(y_test, y_pred)), 4)\n",
    "    elapsed_time = round(time.time() - start_time, 2)\n",
    "    \n",
    "    print('Mean Absolute Error:', mae)  \n",
    "    print('Mean Squared Error:', mse)\n",
    "    print('Root Mean Squared Error:', rmse)\n",
    "    print('Elapsed time: ', elapsed_time)\n",
    "    print(\"*****\"*20)\n",
    "    \n",
    "    # store results\n",
    "    result = dict(\n",
    "        n=i+1,\n",
    "        columns=len(X_test_typos.columns),\n",
    "        elapsed_time=elapsed_time,\n",
    "        results=dict(mae=mae, mse=mse, rmse=rmse)\n",
    "    )\n",
    "    results.append(result)\n",
    "    i += 1"
   ]
  },
  {
   "cell_type": "code",
   "execution_count": 62,
   "metadata": {},
   "outputs": [
    {
     "name": "stdout",
     "output_type": "stream",
     "text": [
      "[   {   'columns': 2946,\n",
      "        'elapsed_time': 15.76,\n",
      "        'n': 1,\n",
      "        'results': {'mae': 2.1889, 'mse': 8.7739, 'rmse': 2.9621}},\n",
      "    {   'columns': 5349,\n",
      "        'elapsed_time': 25.48,\n",
      "        'n': 2,\n",
      "        'results': {'mae': 2.1862, 'mse': 8.751, 'rmse': 2.9582}},\n",
      "    {   'columns': 8482,\n",
      "        'elapsed_time': 41.99,\n",
      "        'n': 3,\n",
      "        'results': {'mae': 2.1822, 'mse': 8.7085, 'rmse': 2.951}},\n",
      "    {   'columns': 12025,\n",
      "        'elapsed_time': 72.06,\n",
      "        'n': 4,\n",
      "        'results': {'mae': 2.1789, 'mse': 8.6735, 'rmse': 2.9451}},\n",
      "    {   'columns': 15751,\n",
      "        'elapsed_time': 102.72,\n",
      "        'n': 5,\n",
      "        'results': {'mae': 2.1852, 'mse': 8.7003, 'rmse': 2.9496}}]\n"
     ]
    }
   ],
   "source": [
    "import pprint\n",
    "pp = pprint.PrettyPrinter(indent=4)\n",
    "pp.pprint(results)"
   ]
  },
  {
   "cell_type": "markdown",
   "metadata": {},
   "source": [
    "<h1> Predictor cleaned typos in country </h1>"
   ]
  },
  {
   "cell_type": "markdown",
   "metadata": {},
   "source": [
    "* <b>Iterates through dataframes with n% of typos (previously stored)</b>\n",
    "* <b>In each case, detects and clean typos</b>\n",
    "* <b>In each case, executes one hot encoding of categorical variables</b>\n",
    "* <b>Retrieves base MSE of data with n-typos</b>\n",
    "* <b>Stores metrics for further statistics</b>"
   ]
  },
  {
   "cell_type": "markdown",
   "metadata": {},
   "source": [
    "# Typos cleaner"
   ]
  },
  {
   "cell_type": "code",
   "execution_count": 63,
   "metadata": {},
   "outputs": [],
   "source": [
    "def clean_value(value, original, percent):\n",
    "    typos_chars = list(value)\n",
    "    items = list(original)\n",
    "    \n",
    "    check_list = dict()\n",
    "    for item in items:\n",
    "        check_list[item] = False\n",
    "    \n",
    "    # check if value contains all chars of original\n",
    "    for typo in typos_chars:\n",
    "        if typo in original:\n",
    "            if check_list[typo]:\n",
    "                continue\n",
    "            check_list[typo] = True\n",
    "    \n",
    "    # how many characters from the original were found, \n",
    "    # correctnes 100 means, all characters in the original were found\n",
    "    correctness = int((percent * len(original)) / 100.0)\n",
    "    corrected = len([x for x in check_list.values() if x])\n",
    "\n",
    "    if corrected < correctness:\n",
    "    # print(\"[ERROR] Couldnt clean: {}.\".format(value))\n",
    "        return value\n",
    "\n",
    "    return original"
   ]
  },
  {
   "cell_type": "markdown",
   "metadata": {},
   "source": [
    "# Typos detection"
   ]
  },
  {
   "cell_type": "code",
   "execution_count": 64,
   "metadata": {},
   "outputs": [],
   "source": [
    "def detect_typos(df, column_name, column_value, expected_distinct_values, correctness):\n",
    "    i = 0\n",
    "    b = 0\n",
    "    print(\"[OK] Clean correctness: {}%\".format(correctness))\n",
    "    for index, row in df.iterrows():\n",
    "        value = row[column_name]\n",
    "        if value in expected_distinct_values:\n",
    "            continue\n",
    "        \n",
    "        new_value = clean_value(value, column_value, correctness)\n",
    "        \n",
    "        if value != new_value:\n",
    "            df.at[index, column_name] = new_value\n",
    "            # print(\"[OK] Cleaning {} results in {}\".format(value, new_value))\n",
    "            i += 1\n",
    "        else:\n",
    "            # discard the row that couldnt be cleaned\n",
    "            # df.at[index, column_name] = np.NaN\n",
    "            b += 1\n",
    "    \n",
    "    # print(\"[OK] Typos detected: {}\".format(b+i))\n",
    "    # print(\"[OK] Cleaned: {} rows\".format(i))\n",
    "    print(\"[WARN] Couldn't clean {} rows\".format(b)) \n",
    "    return df"
   ]
  },
  {
   "cell_type": "markdown",
   "metadata": {},
   "source": [
    "# Result CLEANED typos"
   ]
  },
  {
   "cell_type": "code",
   "execution_count": 65,
   "metadata": {},
   "outputs": [
    {
     "name": "stdout",
     "output_type": "stream",
     "text": [
      "[OK] Experiment 1: \n",
      "[OK] Clean correctness: 100%\n",
      "[WARN] Couldn't clean 872 rows\n",
      "Mean Absolute Error: 2.1884\n",
      "Mean Squared Error: 8.7892\n",
      "Root Mean Squared Error: 2.9647\n",
      "Elapsed time:  77.59\n",
      "****************************************************************************************************\n",
      "[OK] Experiment 2: \n",
      "[OK] Clean correctness: 100%\n",
      "[WARN] Couldn't clean 1764 rows\n",
      "Mean Absolute Error: 2.1854\n",
      "Mean Squared Error: 8.7729\n",
      "Root Mean Squared Error: 2.9619\n",
      "Elapsed time:  77.55\n",
      "****************************************************************************************************\n",
      "[OK] Experiment 3: \n",
      "[OK] Clean correctness: 100%\n",
      "[WARN] Couldn't clean 2673 rows\n",
      "Mean Absolute Error: 2.1843\n",
      "Mean Squared Error: 8.7551\n",
      "Root Mean Squared Error: 2.9589\n",
      "Elapsed time:  75.54\n",
      "****************************************************************************************************\n",
      "[OK] Experiment 4: \n",
      "[OK] Clean correctness: 100%\n",
      "[WARN] Couldn't clean 3458 rows\n",
      "Mean Absolute Error: 2.1809\n",
      "Mean Squared Error: 8.7371\n",
      "Root Mean Squared Error: 2.9559\n",
      "Elapsed time:  79.24\n",
      "****************************************************************************************************\n",
      "[OK] Experiment 5: \n",
      "[OK] Clean correctness: 100%\n",
      "[WARN] Couldn't clean 4400 rows\n",
      "Mean Absolute Error: 2.1833\n",
      "Mean Squared Error: 8.7538\n",
      "Root Mean Squared Error: 2.9587\n",
      "Elapsed time:  76.89\n",
      "****************************************************************************************************\n"
     ]
    }
   ],
   "source": [
    "# data cleaning settings\n",
    "expected_distinct_values = ['US', 'Spain', 'Italy', 'France', 'Argentina', 'Australia', 'Canada']\n",
    "correctness = 100\n",
    "\n",
    "i = 0\n",
    "results = list()\n",
    "\n",
    "\n",
    "for X_test_typos in typos:\n",
    "    print(\"[OK] Experiment {}: \".format(i+1))\n",
    "    start_time = time.time()\n",
    "    \n",
    "    # data detect and clean\n",
    "    X_test_typos = detect_typos(X_test_typos, \"country\", \"US\", expected_distinct_values, correctness)\n",
    "    \n",
    "    # one hot encoding (variable)\n",
    "    X_test_typos = pd.get_dummies(X_test_typos, columns=['country'])\n",
    "    X_test_typos = pd.get_dummies(X_test_typos, columns=['province'])\n",
    "    X_test_typos = pd.get_dummies(X_test_typos, columns=['region'])\n",
    "    X_test_typos = pd.get_dummies(X_test_typos, columns=['variety'])\n",
    "    \n",
    "    X_test_typos, X_train = X_test_typos.align(X_train, join='outer', axis=1, fill_value=0)\n",
    "    \n",
    "    # print(X_test_typos.shape, X_test.shape, y_train.shape, y_test.shape)\n",
    "    \n",
    "    # apply regression\n",
    "    regressor = DecisionTreeRegressor()  \n",
    "    regressor.fit(X_train, y_train) # Train the model using the training sets\n",
    "    y_pred = regressor.predict(X_test_typos) # Make predictions using the testing set\n",
    "\n",
    "    # The evaluation metrics\n",
    "    mae = round(metrics.mean_absolute_error(y_test, y_pred), 4)\n",
    "    mse = round(metrics.mean_squared_error(y_test, y_pred), 4)\n",
    "    rmse = round(np.sqrt(metrics.mean_squared_error(y_test, y_pred)), 4)\n",
    "    elapsed_time = round(time.time() - start_time, 2)\n",
    "    \n",
    "    print('Mean Absolute Error:', mae)  \n",
    "    print('Mean Squared Error:', mse)\n",
    "    print('Root Mean Squared Error:', rmse)\n",
    "    print('Elapsed time: ', elapsed_time)\n",
    "    print(\"*****\"*20)\n",
    "    \n",
    "    # store results\n",
    "    result = dict(\n",
    "        n=i+1,\n",
    "        columns=len(X_test_typos.columns),\n",
    "        elapsed_time=elapsed_time,\n",
    "        results=dict(mae=mae, mse=mse, rmse=rmse)\n",
    "    )\n",
    "    results.append(result)\n",
    "    i += 1"
   ]
  },
  {
   "cell_type": "code",
   "execution_count": 66,
   "metadata": {},
   "outputs": [
    {
     "name": "stdout",
     "output_type": "stream",
     "text": [
      "[   {   'columns': 15751,\n",
      "        'elapsed_time': 77.59,\n",
      "        'n': 1,\n",
      "        'results': {'mae': 2.1884, 'mse': 8.7892, 'rmse': 2.9647}},\n",
      "    {   'columns': 15751,\n",
      "        'elapsed_time': 77.55,\n",
      "        'n': 2,\n",
      "        'results': {'mae': 2.1854, 'mse': 8.7729, 'rmse': 2.9619}},\n",
      "    {   'columns': 15751,\n",
      "        'elapsed_time': 75.54,\n",
      "        'n': 3,\n",
      "        'results': {'mae': 2.1843, 'mse': 8.7551, 'rmse': 2.9589}},\n",
      "    {   'columns': 15751,\n",
      "        'elapsed_time': 79.24,\n",
      "        'n': 4,\n",
      "        'results': {'mae': 2.1809, 'mse': 8.7371, 'rmse': 2.9559}},\n",
      "    {   'columns': 15751,\n",
      "        'elapsed_time': 76.89,\n",
      "        'n': 5,\n",
      "        'results': {'mae': 2.1833, 'mse': 8.7538, 'rmse': 2.9587}}]\n"
     ]
    }
   ],
   "source": [
    "import pprint\n",
    "pp = pprint.PrettyPrinter(indent=4)\n",
    "pp.pprint(results)"
   ]
  },
  {
   "cell_type": "code",
   "execution_count": null,
   "metadata": {},
   "outputs": [],
   "source": []
  }
 ],
 "metadata": {
  "kernelspec": {
   "display_name": "Python 3",
   "language": "python",
   "name": "python3"
  },
  "language_info": {
   "codemirror_mode": {
    "name": "ipython",
    "version": 3
   },
   "file_extension": ".py",
   "mimetype": "text/x-python",
   "name": "python",
   "nbconvert_exporter": "python",
   "pygments_lexer": "ipython3",
   "version": "3.7.0"
  }
 },
 "nbformat": 4,
 "nbformat_minor": 2
}
