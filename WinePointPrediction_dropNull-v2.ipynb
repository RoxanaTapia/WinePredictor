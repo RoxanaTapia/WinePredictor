{
 "cells": [
  {
   "cell_type": "code",

   "execution_count": 19,

   "execution_count": 73,

   "metadata": {},
   "outputs": [],
   "source": [
    "import pandas as pd \n",
    "import numpy as np\n",
    "import matplotlib.pyplot as plt\n",
    "%matplotlib inline\n",
    "from sklearn import linear_model\n",
    "from sklearn.linear_model import LinearRegression\n",
    "from sklearn import metrics\n",
    "from sklearn.model_selection import train_test_split\n",
    "from sklearn.metrics import mean_squared_error\n",
    "import sys"
   ]
  },
  {
   "cell_type": "code",

   "execution_count": 20,

   "execution_count": 74,

   "metadata": {},
   "outputs": [],
   "source": [
    "# # Load the Wine Dataset\n",
    "df_wine = pd.read_csv(\"data/winemag-data-130k-v2.csv\", encoding = 'utf8')"
   ]
  },
  {
   "cell_type": "code",

   "execution_count": 21,

   "execution_count": 75,

   "metadata": {},
   "outputs": [
    {
     "data": {
      "text/html": [
       "<div>\n",
       "<style scoped>\n",
       "    .dataframe tbody tr th:only-of-type {\n",
       "        vertical-align: middle;\n",
       "    }\n",
       "\n",
       "    .dataframe tbody tr th {\n",
       "        vertical-align: top;\n",
       "    }\n",
       "\n",
       "    .dataframe thead th {\n",
       "        text-align: right;\n",
       "    }\n",
       "</style>\n",
       "<table border=\"1\" class=\"dataframe\">\n",
       "  <thead>\n",
       "    <tr style=\"text-align: right;\">\n",
       "      <th></th>\n",
       "      <th>Unnamed: 0</th>\n",
       "      <th>country</th>\n",
       "      <th>description</th>\n",
       "      <th>designation</th>\n",
       "      <th>points</th>\n",
       "      <th>price</th>\n",
       "      <th>province</th>\n",
       "      <th>region_1</th>\n",
       "      <th>region_2</th>\n",
       "      <th>taster_name</th>\n",
       "      <th>taster_twitter_handle</th>\n",
       "      <th>title</th>\n",
       "      <th>variety</th>\n",
       "      <th>winery</th>\n",
       "    </tr>\n",
       "  </thead>\n",
       "  <tbody>\n",
       "    <tr>\n",
       "      <th>0</th>\n",
       "      <td>0</td>\n",
       "      <td>Italy</td>\n",
       "      <td>Aromas include tropical fruit, broom, brimston...</td>\n",
       "      <td>Vulkà Bianco</td>\n",
       "      <td>87</td>\n",
       "      <td>NaN</td>\n",
       "      <td>Sicily &amp; Sardinia</td>\n",
       "      <td>Etna</td>\n",
       "      <td>NaN</td>\n",
       "      <td>Kerin O’Keefe</td>\n",
       "      <td>@kerinokeefe</td>\n",
       "      <td>Nicosia 2013 Vulkà Bianco  (Etna)</td>\n",
       "      <td>White Blend</td>\n",
       "      <td>Nicosia</td>\n",
       "    </tr>\n",
       "    <tr>\n",
       "      <th>1</th>\n",
       "      <td>1</td>\n",
       "      <td>Portugal</td>\n",
       "      <td>This is ripe and fruity, a wine that is smooth...</td>\n",
       "      <td>Avidagos</td>\n",
       "      <td>87</td>\n",
       "      <td>15.0</td>\n",
       "      <td>Douro</td>\n",
       "      <td>NaN</td>\n",
       "      <td>NaN</td>\n",
       "      <td>Roger Voss</td>\n",
       "      <td>@vossroger</td>\n",
       "      <td>Quinta dos Avidagos 2011 Avidagos Red (Douro)</td>\n",
       "      <td>Portuguese Red</td>\n",
       "      <td>Quinta dos Avidagos</td>\n",
       "    </tr>\n",
       "    <tr>\n",
       "      <th>2</th>\n",
       "      <td>2</td>\n",
       "      <td>US</td>\n",
       "      <td>Tart and snappy, the flavors of lime flesh and...</td>\n",
       "      <td>NaN</td>\n",
       "      <td>87</td>\n",
       "      <td>14.0</td>\n",
       "      <td>Oregon</td>\n",
       "      <td>Willamette Valley</td>\n",
       "      <td>Willamette Valley</td>\n",
       "      <td>Paul Gregutt</td>\n",
       "      <td>@paulgwine</td>\n",
       "      <td>Rainstorm 2013 Pinot Gris (Willamette Valley)</td>\n",
       "      <td>Pinot Gris</td>\n",
       "      <td>Rainstorm</td>\n",
       "    </tr>\n",
       "  </tbody>\n",
       "</table>\n",
       "</div>"
      ],
      "text/plain": [
       "   Unnamed: 0   country                                        description  \\\n",
       "0           0     Italy  Aromas include tropical fruit, broom, brimston...   \n",
       "1           1  Portugal  This is ripe and fruity, a wine that is smooth...   \n",
       "2           2        US  Tart and snappy, the flavors of lime flesh and...   \n",
       "\n",
       "    designation  points  price           province           region_1  \\\n",
       "0  Vulkà Bianco      87    NaN  Sicily & Sardinia               Etna   \n",
       "1      Avidagos      87   15.0              Douro                NaN   \n",
       "2           NaN      87   14.0             Oregon  Willamette Valley   \n",
       "\n",
       "            region_2    taster_name taster_twitter_handle  \\\n",
       "0                NaN  Kerin O’Keefe          @kerinokeefe   \n",
       "1                NaN     Roger Voss            @vossroger   \n",
       "2  Willamette Valley   Paul Gregutt           @paulgwine    \n",
       "\n",
       "                                           title         variety  \\\n",
       "0              Nicosia 2013 Vulkà Bianco  (Etna)     White Blend   \n",
       "1  Quinta dos Avidagos 2011 Avidagos Red (Douro)  Portuguese Red   \n",
       "2  Rainstorm 2013 Pinot Gris (Willamette Valley)      Pinot Gris   \n",
       "\n",
       "                winery  \n",
       "0              Nicosia  \n",
       "1  Quinta dos Avidagos  \n",
       "2            Rainstorm  "
      ]
     },

     "execution_count": 21,

     "execution_count": 75,

     "metadata": {},
     "output_type": "execute_result"
    }
   ],
   "source": [
    "df_wine.head(3)"
   ]
  },
  {
   "cell_type": "code",

   "execution_count": 22,

   "execution_count": 76,

   "metadata": {},
   "outputs": [],
   "source": [
    "#df_wine = df_wine.drop('points', 1)"
   ]
  },
  {
   "cell_type": "code",

   "execution_count": 23,

   "execution_count": 77,

   "metadata": {},
   "outputs": [
    {
     "name": "stdout",
     "output_type": "stream",
     "text": [
      "Unnamed: 0                 int64\n",
      "country                   object\n",
      "description               object\n",
      "designation               object\n",
      "points                     int64\n",
      "price                    float64\n",
      "province                  object\n",
      "region_1                  object\n",
      "region_2                  object\n",
      "taster_name               object\n",
      "taster_twitter_handle     object\n",
      "title                     object\n",
      "variety                   object\n",
      "winery                    object\n",
      "dtype: object\n"
     ]
    }
   ],
   "source": [
    "print(df_wine.dtypes)"
   ]
  },
  {
   "cell_type": "code",

   "execution_count": 24,

   "execution_count": 78,

   "metadata": {},
   "outputs": [
    {
     "data": {
      "text/plain": [
       "Unnamed: 0                   0\n",
       "country                     63\n",
       "description                  0\n",
       "designation              37465\n",
       "points                       0\n",
       "price                     8996\n",
       "province                    63\n",
       "region_1                 21247\n",
       "region_2                 79460\n",
       "taster_name              26244\n",
       "taster_twitter_handle    31213\n",
       "title                        0\n",
       "variety                      1\n",
       "winery                       0\n",
       "dtype: int64"
      ]
     },

     "execution_count": 24,

     "execution_count": 78,

     "metadata": {},
     "output_type": "execute_result"
    }
   ],
   "source": [
    "# Finding the number of rows with NULL values\n",
    "df_wine.isnull().sum()"
   ]
  },
  {
   "cell_type": "code",

   "execution_count": 25,

   "execution_count": 79,

   "metadata": {},
   "outputs": [],
   "source": [
    "# DROP region_2 column since most of the records NULL and we have region_1\n",
    "df_wine = df_wine.drop('region_2', 1)"
   ]
  },
  {
   "cell_type": "code",

   "execution_count": 26,

   "execution_count": 80,

   "metadata": {},
   "outputs": [
    {
     "data": {
      "text/plain": [
       "(52106, 13)"
      ]
     },

     "execution_count": 26,

     "execution_count": 80,

     "metadata": {},
     "output_type": "execute_result"
    }
   ],
   "source": [
    "# DROP rows with NULL values\n",
    "df_wine=df_wine.dropna()\n",
    "df_wine.shape"
   ]
  },
  {
   "cell_type": "code",

   "execution_count": 27,

   "execution_count": 81,

   "metadata": {},
   "outputs": [
    {
     "data": {
      "text/plain": [
       "count    52106.000000\n",
       "mean        39.744847\n",
       "std         36.662203\n",
       "min          4.000000\n",
       "25%         20.000000\n",
       "50%         30.000000\n",
       "75%         50.000000\n",
       "max       2013.000000\n",
       "Name: price, dtype: float64"
      ]
     },

     "execution_count": 27,

     "execution_count": 81,

     "metadata": {},
     "output_type": "execute_result"
    }
   ],
   "source": [
    "df_wine['price'].describe()"
   ]
  },
  {


   "cell_type": "code",
   "execution_count": 82,
   "metadata": {},
   "outputs": [
    {
     "name": "stdout",
     "output_type": "stream",
     "text": [
      "with outliers:  52106\n",
      "without outliers:  50553\n"
     ]
    }
   ],
   "source": [
    "# drop price outliers\n",
    "print(\"with outliers: \", len(df_wine))\n",
    "      \n",
    "def reject_outliers(data, m=2):\n",
    "    return data[abs(data - np.mean(data)) < m * np.std(data)]\n",
    "\n",
    "prices_wo_outliers = reject_outliers(df_wine['price'].values)\n",
    "\n",
    "min_price = min(prices_wo_outliers)\n",
    "max_price = max(prices_wo_outliers)\n",
    "\n",
    "df_wine = df_wine.drop(df_wine[df_wine.price < min_price].index)\n",
    "df_wine = df_wine.drop(df_wine[df_wine.price > max_price].index)\n",
    "\n",
    "print(\"without outliers: \", len(df_wine.price))"
   ]
  },
  {
   "cell_type": "code",
   "execution_count": 83,
   "metadata": {},
   "outputs": [
    {
     "name": "stdout",
     "output_type": "stream",
     "text": [
      "coeficient:  0.07536702242943438\n",
      "intercept:  86.24219051985905\n",
      "mse: 6.044635922215487\n",
      "score:  1.0\n"
     ]
    }
   ],
   "source": [
    "# linear regression\n",
    "X = df_wine.price.values\n",
    "Y = df_wine.points.values\n",
    "\n",
    "# training and test separation\n",
    "X_train, X_test, y_train, y_test = train_test_split(X.reshape(-1, 1), Y, test_size=0.20)\n",
    "\n",
    "model = LinearRegression()\n",
    "\n",
    "model.fit(X_train, y_train)\n",
    "y_pred = model.predict(X_test)\n",
    "\n",
    "w = model.coef_[0] # parameters of model\n",
    "b = model.intercept_ #intercept of model\n",
    "\n",
    "mse = mean_squared_error(y_test, y_pred)\n",
    "rmse = np.sqrt(mse)\n",
    "r2_score = model.score(X_test, y_pred)\n",
    "\n",
    "print(\"coeficient: \", w)\n",
    "print(\"intercept: \", b)\n",
    "\n",
    "print(\"mse:\", mse)\n",
    "print(\"score: \", r2_score)"
   ]
  },
  {
   "cell_type": "code",
   "execution_count": 84,
   "metadata": {},
   "outputs": [
    {
     "data": {
      "text/plain": [
       "[<matplotlib.lines.Line2D at 0x138caf860>]"
      ]
     },
     "execution_count": 84,
     "metadata": {},
     "output_type": "execute_result"
    },
    {
     "data": {
      "image/png": "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\n",
      "text/plain": [
       "<Figure size 432x288 with 1 Axes>"
      ]
     },
     "metadata": {},
     "output_type": "display_data"
    }
   ],
   "source": [
    "max_x = np.max(X_test)\n",
    "min_x = np.min(X_test)\n",
    "\n",
    "x = np.linspace(min_x, max_x, 1000)\n",
    "y = b + w*x\n",
    "\n",
    "plt.plot(x, y,'-', color=\"#58b970\")\n",
    "plt.plot(X_test, y_test,'o', color=\"#ef5423\")"
   ]
  },
  {

   "cell_type": "markdown",
   "metadata": {},
   "source": [
    "# Convert categorical COUNTRY column to Numeric"
   ]
  },
  {
   "cell_type": "code",

   "execution_count": 28,

   "execution_count": 85,

   "metadata": {},
   "outputs": [
    {
     "data": {
      "text/plain": [
       "array(['US', 'Spain', 'Italy', 'France', 'Argentina', 'Australia',\n",
       "       'Canada'], dtype=object)"
      ]
     },

     "execution_count": 28,

     "execution_count": 85,

     "metadata": {},
     "output_type": "execute_result"
    }
   ],
   "source": [
    "df_wine['country'].unique()"
   ]
  },
  {
   "cell_type": "code",

   "execution_count": 29,

   "execution_count": 86,

   "metadata": {},
   "outputs": [
    {
     "data": {
      "text/html": [
       "<div>\n",
       "<style scoped>\n",
       "    .dataframe tbody tr th:only-of-type {\n",
       "        vertical-align: middle;\n",
       "    }\n",
       "\n",
       "    .dataframe tbody tr th {\n",
       "        vertical-align: top;\n",
       "    }\n",
       "\n",
       "    .dataframe thead th {\n",
       "        text-align: right;\n",
       "    }\n",
       "</style>\n",
       "<table border=\"1\" class=\"dataframe\">\n",
       "  <thead>\n",
       "    <tr style=\"text-align: right;\">\n",
       "      <th></th>\n",
       "      <th>Unnamed: 0</th>\n",
       "      <th>description</th>\n",
       "      <th>designation</th>\n",
       "      <th>points</th>\n",
       "      <th>price</th>\n",
       "      <th>province</th>\n",
       "      <th>region_1</th>\n",
       "      <th>taster_name</th>\n",
       "      <th>taster_twitter_handle</th>\n",
       "      <th>title</th>\n",
       "      <th>variety</th>\n",
       "      <th>winery</th>\n",
       "      <th>from_Argentina</th>\n",
       "      <th>from_Australia</th>\n",
       "      <th>from_Canada</th>\n",
       "      <th>from_France</th>\n",
       "      <th>from_Italy</th>\n",
       "      <th>from_Spain</th>\n",
       "      <th>from_US</th>\n",
       "    </tr>\n",
       "  </thead>\n",
       "  <tbody>\n",
       "    <tr>\n",
       "      <th>4</th>\n",
       "      <td>4</td>\n",
       "      <td>Much like the regular bottling from 2012, this...</td>\n",
       "      <td>Vintner's Reserve Wild Child Block</td>\n",
       "      <td>87</td>\n",
       "      <td>65.0</td>\n",
       "      <td>Oregon</td>\n",
       "      <td>Willamette Valley</td>\n",
       "      <td>Paul Gregutt</td>\n",
       "      <td>@paulgwine</td>\n",
       "      <td>Sweet Cheeks 2012 Vintner's Reserve Wild Child...</td>\n",
       "      <td>Pinot Noir</td>\n",
       "      <td>Sweet Cheeks</td>\n",
       "      <td>0</td>\n",
       "      <td>0</td>\n",
       "      <td>0</td>\n",
       "      <td>0</td>\n",
       "      <td>0</td>\n",
       "      <td>0</td>\n",
       "      <td>1</td>\n",
       "    </tr>\n",
       "    <tr>\n",
       "      <th>5</th>\n",
       "      <td>5</td>\n",
       "      <td>Blackberry and raspberry aromas show a typical...</td>\n",
       "      <td>Ars In Vitro</td>\n",
       "      <td>87</td>\n",
       "      <td>15.0</td>\n",
       "      <td>Northern Spain</td>\n",
       "      <td>Navarra</td>\n",
       "      <td>Michael Schachner</td>\n",
       "      <td>@wineschach</td>\n",
       "      <td>Tandem 2011 Ars In Vitro Tempranillo-Merlot (N...</td>\n",
       "      <td>Tempranillo-Merlot</td>\n",
       "      <td>Tandem</td>\n",
       "      <td>0</td>\n",
       "      <td>0</td>\n",
       "      <td>0</td>\n",
       "      <td>0</td>\n",
       "      <td>0</td>\n",
       "      <td>1</td>\n",
       "      <td>0</td>\n",
       "    </tr>\n",
       "    <tr>\n",
       "      <th>6</th>\n",
       "      <td>6</td>\n",
       "      <td>Here's a bright, informal red that opens with ...</td>\n",
       "      <td>Belsito</td>\n",
       "      <td>87</td>\n",
       "      <td>16.0</td>\n",
       "      <td>Sicily &amp; Sardinia</td>\n",
       "      <td>Vittoria</td>\n",
       "      <td>Kerin O’Keefe</td>\n",
       "      <td>@kerinokeefe</td>\n",
       "      <td>Terre di Giurfo 2013 Belsito Frappato (Vittoria)</td>\n",
       "      <td>Frappato</td>\n",
       "      <td>Terre di Giurfo</td>\n",
       "      <td>0</td>\n",
       "      <td>0</td>\n",
       "      <td>0</td>\n",
       "      <td>0</td>\n",
       "      <td>1</td>\n",
       "      <td>0</td>\n",
       "      <td>0</td>\n",
       "    </tr>\n",
       "  </tbody>\n",
       "</table>\n",
       "</div>"
      ],
      "text/plain": [
       "   Unnamed: 0                                        description  \\\n",
       "4           4  Much like the regular bottling from 2012, this...   \n",
       "5           5  Blackberry and raspberry aromas show a typical...   \n",
       "6           6  Here's a bright, informal red that opens with ...   \n",
       "\n",
       "                          designation  points  price           province  \\\n",
       "4  Vintner's Reserve Wild Child Block      87   65.0             Oregon   \n",
       "5                        Ars In Vitro      87   15.0     Northern Spain   \n",
       "6                             Belsito      87   16.0  Sicily & Sardinia   \n",
       "\n",
       "            region_1        taster_name taster_twitter_handle  \\\n",
       "4  Willamette Valley       Paul Gregutt           @paulgwine    \n",
       "5            Navarra  Michael Schachner           @wineschach   \n",
       "6           Vittoria      Kerin O’Keefe          @kerinokeefe   \n",
       "\n",
       "                                               title             variety  \\\n",
       "4  Sweet Cheeks 2012 Vintner's Reserve Wild Child...          Pinot Noir   \n",
       "5  Tandem 2011 Ars In Vitro Tempranillo-Merlot (N...  Tempranillo-Merlot   \n",
       "6   Terre di Giurfo 2013 Belsito Frappato (Vittoria)            Frappato   \n",
       "\n",
       "            winery  from_Argentina  from_Australia  from_Canada  from_France  \\\n",
       "4     Sweet Cheeks               0               0            0            0   \n",
       "5           Tandem               0               0            0            0   \n",
       "6  Terre di Giurfo               0               0            0            0   \n",
       "\n",
       "   from_Italy  from_Spain  from_US  \n",
       "4           0           0        1  \n",
       "5           0           1        0  \n",
       "6           1           0        0  "
      ]
     },

     "execution_count": 29,

     "execution_count": 86,

     "metadata": {},
     "output_type": "execute_result"
    }
   ],
   "source": [
    "df_country = df_wine.country.str.get_dummies() # get the pivot of the country attribte\n",
    "df_country.columns = ['from_' + col for col in df_country.columns] # naming the columns\n",
    "df_wine = pd.concat([df_wine, df_country], axis=1) # combine main dataframe with country matrix dataframe\n",
    "df_wine = df_wine.drop('country', axis=1) # drop the country attribute since different attributes per country value\n",
    "df_wine.head(3)"
   ]
  },
  {
   "cell_type": "code",

   "execution_count": 30,

   "execution_count": 87,

   "metadata": {},
   "outputs": [
    {
     "name": "stdout",
     "output_type": "stream",
     "text": [
      "Unnamed: 0                 int64\n",
      "description               object\n",
      "designation               object\n",
      "points                     int64\n",
      "price                    float64\n",
      "province                  object\n",
      "region_1                  object\n",
      "taster_name               object\n",
      "taster_twitter_handle     object\n",
      "title                     object\n",
      "variety                   object\n",
      "winery                    object\n",
      "from_Argentina             int64\n",
      "from_Australia             int64\n",
      "from_Canada                int64\n",
      "from_France                int64\n",
      "from_Italy                 int64\n",
      "from_Spain                 int64\n",
      "from_US                    int64\n",
      "dtype: object\n"
     ]
    }
   ],
   "source": [
    "print(df_wine.dtypes)"
   ]
  },
  {
   "cell_type": "code",

   "execution_count": 31,
   "metadata": {},
   "outputs": [],
   "source": [
    "# DEFINE X and Y VARIABLES\n",
    "df_X = df_wine.loc[:, 'from_Argentina':'from_US']\n",
    "df_X = pd.concat([df_wine.price, df_X], axis=1)\n",
    "df_Y = df_wine[['points']]"
   ]
  },
  {
   "cell_type": "code",
   "execution_count": 32,
   "metadata": {},
   "outputs": [
    {
     "name": "stdout",
     "output_type": "stream",
     "text": [
      "(41684, 8) (41684, 1)\n",
      "(10422, 8) (10422, 1)\n"
     ]
    }
   ],
   "source": [
    "# devide the dataframe for training and testing \n",
    "X_train, X_test, y_train, y_test = train_test_split(df_X, df_Y, test_size=0.20)\n",
    "print (X_train.shape, y_train.shape)\n",
    "print (X_test.shape, y_test.shape)"
   ]
  },
  {
   "cell_type": "code",
   "execution_count": 33,
   "metadata": {},
   "outputs": [],
   "source": [
    "lm = linear_model.LinearRegression()\n",
    "model = lm.fit(X_train, y_train)\n",
    "y_predictions = lm.predict(X_test)"
   ]
  },
  {
   "cell_type": "code",
   "execution_count": 34,
   "metadata": {},
   "outputs": [
    {
     "data": {
      "text/plain": [
       "Text(0, 0.5, 'Predictions')"
      ]
     },
     "execution_count": 34,
     "metadata": {},
     "output_type": "execute_result"
    },
    {
     "data": {
      "image/png": "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\n",
      "text/plain": [
       "<Figure size 432x288 with 1 Axes>"
      ]
     },
     "metadata": {
      "needs_background": "light"
     },
     "output_type": "display_data"
    }
   ],
   "source": [
    "# Plot the results\n",
    "plt.scatter(y_test, y_predictions)\n",
    "plt.xlabel('True Values')\n",
    "plt.ylabel('Predictions')"
   ]
  },
  {
   "cell_type": "code",
   "execution_count": 35,
   "metadata": {},
   "outputs": [
    {
     "name": "stdout",
     "output_type": "stream",
     "text": [
      "Accuracy: 0.2572523832101331\n",
      "RMSE: 2.5484693400170486\n",
      "MAE: 2.049617206205456\n"
     ]
    }
   ],
   "source": [
    "# Accuracy score\n",
    "print ('Accuracy:', model.score(X_test, y_test))\n",
    "# Root mean squared error (RMSE)\n",
    "print('RMSE:', np.sqrt(metrics.mean_squared_error(y_test, y_predictions)))\n",
    "# Mean absolute error (MAE)\n",
    "print('MAE:', metrics.mean_absolute_error(y_test, y_predictions))"
   ]

   "execution_count": null,
   "metadata": {},
   "outputs": [],
   "source": []

  },
  {
   "cell_type": "code",
   "execution_count": null,
   "metadata": {},
   "outputs": [],
   "source": []
  }
 ],
 "metadata": {
  "kernelspec": {
   "display_name": "Python 3",
   "language": "python",
   "name": "python3"
  },
  "language_info": {
   "codemirror_mode": {
    "name": "ipython",
    "version": 3
   },
   "file_extension": ".py",
   "mimetype": "text/x-python",
   "name": "python",
   "nbconvert_exporter": "python",
   "pygments_lexer": "ipython3",

   "version": "3.6.6"

   "version": "3.7.0"

  }
 },
 "nbformat": 4,
 "nbformat_minor": 2
}
