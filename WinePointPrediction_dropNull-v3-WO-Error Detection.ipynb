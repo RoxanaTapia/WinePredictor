{
 "cells": [
  {
   "cell_type": "code",
   "execution_count": 1,
   "metadata": {},
   "outputs": [],
   "source": [
    "import pandas as pd \n",
    "import numpy as np\n",
    "import matplotlib.pyplot as plt\n",
    "%matplotlib inline\n",
    "from sklearn import linear_model\n",
    "from sklearn.linear_model import LinearRegression\n",
    "from sklearn import metrics\n",
    "from sklearn.model_selection import train_test_split\n",
    "from sklearn.metrics import mean_squared_error\n",
    "import sys"
   ]
  },
  {
   "cell_type": "code",
   "execution_count": 2,
   "metadata": {},
   "outputs": [],
   "source": [
    "# # Load the Wine Dataset\n",
    "df_wine = pd.read_csv(\"data/winemag-data-130k-v2.csv\", encoding = 'utf8', index_col=0)\n",
    "df_wine = df_wine.reset_index()"
   ]
  },
  {
   "cell_type": "code",
   "execution_count": 3,
   "metadata": {},
   "outputs": [
    {
     "data": {
      "text/html": [
       "<div>\n",
       "<style scoped>\n",
       "    .dataframe tbody tr th:only-of-type {\n",
       "        vertical-align: middle;\n",
       "    }\n",
       "\n",
       "    .dataframe tbody tr th {\n",
       "        vertical-align: top;\n",
       "    }\n",
       "\n",
       "    .dataframe thead th {\n",
       "        text-align: right;\n",
       "    }\n",
       "</style>\n",
       "<table border=\"1\" class=\"dataframe\">\n",
       "  <thead>\n",
       "    <tr style=\"text-align: right;\">\n",
       "      <th></th>\n",
       "      <th>index</th>\n",
       "      <th>country</th>\n",
       "      <th>description</th>\n",
       "      <th>designation</th>\n",
       "      <th>points</th>\n",
       "      <th>price</th>\n",
       "      <th>province</th>\n",
       "      <th>region_1</th>\n",
       "      <th>region_2</th>\n",
       "      <th>taster_name</th>\n",
       "      <th>taster_twitter_handle</th>\n",
       "      <th>title</th>\n",
       "      <th>variety</th>\n",
       "      <th>winery</th>\n",
       "    </tr>\n",
       "  </thead>\n",
       "  <tbody>\n",
       "    <tr>\n",
       "      <th>0</th>\n",
       "      <td>0</td>\n",
       "      <td>Italy</td>\n",
       "      <td>Aromas include tropical fruit, broom, brimston...</td>\n",
       "      <td>Vulkà Bianco</td>\n",
       "      <td>87</td>\n",
       "      <td>NaN</td>\n",
       "      <td>Sicily &amp; Sardinia</td>\n",
       "      <td>Etna</td>\n",
       "      <td>NaN</td>\n",
       "      <td>Kerin O’Keefe</td>\n",
       "      <td>@kerinokeefe</td>\n",
       "      <td>Nicosia 2013 Vulkà Bianco  (Etna)</td>\n",
       "      <td>White Blend</td>\n",
       "      <td>Nicosia</td>\n",
       "    </tr>\n",
       "    <tr>\n",
       "      <th>1</th>\n",
       "      <td>1</td>\n",
       "      <td>Portugal</td>\n",
       "      <td>This is ripe and fruity, a wine that is smooth...</td>\n",
       "      <td>Avidagos</td>\n",
       "      <td>87</td>\n",
       "      <td>15.0</td>\n",
       "      <td>Douro</td>\n",
       "      <td>NaN</td>\n",
       "      <td>NaN</td>\n",
       "      <td>Roger Voss</td>\n",
       "      <td>@vossroger</td>\n",
       "      <td>Quinta dos Avidagos 2011 Avidagos Red (Douro)</td>\n",
       "      <td>Portuguese Red</td>\n",
       "      <td>Quinta dos Avidagos</td>\n",
       "    </tr>\n",
       "    <tr>\n",
       "      <th>2</th>\n",
       "      <td>2</td>\n",
       "      <td>US</td>\n",
       "      <td>Tart and snappy, the flavors of lime flesh and...</td>\n",
       "      <td>NaN</td>\n",
       "      <td>87</td>\n",
       "      <td>14.0</td>\n",
       "      <td>Oregon</td>\n",
       "      <td>Willamette Valley</td>\n",
       "      <td>Willamette Valley</td>\n",
       "      <td>Paul Gregutt</td>\n",
       "      <td>@paulgwine</td>\n",
       "      <td>Rainstorm 2013 Pinot Gris (Willamette Valley)</td>\n",
       "      <td>Pinot Gris</td>\n",
       "      <td>Rainstorm</td>\n",
       "    </tr>\n",
       "  </tbody>\n",
       "</table>\n",
       "</div>"
      ],
      "text/plain": [
       "   index   country                                        description  \\\n",
       "0      0     Italy  Aromas include tropical fruit, broom, brimston...   \n",
       "1      1  Portugal  This is ripe and fruity, a wine that is smooth...   \n",
       "2      2        US  Tart and snappy, the flavors of lime flesh and...   \n",
       "\n",
       "    designation  points  price           province           region_1  \\\n",
       "0  Vulkà Bianco      87    NaN  Sicily & Sardinia               Etna   \n",
       "1      Avidagos      87   15.0              Douro                NaN   \n",
       "2           NaN      87   14.0             Oregon  Willamette Valley   \n",
       "\n",
       "            region_2    taster_name taster_twitter_handle  \\\n",
       "0                NaN  Kerin O’Keefe          @kerinokeefe   \n",
       "1                NaN     Roger Voss            @vossroger   \n",
       "2  Willamette Valley   Paul Gregutt           @paulgwine    \n",
       "\n",
       "                                           title         variety  \\\n",
       "0              Nicosia 2013 Vulkà Bianco  (Etna)     White Blend   \n",
       "1  Quinta dos Avidagos 2011 Avidagos Red (Douro)  Portuguese Red   \n",
       "2  Rainstorm 2013 Pinot Gris (Willamette Valley)      Pinot Gris   \n",
       "\n",
       "                winery  \n",
       "0              Nicosia  \n",
       "1  Quinta dos Avidagos  \n",
       "2            Rainstorm  "
      ]
     },
     "execution_count": 3,
     "metadata": {},
     "output_type": "execute_result"
    }
   ],
   "source": [
    "df_wine.head(3)"
   ]
  },
  {
   "cell_type": "code",
   "execution_count": 4,
   "metadata": {},
   "outputs": [],
   "source": [
    "#df_wine = df_wine.drop('points', 1)"
   ]
  },
  {
   "cell_type": "code",
   "execution_count": 5,
   "metadata": {},
   "outputs": [
    {
     "name": "stdout",
     "output_type": "stream",
     "text": [
      "index                      int64\n",
      "country                   object\n",
      "description               object\n",
      "designation               object\n",
      "points                     int64\n",
      "price                    float64\n",
      "province                  object\n",
      "region_1                  object\n",
      "region_2                  object\n",
      "taster_name               object\n",
      "taster_twitter_handle     object\n",
      "title                     object\n",
      "variety                   object\n",
      "winery                    object\n",
      "dtype: object\n"
     ]
    }
   ],
   "source": [
    "print(df_wine.dtypes)"
   ]
  },
  {
   "cell_type": "code",
   "execution_count": 6,
   "metadata": {},
   "outputs": [
    {
     "data": {
      "text/plain": [
       "index                        0\n",
       "country                     63\n",
       "description                  0\n",
       "designation              37465\n",
       "points                       0\n",
       "price                     8996\n",
       "province                    63\n",
       "region_1                 21247\n",
       "region_2                 79460\n",
       "taster_name              26244\n",
       "taster_twitter_handle    31213\n",
       "title                        0\n",
       "variety                      1\n",
       "winery                       0\n",
       "dtype: int64"
      ]
     },
     "execution_count": 6,
     "metadata": {},
     "output_type": "execute_result"
    }
   ],
   "source": [
    "# Finding the number of rows with NULL values\n",
    "df_wine.isnull().sum()"
   ]
  },
  {
   "cell_type": "code",
   "execution_count": 7,
   "metadata": {},
   "outputs": [],
   "source": [
    "# DROP region_2 column since most of the records NULL and we have region_1\n",
    "df_wine = df_wine.drop('region_2', 1)"
   ]
  },
  {
   "cell_type": "code",
   "execution_count": 8,
   "metadata": {},
   "outputs": [
    {
     "data": {
      "text/plain": [
       "(52106, 13)"
      ]
     },
     "execution_count": 8,
     "metadata": {},
     "output_type": "execute_result"
    }
   ],
   "source": [
    "# DROP rows with NULL values\n",
    "df_wine=df_wine.dropna()\n",
    "df_wine.shape"
   ]
  },
  {
   "cell_type": "code",
   "execution_count": 9,
   "metadata": {},
   "outputs": [
    {
     "data": {
      "text/plain": [
       "count    52106.000000\n",
       "mean        89.031474\n",
       "std          2.963115\n",
       "min         80.000000\n",
       "25%         87.000000\n",
       "50%         89.000000\n",
       "75%         91.000000\n",
       "max        100.000000\n",
       "Name: points, dtype: float64"
      ]
     },
     "execution_count": 9,
     "metadata": {},
     "output_type": "execute_result"
    }
   ],
   "source": [
    "df_wine['points'].describe()"
   ]
  },
  {
   "cell_type": "markdown",
   "metadata": {},
   "source": [
    "# Convert categorical COUNTRY column to Numeric"
   ]
  },
  {
   "cell_type": "code",
   "execution_count": 10,
   "metadata": {},
   "outputs": [
    {
     "data": {
      "text/plain": [
       "array(['US', 'Spain', 'Italy', 'France', 'Argentina', 'Australia',\n",
       "       'Canada'], dtype=object)"
      ]
     },
     "execution_count": 10,
     "metadata": {},
     "output_type": "execute_result"
    }
   ],
   "source": [
    "df_wine['country'].unique()"
   ]
  },
  {
   "cell_type": "code",
   "execution_count": 11,
   "metadata": {},
   "outputs": [
    {
     "data": {
      "text/html": [
       "<div>\n",
       "<style scoped>\n",
       "    .dataframe tbody tr th:only-of-type {\n",
       "        vertical-align: middle;\n",
       "    }\n",
       "\n",
       "    .dataframe tbody tr th {\n",
       "        vertical-align: top;\n",
       "    }\n",
       "\n",
       "    .dataframe thead th {\n",
       "        text-align: right;\n",
       "    }\n",
       "</style>\n",
       "<table border=\"1\" class=\"dataframe\">\n",
       "  <thead>\n",
       "    <tr style=\"text-align: right;\">\n",
       "      <th></th>\n",
       "      <th>index</th>\n",
       "      <th>description</th>\n",
       "      <th>designation</th>\n",
       "      <th>points</th>\n",
       "      <th>price</th>\n",
       "      <th>province</th>\n",
       "      <th>region_1</th>\n",
       "      <th>taster_name</th>\n",
       "      <th>taster_twitter_handle</th>\n",
       "      <th>title</th>\n",
       "      <th>variety</th>\n",
       "      <th>winery</th>\n",
       "      <th>from_Argentina</th>\n",
       "      <th>from_Australia</th>\n",
       "      <th>from_Canada</th>\n",
       "      <th>from_France</th>\n",
       "      <th>from_Italy</th>\n",
       "      <th>from_Spain</th>\n",
       "      <th>from_US</th>\n",
       "    </tr>\n",
       "  </thead>\n",
       "  <tbody>\n",
       "    <tr>\n",
       "      <th>4</th>\n",
       "      <td>4</td>\n",
       "      <td>Much like the regular bottling from 2012, this...</td>\n",
       "      <td>Vintner's Reserve Wild Child Block</td>\n",
       "      <td>87</td>\n",
       "      <td>65.0</td>\n",
       "      <td>Oregon</td>\n",
       "      <td>Willamette Valley</td>\n",
       "      <td>Paul Gregutt</td>\n",
       "      <td>@paulgwine</td>\n",
       "      <td>Sweet Cheeks 2012 Vintner's Reserve Wild Child...</td>\n",
       "      <td>Pinot Noir</td>\n",
       "      <td>Sweet Cheeks</td>\n",
       "      <td>0</td>\n",
       "      <td>0</td>\n",
       "      <td>0</td>\n",
       "      <td>0</td>\n",
       "      <td>0</td>\n",
       "      <td>0</td>\n",
       "      <td>1</td>\n",
       "    </tr>\n",
       "    <tr>\n",
       "      <th>5</th>\n",
       "      <td>5</td>\n",
       "      <td>Blackberry and raspberry aromas show a typical...</td>\n",
       "      <td>Ars In Vitro</td>\n",
       "      <td>87</td>\n",
       "      <td>15.0</td>\n",
       "      <td>Northern Spain</td>\n",
       "      <td>Navarra</td>\n",
       "      <td>Michael Schachner</td>\n",
       "      <td>@wineschach</td>\n",
       "      <td>Tandem 2011 Ars In Vitro Tempranillo-Merlot (N...</td>\n",
       "      <td>Tempranillo-Merlot</td>\n",
       "      <td>Tandem</td>\n",
       "      <td>0</td>\n",
       "      <td>0</td>\n",
       "      <td>0</td>\n",
       "      <td>0</td>\n",
       "      <td>0</td>\n",
       "      <td>1</td>\n",
       "      <td>0</td>\n",
       "    </tr>\n",
       "    <tr>\n",
       "      <th>6</th>\n",
       "      <td>6</td>\n",
       "      <td>Here's a bright, informal red that opens with ...</td>\n",
       "      <td>Belsito</td>\n",
       "      <td>87</td>\n",
       "      <td>16.0</td>\n",
       "      <td>Sicily &amp; Sardinia</td>\n",
       "      <td>Vittoria</td>\n",
       "      <td>Kerin O’Keefe</td>\n",
       "      <td>@kerinokeefe</td>\n",
       "      <td>Terre di Giurfo 2013 Belsito Frappato (Vittoria)</td>\n",
       "      <td>Frappato</td>\n",
       "      <td>Terre di Giurfo</td>\n",
       "      <td>0</td>\n",
       "      <td>0</td>\n",
       "      <td>0</td>\n",
       "      <td>0</td>\n",
       "      <td>1</td>\n",
       "      <td>0</td>\n",
       "      <td>0</td>\n",
       "    </tr>\n",
       "  </tbody>\n",
       "</table>\n",
       "</div>"
      ],
      "text/plain": [
       "   index                                        description  \\\n",
       "4      4  Much like the regular bottling from 2012, this...   \n",
       "5      5  Blackberry and raspberry aromas show a typical...   \n",
       "6      6  Here's a bright, informal red that opens with ...   \n",
       "\n",
       "                          designation  points  price           province  \\\n",
       "4  Vintner's Reserve Wild Child Block      87   65.0             Oregon   \n",
       "5                        Ars In Vitro      87   15.0     Northern Spain   \n",
       "6                             Belsito      87   16.0  Sicily & Sardinia   \n",
       "\n",
       "            region_1        taster_name taster_twitter_handle  \\\n",
       "4  Willamette Valley       Paul Gregutt           @paulgwine    \n",
       "5            Navarra  Michael Schachner           @wineschach   \n",
       "6           Vittoria      Kerin O’Keefe          @kerinokeefe   \n",
       "\n",
       "                                               title             variety  \\\n",
       "4  Sweet Cheeks 2012 Vintner's Reserve Wild Child...          Pinot Noir   \n",
       "5  Tandem 2011 Ars In Vitro Tempranillo-Merlot (N...  Tempranillo-Merlot   \n",
       "6   Terre di Giurfo 2013 Belsito Frappato (Vittoria)            Frappato   \n",
       "\n",
       "            winery  from_Argentina  from_Australia  from_Canada  from_France  \\\n",
       "4     Sweet Cheeks               0               0            0            0   \n",
       "5           Tandem               0               0            0            0   \n",
       "6  Terre di Giurfo               0               0            0            0   \n",
       "\n",
       "   from_Italy  from_Spain  from_US  \n",
       "4           0           0        1  \n",
       "5           0           1        0  \n",
       "6           1           0        0  "
      ]
     },
     "execution_count": 11,
     "metadata": {},
     "output_type": "execute_result"
    }
   ],
   "source": [
    "df_country = df_wine.country.str.get_dummies() # get the pivot of the country attribte\n",
    "df_country.columns = ['from_' + col for col in df_country.columns] # naming the columns\n",
    "df_wine = pd.concat([df_wine, df_country], axis=1) # combine main dataframe with country matrix dataframe\n",
    "df_wine = df_wine.drop('country', axis=1) # drop the country attribute since different attributes per country value\n",
    "df_wine.head(3)"
   ]
  },
  {
   "cell_type": "markdown",
   "metadata": {},
   "source": [
    "# Extracting Year from Title"
   ]
  },
  {
   "cell_type": "code",
   "execution_count": 12,
   "metadata": {},
   "outputs": [],
   "source": [
    "import re"
   ]
  },
  {
   "cell_type": "code",
   "execution_count": 13,
   "metadata": {},
   "outputs": [
    {
     "data": {
      "text/plain": [
       "array(['2012', '2011', '2013', '2010', '2007', '2009', '2015', '2014',\n",
       "       nan, '2016', '2', '2006', '46', '2008', '1887', '2000', '2002',\n",
       "       '2001', '1999', '772', '1', '2003', '2005', '2004', '2017', '14',\n",
       "       '41', '3', '012', '1996', '33', '1492', '1898', '1997', '1998',\n",
       "       '7200', '7', '12', '66', '5', '9', '6', '42', '1929', '075', '17',\n",
       "       '1994', '10', '39', '4', '21', '38', '1995', '1988', '1992',\n",
       "       '1827', '460', '735', '1872', '109', '204', '150', '50', '1877',\n",
       "       '1875', '30', '1852', '1000', '1868', '15', '16', '360', '29',\n",
       "       '1882', '51', '1989', '375', '158', '1860', '69', '1947', '13',\n",
       "       '1991', '1985', '1927', '1904', '1847', '1856', '736', '010',\n",
       "       '1752', '18401', '100', '24', '1607', '813', '44', '1978', '1919',\n",
       "       '1986', '013', '09', '1990', '20', '500', '61', '1821', '1993',\n",
       "       '23', '555', '428', '18', '999', '36', '01', '25', '34', '1945',\n",
       "       '31', '88', '26', '733'], dtype=object)"
      ]
     },
     "execution_count": 13,
     "metadata": {},
     "output_type": "execute_result"
    }
   ],
   "source": [
    "# REGEX: Extract first numbers from Title - FAILED BECAUSE THERE ARE MANY NUMBERS IN TITLES\n",
    "df = pd.DataFrame(df_wine['title'])\n",
    "df['year'] = df['title'].str.extract('(\\d+)')\n",
    "df.year.unique()"
   ]
  },
  {
   "cell_type": "code",
   "execution_count": 14,
   "metadata": {},
   "outputs": [],
   "source": [
    "# FUNCTION: FIND ALL NUMBERS IN THE TITLE, ADD THEM TO A LIST VARIABLE\n",
    "def regex(x):\n",
    "    L = re.findall(r'\\d+', str(x))\n",
    "    L_str = \",\".join(str(x) for x in L)\n",
    "    return str(L_str)"
   ]
  },
  {
   "cell_type": "code",
   "execution_count": 15,
   "metadata": {},
   "outputs": [],
   "source": [
    "df['title_num_values'] = df['title'].apply(regex)"
   ]
  },
  {
   "cell_type": "code",
   "execution_count": 16,
   "metadata": {},
   "outputs": [
    {
     "data": {
      "text/html": [
       "<div>\n",
       "<style scoped>\n",
       "    .dataframe tbody tr th:only-of-type {\n",
       "        vertical-align: middle;\n",
       "    }\n",
       "\n",
       "    .dataframe tbody tr th {\n",
       "        vertical-align: top;\n",
       "    }\n",
       "\n",
       "    .dataframe thead th {\n",
       "        text-align: right;\n",
       "    }\n",
       "</style>\n",
       "<table border=\"1\" class=\"dataframe\">\n",
       "  <thead>\n",
       "    <tr style=\"text-align: right;\">\n",
       "      <th></th>\n",
       "      <th>title</th>\n",
       "      <th>year</th>\n",
       "      <th>title_num_values</th>\n",
       "      <th>num_count</th>\n",
       "    </tr>\n",
       "  </thead>\n",
       "  <tbody>\n",
       "    <tr>\n",
       "      <th>4</th>\n",
       "      <td>Sweet Cheeks 2012 Vintner's Reserve Wild Child...</td>\n",
       "      <td>2012</td>\n",
       "      <td>2012</td>\n",
       "      <td>1</td>\n",
       "    </tr>\n",
       "    <tr>\n",
       "      <th>5</th>\n",
       "      <td>Tandem 2011 Ars In Vitro Tempranillo-Merlot (N...</td>\n",
       "      <td>2011</td>\n",
       "      <td>2011</td>\n",
       "      <td>1</td>\n",
       "    </tr>\n",
       "    <tr>\n",
       "      <th>6</th>\n",
       "      <td>Terre di Giurfo 2013 Belsito Frappato (Vittoria)</td>\n",
       "      <td>2013</td>\n",
       "      <td>2013</td>\n",
       "      <td>1</td>\n",
       "    </tr>\n",
       "    <tr>\n",
       "      <th>9</th>\n",
       "      <td>Jean-Baptiste Adam 2012 Les Natures Pinot Gris...</td>\n",
       "      <td>2012</td>\n",
       "      <td>2012</td>\n",
       "      <td>1</td>\n",
       "    </tr>\n",
       "    <tr>\n",
       "      <th>10</th>\n",
       "      <td>Kirkland Signature 2011 Mountain Cuvée Caberne...</td>\n",
       "      <td>2011</td>\n",
       "      <td>2011</td>\n",
       "      <td>1</td>\n",
       "    </tr>\n",
       "  </tbody>\n",
       "</table>\n",
       "</div>"
      ],
      "text/plain": [
       "                                                title  year title_num_values  \\\n",
       "4   Sweet Cheeks 2012 Vintner's Reserve Wild Child...  2012             2012   \n",
       "5   Tandem 2011 Ars In Vitro Tempranillo-Merlot (N...  2011             2011   \n",
       "6    Terre di Giurfo 2013 Belsito Frappato (Vittoria)  2013             2013   \n",
       "9   Jean-Baptiste Adam 2012 Les Natures Pinot Gris...  2012             2012   \n",
       "10  Kirkland Signature 2011 Mountain Cuvée Caberne...  2011             2011   \n",
       "\n",
       "    num_count  \n",
       "4           1  \n",
       "5           1  \n",
       "6           1  \n",
       "9           1  \n",
       "10          1  "
      ]
     },
     "execution_count": 16,
     "metadata": {},
     "output_type": "execute_result"
    }
   ],
   "source": [
    "# FINDING HOW MANY NUMBERS DOES EACH TITLE INCLUDE\n",
    "df['num_count'] = df.title_num_values.str.count(',') + 1\n",
    "numeric_values_ct = df.num_count.max()\n",
    "df.head()"
   ]
  },
  {
   "cell_type": "code",
   "execution_count": 17,
   "metadata": {},
   "outputs": [],
   "source": [
    "# FOR ALL THE NUMERIC VALUES IN THE TITLES FIND THEM AND ADD TO A NEW DATA FRAME AS COLUMNS\n",
    "def regex2(y):\n",
    "    L = re.findall(r'\\d+', str(y))\n",
    "    X = np.array([L])\n",
    "    new_L = []\n",
    "    for x in X:\n",
    "        a = x.tolist()\n",
    "        b = []\n",
    "        for i in range(1, numeric_values_ct + 1):\n",
    "            if len(a) == numeric_values_ct:\n",
    "                new_L.append(a)\n",
    "                break\n",
    "            else:\n",
    "                for j in range(0, numeric_values_ct - len(a)):\n",
    "                     b = a.extend([0])\n",
    "    return new_L"
   ]
  },
  {
   "cell_type": "code",
   "execution_count": 18,
   "metadata": {},
   "outputs": [],
   "source": [
    "xx = df['title'].apply(regex2)\n",
    "new_list1 = []\n",
    "new_list2 = []\n",
    "new_list3 = []\n",
    "new_list4 = []\n",
    "new_list5 = []\n",
    "for row in xx:\n",
    "    new_list1.append(row[0][0])\n",
    "    new_list2.append(row[0][1])\n",
    "    new_list3.append(row[0][2])\n",
    "    new_list4.append(row[0][3])\n",
    "    new_list5.append(row[0][4])"
   ]
  },
  {
   "cell_type": "code",
   "execution_count": 19,
   "metadata": {},
   "outputs": [],
   "source": [
    "df.insert(loc=0, column='N5', value= pd.Series(new_list5))\n",
    "df.insert(loc=0, column='N4', value= pd.Series(new_list4))\n",
    "df.insert(loc=0, column='N3', value= pd.Series(new_list3))\n",
    "df.insert(loc=0, column='N2', value= pd.Series(new_list2))\n",
    "df.insert(loc=0, column='N1', value= pd.Series(new_list1))"
   ]
  },
  {
   "cell_type": "code",
   "execution_count": 20,
   "metadata": {},
   "outputs": [],
   "source": [
    "# SET 0 FOR ALL THE VALUES WHICH HAS MORE THAN 4 DIGIT\n",
    "df.loc[df['N1'].astype(str).map(len) != 4 , 'N1'] = 0\n",
    "df.loc[df['N2'].astype(str).map(len) != 4 , 'N2'] = 0\n",
    "df.loc[df['N3'].astype(str).map(len) != 4 , 'N3'] = 0\n",
    "df.loc[df['N4'].astype(str).map(len) != 4 , 'N4'] = 0\n",
    "df.loc[df['N5'].astype(str).map(len) != 4 , 'N5'] = 0\n",
    "\n",
    "# SET 0 FOR ALL THE VALUES GREATER THAN CURRENT YEAR\n",
    "df.loc[df['N1'].astype(int) > 2018 , 'N1'] = 0\n",
    "df.loc[df['N2'].astype(int) > 2018 , 'N2'] = 0\n",
    "df.loc[df['N3'].astype(int) > 2018 , 'N3'] = 0\n",
    "df.loc[df['N4'].astype(int) > 2018 , 'N4'] = 0\n",
    "df.loc[df['N5'].astype(int) > 2018 , 'N5'] = 0"
   ]
  },
  {
   "cell_type": "code",
   "execution_count": 21,
   "metadata": {},
   "outputs": [],
   "source": [
    "df['year_of_wine'] = df[['N5','N4','N3','N2','N1']].astype(int).max(axis=1)"
   ]
  },
  {
   "cell_type": "code",
   "execution_count": 22,
   "metadata": {},
   "outputs": [
    {
     "data": {
      "text/plain": [
       "array([2011, 2010, 2009, 2013, 2015,    0, 2012, 2014, 2006, 2007, 2016,\n",
       "       2008, 2003, 2004, 2005, 2017, 1999, 1997, 1998, 2002, 2001, 2000,\n",
       "       1996, 1995, 1989, 1904, 1992, 1978, 1919, 1985, 1993])"
      ]
     },
     "execution_count": 22,
     "metadata": {},
     "output_type": "execute_result"
    }
   ],
   "source": [
    "# DELETE ALL THE YEARS BEFORE 1900 \n",
    "df = df[['title', 'year_of_wine']]\n",
    "df.loc[df['year_of_wine']  < 1900 , 'year_of_wine'] = 0\n",
    "df.year_of_wine.unique()"
   ]
  },
  {
   "cell_type": "code",
   "execution_count": 23,
   "metadata": {},
   "outputs": [],
   "source": [
    "# CONCAT THE YEAR COLUMN TO MAIN DATAFRAME\n",
    "try:\n",
    "    if 'year_of_wine' not in df_wine:\n",
    "        df_wine = pd.concat([df_wine, df.year_of_wine], axis=1)\n",
    "except (RuntimeError, TypeError, NameError):\n",
    "    print(\"Error: concating year to main dataframe\")"
   ]
  },
  {
   "cell_type": "code",
   "execution_count": 24,
   "metadata": {},
   "outputs": [
    {
     "data": {
      "text/html": [
       "<div>\n",
       "<style scoped>\n",
       "    .dataframe tbody tr th:only-of-type {\n",
       "        vertical-align: middle;\n",
       "    }\n",
       "\n",
       "    .dataframe tbody tr th {\n",
       "        vertical-align: top;\n",
       "    }\n",
       "\n",
       "    .dataframe thead th {\n",
       "        text-align: right;\n",
       "    }\n",
       "</style>\n",
       "<table border=\"1\" class=\"dataframe\">\n",
       "  <thead>\n",
       "    <tr style=\"text-align: right;\">\n",
       "      <th></th>\n",
       "      <th>index</th>\n",
       "      <th>description</th>\n",
       "      <th>designation</th>\n",
       "      <th>points</th>\n",
       "      <th>price</th>\n",
       "      <th>province</th>\n",
       "      <th>region_1</th>\n",
       "      <th>taster_name</th>\n",
       "      <th>taster_twitter_handle</th>\n",
       "      <th>title</th>\n",
       "      <th>variety</th>\n",
       "      <th>winery</th>\n",
       "      <th>from_Argentina</th>\n",
       "      <th>from_Australia</th>\n",
       "      <th>from_Canada</th>\n",
       "      <th>from_France</th>\n",
       "      <th>from_Italy</th>\n",
       "      <th>from_Spain</th>\n",
       "      <th>from_US</th>\n",
       "      <th>year_of_wine</th>\n",
       "    </tr>\n",
       "  </thead>\n",
       "  <tbody>\n",
       "    <tr>\n",
       "      <th>4</th>\n",
       "      <td>4</td>\n",
       "      <td>Much like the regular bottling from 2012, this...</td>\n",
       "      <td>Vintner's Reserve Wild Child Block</td>\n",
       "      <td>87</td>\n",
       "      <td>65.0</td>\n",
       "      <td>Oregon</td>\n",
       "      <td>Willamette Valley</td>\n",
       "      <td>Paul Gregutt</td>\n",
       "      <td>@paulgwine</td>\n",
       "      <td>Sweet Cheeks 2012 Vintner's Reserve Wild Child...</td>\n",
       "      <td>Pinot Noir</td>\n",
       "      <td>Sweet Cheeks</td>\n",
       "      <td>0</td>\n",
       "      <td>0</td>\n",
       "      <td>0</td>\n",
       "      <td>0</td>\n",
       "      <td>0</td>\n",
       "      <td>0</td>\n",
       "      <td>1</td>\n",
       "      <td>2011</td>\n",
       "    </tr>\n",
       "    <tr>\n",
       "      <th>5</th>\n",
       "      <td>5</td>\n",
       "      <td>Blackberry and raspberry aromas show a typical...</td>\n",
       "      <td>Ars In Vitro</td>\n",
       "      <td>87</td>\n",
       "      <td>15.0</td>\n",
       "      <td>Northern Spain</td>\n",
       "      <td>Navarra</td>\n",
       "      <td>Michael Schachner</td>\n",
       "      <td>@wineschach</td>\n",
       "      <td>Tandem 2011 Ars In Vitro Tempranillo-Merlot (N...</td>\n",
       "      <td>Tempranillo-Merlot</td>\n",
       "      <td>Tandem</td>\n",
       "      <td>0</td>\n",
       "      <td>0</td>\n",
       "      <td>0</td>\n",
       "      <td>0</td>\n",
       "      <td>0</td>\n",
       "      <td>1</td>\n",
       "      <td>0</td>\n",
       "      <td>2010</td>\n",
       "    </tr>\n",
       "    <tr>\n",
       "      <th>6</th>\n",
       "      <td>6</td>\n",
       "      <td>Here's a bright, informal red that opens with ...</td>\n",
       "      <td>Belsito</td>\n",
       "      <td>87</td>\n",
       "      <td>16.0</td>\n",
       "      <td>Sicily &amp; Sardinia</td>\n",
       "      <td>Vittoria</td>\n",
       "      <td>Kerin O’Keefe</td>\n",
       "      <td>@kerinokeefe</td>\n",
       "      <td>Terre di Giurfo 2013 Belsito Frappato (Vittoria)</td>\n",
       "      <td>Frappato</td>\n",
       "      <td>Terre di Giurfo</td>\n",
       "      <td>0</td>\n",
       "      <td>0</td>\n",
       "      <td>0</td>\n",
       "      <td>0</td>\n",
       "      <td>1</td>\n",
       "      <td>0</td>\n",
       "      <td>0</td>\n",
       "      <td>2011</td>\n",
       "    </tr>\n",
       "  </tbody>\n",
       "</table>\n",
       "</div>"
      ],
      "text/plain": [
       "   index                                        description  \\\n",
       "4      4  Much like the regular bottling from 2012, this...   \n",
       "5      5  Blackberry and raspberry aromas show a typical...   \n",
       "6      6  Here's a bright, informal red that opens with ...   \n",
       "\n",
       "                          designation  points  price           province  \\\n",
       "4  Vintner's Reserve Wild Child Block      87   65.0             Oregon   \n",
       "5                        Ars In Vitro      87   15.0     Northern Spain   \n",
       "6                             Belsito      87   16.0  Sicily & Sardinia   \n",
       "\n",
       "            region_1        taster_name taster_twitter_handle  \\\n",
       "4  Willamette Valley       Paul Gregutt           @paulgwine    \n",
       "5            Navarra  Michael Schachner           @wineschach   \n",
       "6           Vittoria      Kerin O’Keefe          @kerinokeefe   \n",
       "\n",
       "                                               title             variety  \\\n",
       "4  Sweet Cheeks 2012 Vintner's Reserve Wild Child...          Pinot Noir   \n",
       "5  Tandem 2011 Ars In Vitro Tempranillo-Merlot (N...  Tempranillo-Merlot   \n",
       "6   Terre di Giurfo 2013 Belsito Frappato (Vittoria)            Frappato   \n",
       "\n",
       "            winery  from_Argentina  from_Australia  from_Canada  from_France  \\\n",
       "4     Sweet Cheeks               0               0            0            0   \n",
       "5           Tandem               0               0            0            0   \n",
       "6  Terre di Giurfo               0               0            0            0   \n",
       "\n",
       "   from_Italy  from_Spain  from_US  year_of_wine  \n",
       "4           0           0        1          2011  \n",
       "5           0           1        0          2010  \n",
       "6           1           0        0          2011  "
      ]
     },
     "execution_count": 24,
     "metadata": {},
     "output_type": "execute_result"
    }
   ],
   "source": [
    "df_wine.head(3)"
   ]
  },
  {
   "cell_type": "markdown",
   "metadata": {},
   "source": [
    "# Regression Model"
   ]
  },
  {
   "cell_type": "code",
   "execution_count": 25,
   "metadata": {},
   "outputs": [
    {
     "name": "stdout",
     "output_type": "stream",
     "text": [
      "index                      int64\n",
      "description               object\n",
      "designation               object\n",
      "points                     int64\n",
      "price                    float64\n",
      "province                  object\n",
      "region_1                  object\n",
      "taster_name               object\n",
      "taster_twitter_handle     object\n",
      "title                     object\n",
      "variety                   object\n",
      "winery                    object\n",
      "from_Argentina             int64\n",
      "from_Australia             int64\n",
      "from_Canada                int64\n",
      "from_France                int64\n",
      "from_Italy                 int64\n",
      "from_Spain                 int64\n",
      "from_US                    int64\n",
      "year_of_wine               int64\n",
      "dtype: object\n"
     ]
    }
   ],
   "source": [
    "print(df_wine.dtypes)"
   ]
  },
  {
   "cell_type": "code",
   "execution_count": 26,
   "metadata": {},
   "outputs": [],
   "source": [
    "# DEFINE X and Y VARIABLES\n",
    "df_X = df_wine[['price','year_of_wine','from_Argentina', 'from_Canada', 'from_France', 'from_Italy', 'from_Spain', 'from_US']]\n",
    "df_Y = df_wine[['points']]"
   ]
  },
  {
   "cell_type": "code",
   "execution_count": 27,
   "metadata": {},
   "outputs": [
    {
     "name": "stdout",
     "output_type": "stream",
     "text": [
      "(41684, 8) (41684, 1)\n",
      "(10422, 8) (10422, 1)\n"
     ]
    }
   ],
   "source": [
    "# devide the dataframe for training and testing \n",
    "X_train, X_test, y_train, y_test = train_test_split(df_X, df_Y, test_size=0.20)\n",
    "print (X_train.shape, y_train.shape)\n",
    "print (X_test.shape, y_test.shape)"
   ]
  },
  {
   "cell_type": "code",
   "execution_count": 28,
   "metadata": {},
   "outputs": [],
   "source": [
    "lm = linear_model.LinearRegression()\n",
    "model = lm.fit(X_train, y_train)\n",
    "y_predictions = lm.predict(X_test)"
   ]
  },
  {
   "cell_type": "code",
   "execution_count": 29,
   "metadata": {},
   "outputs": [],
   "source": [
    "# Cross Validation k-Fold\n",
    "from sklearn.model_selection import cross_val_score, cross_val_predict\n",
    "from sklearn import metrics\n",
    "\n",
    "def kFold(m, x, y):\n",
    "    best_r2 = 0.0\n",
    "    best_k = 0\n",
    "    for k in range(3, 11):\n",
    "        predictions = cross_val_predict(m, x, y, cv=k)\n",
    "        accuracy = metrics.r2_score(df_Y, predictions)\n",
    "        if accuracy > best_r2:\n",
    "            best_k = k\n",
    "            best_r2 = accuracy\n",
    "            best_pred = predictions\n",
    "        print('Fold:', k, 'Accuracy:', accuracy)\n",
    "    print('Best accuracy(r2) is', best_r2, 'with', best_k, 'folds')\n",
    "    return best_pred"
   ]
  },
  {
   "cell_type": "code",
   "execution_count": 30,
   "metadata": {},
   "outputs": [
    {
     "name": "stdout",
     "output_type": "stream",
     "text": [
      "Fold: 3 Accuracy: 0.24219344040833202\n",
      "Fold: 4 Accuracy: 0.24361398422553082\n",
      "Fold: 5 Accuracy: 0.24372552655038882\n",
      "Fold: 6 Accuracy: 0.2438014819790224\n",
      "Fold: 7 Accuracy: 0.2433141775083889\n",
      "Fold: 8 Accuracy: 0.24320059940705174\n",
      "Fold: 9 Accuracy: 0.2430307208786494\n",
      "Fold: 10 Accuracy: 0.24348424630395848\n",
      "Best accuracy(r2) is 0.2438014819790224 with 6 folds\n"
     ]
    }
   ],
   "source": [
    "best_pred = kFold(model, df_X, df_Y)"
   ]
  },
  {
   "cell_type": "code",
   "execution_count": 48,
   "metadata": {},
   "outputs": [
    {
     "data": {
      "text/plain": [
       "<matplotlib.legend.Legend at 0x1a27a4f630>"
      ]
     },
     "execution_count": 48,
     "metadata": {},
     "output_type": "execute_result"
    },
    {
     "data": {
      "image/png": "[encoded data removed]",
      "text/plain": [
       "<Figure size 432x288 with 1 Axes>"
      ]
     },
     "metadata": {
      "needs_background": "light"
     },
     "output_type": "display_data"
    }
   ],
   "source": [
    "# Plot the results\n",
    "plt.scatter(df_Y, best_pred)\n",
    "plt.xlabel('True Values')\n",
    "plt.ylabel('Predictions')\n",
    "\n",
    "#Axes\n",
    "max_x_axis = int(max(y_predictions))\n",
    "min_x_axis = int(min(y_predictions))\n",
    "max_y_axis = int(max(y_test.points))\n",
    "min_y_axis = int(min(y_test.points))\n",
    "\n",
    "plt.yticks(np.arange(80, 150  + 10, 5))\n",
    "plt.xticks(np.arange(80 ,100 + 2, 2))\n",
    "\n",
    "plt.axhline(max_y_axis, label='max true value', color=\"red\")\n",
    "plt.title('without Outlier Detection (kFold)')\n",
    "plt.legend()"
   ]
  },
  {
   "cell_type": "code",
   "execution_count": 46,
   "metadata": {},
   "outputs": [
    {
     "data": {
      "text/plain": [
       "<matplotlib.legend.Legend at 0x1a273ff160>"
      ]
     },
     "execution_count": 46,
     "metadata": {},
     "output_type": "execute_result"
    },
    {
     "data": {
      "image/png": "[encoded data removed]",
      "text/plain": [
       "<Figure size 432x288 with 1 Axes>"
      ]
     },
     "metadata": {
      "needs_background": "light"
     },
     "output_type": "display_data"
    }
   ],
   "source": [
    "# Plot the results\n",
    "plt.scatter(y_test, y_predictions)\n",
    "plt.xlabel('True Values')\n",
    "plt.ylabel('Predictions')\n",
    "max_y_predictions = int(max(y_predictions))\n",
    "min_y_predictions = int(min(y_predictions))\n",
    "max_y_true = int(max(y_test.points))\n",
    "min_y_true = int(min(y_test.points))\n",
    "plt.yticks(np.arange(80, 150 + 2, 5)) # case when ekleyip max true daha buyukse onu maks a al\n",
    "plt.xticks(np.arange(80, 100 + 2, 5))\n",
    "plt.axhline(max_y_true,label='max true value', color=\"red\")\n",
    "plt.title('without Outlier Detection')\n",
    "plt.legend()\n",
    "#plt.yticks(np.arange(80, 130, 10))\n",
    "#plt.xticks(np.arange(80, 101, 5))\n",
    "#plt.axis([80, 100, 80, 120])"
   ]
  },
  {
   "cell_type": "code",
   "execution_count": 33,
   "metadata": {},
   "outputs": [
    {
     "name": "stdout",
     "output_type": "stream",
     "text": [
      "Accuracy: 0.2499597193718589\n",
      "RMSE: 2.5588463673447355\n",
      "MAE: 2.0622141794903723\n"
     ]
    }
   ],
   "source": [
    "# Accuracy score\n",
    "print ('Accuracy:', model.score(X_test, y_test))\n",
    "# Root mean squared error (RMSE)\n",
    "print('RMSE:', np.sqrt(metrics.mean_squared_error(y_test, y_predictions)))\n",
    "# Mean absolute error (MAE)\n",
    "print('MAE:', metrics.mean_absolute_error(y_test, y_predictions))"
   ]
  },
  {
   "cell_type": "code",
   "execution_count": 34,
   "metadata": {},
   "outputs": [
    {
     "ename": "NameError",
     "evalue": "name 'my_train_dataset_X' is not defined",
     "output_type": "error",
     "traceback": [
      "\u001b[0;31m---------------------------------------------------------------------------\u001b[0m",
      "\u001b[0;31mNameError\u001b[0m                                 Traceback (most recent call last)",
      "\u001b[0;32m<ipython-input-34-cc8e10a47e25>\u001b[0m in \u001b[0;36m<module>\u001b[0;34m\u001b[0m\n\u001b[1;32m      1\u001b[0m \u001b[0;32mfrom\u001b[0m \u001b[0msklearn\u001b[0m\u001b[0;34m.\u001b[0m\u001b[0mmodel_selection\u001b[0m \u001b[0;32mimport\u001b[0m \u001b[0mcross_val_score\u001b[0m\u001b[0;34m\u001b[0m\u001b[0m\n\u001b[0;32m----> 2\u001b[0;31m \u001b[0mscores\u001b[0m \u001b[0;34m=\u001b[0m \u001b[0mcross_val_score\u001b[0m\u001b[0;34m(\u001b[0m\u001b[0mlm\u001b[0m\u001b[0;34m,\u001b[0m \u001b[0mmy_train_dataset_X\u001b[0m\u001b[0;34m,\u001b[0m  \u001b[0mlm\u001b[0m\u001b[0;34m.\u001b[0m\u001b[0mpredict\u001b[0m\u001b[0;34m(\u001b[0m\u001b[0mmy_test_dataset_X\u001b[0m\u001b[0;34m)\u001b[0m\u001b[0;34m,\u001b[0m \u001b[0mcv\u001b[0m\u001b[0;34m=\u001b[0m\u001b[0;36m10\u001b[0m\u001b[0;34m)\u001b[0m\u001b[0;34m\u001b[0m\u001b[0m\n\u001b[0m\u001b[1;32m      3\u001b[0m \u001b[0mprint\u001b[0m\u001b[0;34m(\u001b[0m\u001b[0;34m\"scores = \"\u001b[0m \u001b[0;34m+\u001b[0m \u001b[0mstr\u001b[0m\u001b[0;34m(\u001b[0m\u001b[0mscores\u001b[0m\u001b[0;34m)\u001b[0m\u001b[0;34m)\u001b[0m\u001b[0;34m\u001b[0m\u001b[0m\n",
      "\u001b[0;31mNameError\u001b[0m: name 'my_train_dataset_X' is not defined"
     ]
    }
   ],
   "source": [
    "from sklearn.model_selection import cross_val_score\n",
    "scores = cross_val_score(lm, my_train_dataset_X,  lm.predict(my_test_dataset_X), cv=10)\n",
    "print(\"scores = \" + str(scores))"
   ]
  },
  {
   "cell_type": "code",
   "execution_count": null,
   "metadata": {},
   "outputs": [],
   "source": []
  }
 ],
 "metadata": {
  "kernelspec": {
   "display_name": "Python 3",
   "language": "python",
   "name": "python3"
  },
  "language_info": {
   "codemirror_mode": {
    "name": "ipython",
    "version": 3
   },
   "file_extension": ".py",
   "mimetype": "text/x-python",
   "name": "python",
   "nbconvert_exporter": "python",
   "pygments_lexer": "ipython3",
   "version": "3.6.6"
  }
 },
 "nbformat": 4,
 "nbformat_minor": 2
}
