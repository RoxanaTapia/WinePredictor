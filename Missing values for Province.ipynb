{
 "cells": [
  {
   "cell_type": "code",
   "execution_count": 1,
   "metadata": {},
   "outputs": [],
   "source": [
    "# imports\n",
    "from copy import copy, deepcopy\n",
    "import matplotlib.pyplot as plt\n",
    "from sklearn import metrics\n",
    "from sklearn.model_selection import train_test_split\n",
    "from sklearn.metrics import mean_squared_error\n",
    "from sklearn.model_selection import train_test_split \n",
    "from sklearn import metrics\n",
    "from sklearn import linear_model\n",
    "import pandas as pd \n",
    "import numpy as np\n",
    "from sklearn import metrics  \n",
    "from sklearn.tree import DecisionTreeRegressor\n",
    "from sklearn.model_selection import train_test_split\n",
    "from sklearn.model_selection import GridSearchCV, RandomizedSearchCV\n",
    "from scipy.stats import randint as sp_randint\n",
    "from sklearn.preprocessing import LabelEncoder\n",
    "import random\n",
    "import string\n",
    "from pandas.api.types import is_string_dtype\n",
    "from pandas.api.types import is_numeric_dtype\n",
    "from sklearn.metrics import r2_score\n",
    "from sklearn.preprocessing import LabelBinarizer\n",
    "\n",
    "\n",
    "%matplotlib inline"
   ]
  },
  {
   "cell_type": "code",
   "execution_count": 2,
   "metadata": {},
   "outputs": [],
   "source": [
    "# Load the Wine Dataset\n",
    "df_wine = pd.read_csv(\"../Country_vertical/df_wine_vertical.csv\", encoding = 'utf8', index_col=0)"
   ]
  },
  {
   "cell_type": "code",
   "execution_count": 3,
   "metadata": {},
   "outputs": [
    {
     "data": {
      "text/html": [
       "<div>\n",
       "<style scoped>\n",
       "    .dataframe tbody tr th:only-of-type {\n",
       "        vertical-align: middle;\n",
       "    }\n",
       "\n",
       "    .dataframe tbody tr th {\n",
       "        vertical-align: top;\n",
       "    }\n",
       "\n",
       "    .dataframe thead th {\n",
       "        text-align: right;\n",
       "    }\n",
       "</style>\n",
       "<table border=\"1\" class=\"dataframe\">\n",
       "  <thead>\n",
       "    <tr style=\"text-align: right;\">\n",
       "      <th></th>\n",
       "      <th>country</th>\n",
       "      <th>province</th>\n",
       "      <th>region</th>\n",
       "      <th>price</th>\n",
       "      <th>variety</th>\n",
       "      <th>points</th>\n",
       "      <th>year_of_wine</th>\n",
       "    </tr>\n",
       "  </thead>\n",
       "  <tbody>\n",
       "    <tr>\n",
       "      <th>0</th>\n",
       "      <td>US</td>\n",
       "      <td>Oregon</td>\n",
       "      <td>Willamette Valley</td>\n",
       "      <td>14.0</td>\n",
       "      <td>Pinot Gris</td>\n",
       "      <td>87</td>\n",
       "      <td>2013</td>\n",
       "    </tr>\n",
       "  </tbody>\n",
       "</table>\n",
       "</div>"
      ],
      "text/plain": [
       "  country province             region  price     variety  points  year_of_wine\n",
       "0      US   Oregon  Willamette Valley   14.0  Pinot Gris      87          2013"
      ]
     },
     "execution_count": 3,
     "metadata": {},
     "output_type": "execute_result"
    }
   ],
   "source": [
    "df_wine.head(1)"
   ]
  },
  {
   "cell_type": "markdown",
   "metadata": {},
   "source": [
    "# Data Preparition"
   ]
  },
  {
   "cell_type": "code",
   "execution_count": 4,
   "metadata": {},
   "outputs": [],
   "source": [
    "# DEFINE X and Y VARIABLES\n",
    "df_X = df_wine.drop('points', axis=1)\n",
    "df_X = df_X.drop('region', axis=1)\n",
    "df_X = df_X.drop('price', axis=1)\n",
    "df_X = df_X.drop('variety', axis=1)\n",
    "df_X = df_X.drop('year_of_wine', axis=1)\n",
    "df_X = df_X.drop('country', axis=1)\n",
    "df_Y = df_wine[['points']]\n",
    "\n",
    "from sklearn.model_selection import train_test_split  \n",
    "X_train, X_test, y_train, y_test = train_test_split(df_X, df_Y, test_size=0.3, random_state=0)"
   ]
  },
  {
   "cell_type": "code",
   "execution_count": 5,
   "metadata": {},
   "outputs": [],
   "source": [
    "# GROUND TRUTH\n",
    "gt_test_training = pd.concat([X_test, X_train])\n",
    "gt_training = X_train.copy()\n",
    "gt_test = X_test.copy()\n"
   ]
  },
  {
   "cell_type": "markdown",
   "metadata": {},
   "source": [
    "# INTRODUCE MISSING VALUES"
   ]
  },
  {
   "cell_type": "code",
   "execution_count": 6,
   "metadata": {},
   "outputs": [],
   "source": [
    "def add_missing_values(df, column_name, ratio):\n",
    "    ix = [(row, col) for row in range(df[column_name].shape[0]) for col in range(df.shape[1])]\n",
    "    for row, col in random.sample(ix, int(round(ratio*len(ix)))):\n",
    "        if is_string_dtype(df[column_name]):\n",
    "            df.iat[row, col] = 'X'\n",
    "        elif is_numeric_dtype(agg[y]):\n",
    "            df.iat[row, col] = 0\n",
    "    \n",
    "def dtr(X_train, y_train, X_test):\n",
    "    # Decision Tree Regressor\n",
    "    regressor = DecisionTreeRegressor()  \n",
    "    regressor.fit(X_train, y_train)\n",
    "    y_pred = regressor.predict(X_test)\n",
    "    \n",
    "    # The evaluation metrics\n",
    "    MAE = metrics.mean_absolute_error(y_test, y_pred)\n",
    "    MSE = metrics.mean_squared_error(y_test, y_pred)\n",
    "    RMSE = np.sqrt(metrics.mean_squared_error(y_test, y_pred))\n",
    "    R2 = r2_score(y_test, y_pred)*100\n",
    "\n",
    "    results = {\"MAE\" : round(MAE, 3),\n",
    "              \"MSE\" : round(MSE, 3),\n",
    "              \"RMSE\" : round(RMSE, 3),\n",
    "              \"R2\": round(R2, 3)}\n",
    "    return results"
   ]
  },
  {
   "cell_type": "code",
   "execution_count": 8,
   "metadata": {},
   "outputs": [
    {
     "name": "stdout",
     "output_type": "stream",
     "text": [
      "BASE RESULTS:\n",
      "{'MAE': 2.396, 'MSE': 8.683, 'RMSE': 2.947, 'R2': 7.769}\n"
     ]
    }
   ],
   "source": [
    "# DECISION TREE WITHOUT MISSING VALUES\n",
    "print('BASE RESULTS:')\n",
    "lb = LabelBinarizer()\n",
    "X_train = pd.DataFrame(lb.fit_transform(X_train['province']), columns=lb.classes_)\n",
    "X_test = pd.DataFrame(lb.transform(X_test['province']), columns=lb.classes_)\n",
    "print(dtr(X_train, y_train, X_test))\n",
    "X_train = gt_training\n",
    "X_test = gt_test"
   ]
  },
  {
   "cell_type": "code",
   "execution_count": 10,
   "metadata": {},
   "outputs": [],
   "source": [
    "# MISSING VALUES IN TEST\n",
    "ratios = [.1, .2, .3, .4, .5, .6, .7, .8, .9]\n",
    "results_region_missing_in_test = {}\n",
    "for ratio in ratios:\n",
    "    add_missing_values(X_test, 'province', ratio)\n",
    "    lb = LabelBinarizer()\n",
    "    X_train = pd.DataFrame(lb.fit_transform(X_train['province']), columns=lb.classes_)\n",
    "    X_test = pd.DataFrame(lb.transform(X_test['province']), columns=lb.classes_)\n",
    "    results_region_missing_in_test[ratio] = dtr(X_train, y_train, X_test)\n",
    "    X_train = gt_training\n",
    "    X_test = gt_test"
   ]
  },
  {
   "cell_type": "code",
   "execution_count": 11,
   "metadata": {},
   "outputs": [
    {
     "data": {
      "text/plain": [
       "{0.1: {'MAE': 2.506, 'MSE': 9.452, 'RMSE': 3.074, 'R2': -0.401},\n",
       " 0.2: {'MAE': 2.505, 'MSE': 9.467, 'RMSE': 3.077, 'R2': -0.56},\n",
       " 0.3: {'MAE': 2.506, 'MSE': 9.452, 'RMSE': 3.074, 'R2': -0.406},\n",
       " 0.4: {'MAE': 2.506, 'MSE': 9.452, 'RMSE': 3.074, 'R2': -0.405},\n",
       " 0.5: {'MAE': 2.506, 'MSE': 9.452, 'RMSE': 3.074, 'R2': -0.405},\n",
       " 0.6: {'MAE': 2.506, 'MSE': 9.452, 'RMSE': 3.074, 'R2': -0.406},\n",
       " 0.7: {'MAE': 2.504, 'MSE': 9.467, 'RMSE': 3.077, 'R2': -0.56},\n",
       " 0.8: {'MAE': 2.506, 'MSE': 9.452, 'RMSE': 3.074, 'R2': -0.406},\n",
       " 0.9: {'MAE': 2.506, 'MSE': 9.452, 'RMSE': 3.074, 'R2': -0.406}}"
      ]
     },
     "execution_count": 11,
     "metadata": {},
     "output_type": "execute_result"
    }
   ],
   "source": [
    "results_region_missing_in_test"
   ]
  },
  {
   "cell_type": "code",
   "execution_count": 16,
   "metadata": {},
   "outputs": [],
   "source": [
    "# MISSING VALUES IN TRAINING\n",
    "ratios = [.1, .2, .3, .4, .5, .6, .7, .8, .9]\n",
    "results_region_missing_in_train = {}\n",
    "for ratio in ratios:\n",
    "    add_missing_values(X_train, 'province', ratio)\n",
    "    lb = LabelBinarizer()\n",
    "    X_train = pd.DataFrame(lb.fit_transform(X_train['province']), columns=lb.classes_)\n",
    "    X_test = pd.DataFrame(lb.transform(X_test['province']), columns=lb.classes_)\n",
    "    results_region_missing_in_train[ratio] = dtr(X_train, y_train, X_test)\n",
    "    X_train = gt_training\n",
    "    X_test = gt_test"
   ]
  },
  {
   "cell_type": "code",
   "execution_count": 17,
   "metadata": {},
   "outputs": [
    {
     "data": {
      "text/plain": [
       "{0.1: {'MAE': 2.514, 'MSE': 9.414, 'RMSE': 3.068, 'R2': -0.0},\n",
       " 0.2: {'MAE': 2.514, 'MSE': 9.414, 'RMSE': 3.068, 'R2': 0.0},\n",
       " 0.3: {'MAE': 2.516, 'MSE': 9.414, 'RMSE': 3.068, 'R2': 0.0},\n",
       " 0.4: {'MAE': 2.516, 'MSE': 9.413, 'RMSE': 3.068, 'R2': 0.0},\n",
       " 0.5: {'MAE': 2.516, 'MSE': 9.413, 'RMSE': 3.068, 'R2': 0.0},\n",
       " 0.6: {'MAE': 2.516, 'MSE': 9.413, 'RMSE': 3.068, 'R2': 0.0},\n",
       " 0.7: {'MAE': 2.516, 'MSE': 9.414, 'RMSE': 3.068, 'R2': 0.0},\n",
       " 0.8: {'MAE': 2.516, 'MSE': 9.414, 'RMSE': 3.068, 'R2': -0.0},\n",
       " 0.9: {'MAE': 2.516, 'MSE': 9.415, 'RMSE': 3.068, 'R2': -0.0}}"
      ]
     },
     "execution_count": 17,
     "metadata": {},
     "output_type": "execute_result"
    }
   ],
   "source": [
    "results_region_missing_in_train"
   ]
  },
  {
   "cell_type": "code",
   "execution_count": 36,
   "metadata": {},
   "outputs": [
    {
     "data": {
      "text/plain": [
       "1005"
      ]
     },
     "execution_count": 36,
     "metadata": {},
     "output_type": "execute_result"
    }
   ],
   "source": [
    "len(df_wine.region.unique().tolist())"
   ]
  },
  {
   "cell_type": "code",
   "execution_count": null,
   "metadata": {},
   "outputs": [],
   "source": []
  },
  {
   "cell_type": "code",
   "execution_count": null,
   "metadata": {},
   "outputs": [],
   "source": []
  },
  {
   "cell_type": "code",
   "execution_count": null,
   "metadata": {},
   "outputs": [],
   "source": []
  },
  {
   "cell_type": "markdown",
   "metadata": {},
   "source": [
    "# Precision & Recall"
   ]
  },
  {
   "cell_type": "code",
   "execution_count": 132,
   "metadata": {},
   "outputs": [
    {
     "ename": "NameError",
     "evalue": "name 'dirty_test_training' is not defined",
     "output_type": "error",
     "traceback": [
      "\u001b[0;31m---------------------------------------------------------------------------\u001b[0m",
      "\u001b[0;31mNameError\u001b[0m                                 Traceback (most recent call last)",
      "\u001b[0;32m<ipython-input-132-5457e15282ef>\u001b[0m in \u001b[0;36m<module>\u001b[0;34m\u001b[0m\n\u001b[1;32m      2\u001b[0m \u001b[0;34m\u001b[0m\u001b[0m\n\u001b[1;32m      3\u001b[0m precision_recall_fscore_support(gt_test_training['country'].values, \n\u001b[0;32m----> 4\u001b[0;31m                                 \u001b[0mdirty_test_training\u001b[0m\u001b[0;34m[\u001b[0m\u001b[0;34m'country'\u001b[0m\u001b[0;34m]\u001b[0m\u001b[0;34m.\u001b[0m\u001b[0mvalues\u001b[0m\u001b[0;34m,\u001b[0m\u001b[0;34m\u001b[0m\u001b[0;34m\u001b[0m\u001b[0m\n\u001b[0m\u001b[1;32m      5\u001b[0m                                 average='weighted')\n",
      "\u001b[0;31mNameError\u001b[0m: name 'dirty_test_training' is not defined"
     ]
    }
   ],
   "source": [
    "from sklearn.metrics import precision_recall_fscore_support\n",
    "\n",
    "precision_recall_fscore_support(gt_test_training['country'].values, \n",
    "                                dirty_test_training['country'].values, \n",
    "                                average='weighted')"
   ]
  },
  {
   "cell_type": "markdown",
   "metadata": {},
   "source": [
    "# HPO with ground truth"
   ]
  },
  {
   "cell_type": "code",
   "execution_count": 133,
   "metadata": {},
   "outputs": [],
   "source": [
    "# # Using Randomized Search for hyperparameter optimisation\n",
    "\n",
    "# from sklearn.model_selection import GridSearchCV, RandomizedSearchCV\n",
    "# from scipy.stats import randint as sp_randint\n",
    "# regressor3 = DecisionTreeRegressor()\n",
    "# param_dist = {'max_depth': sp_randint(2,16),\n",
    "#               'min_samples_split': sp_randint(2,16)}\n",
    "\n",
    "# n_iter_search = 20\n",
    "# clfrs = RandomizedSearchCV(regressor3, \n",
    "#                                    param_distributions=param_dist,\n",
    "#                                    scoring='neg_mean_squared_error',\n",
    "#                                    cv=5 , n_jobs=1, verbose=1,\n",
    "#                                    n_iter = n_iter_search)\n",
    "# clfrs.fit(df_X, df_Y)\n",
    "# clfrs.best_params_, clfrs.best_score_"
   ]
  },
  {
   "cell_type": "code",
   "execution_count": null,
   "metadata": {},
   "outputs": [],
   "source": []
  }
 ],
 "metadata": {
  "kernelspec": {
   "display_name": "Python 3",
   "language": "python",
   "name": "python3"
  },
  "language_info": {
   "codemirror_mode": {
    "name": "ipython",
    "version": 3
   },
   "file_extension": ".py",
   "mimetype": "text/x-python",
   "name": "python",
   "nbconvert_exporter": "python",
   "pygments_lexer": "ipython3",
   "version": "3.6.7"
  }
 },
 "nbformat": 4,
 "nbformat_minor": 2
}
