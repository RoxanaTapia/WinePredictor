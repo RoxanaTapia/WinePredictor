{
 "cells": [
  {
   "cell_type": "code",
   "execution_count": 166,
   "metadata": {},
   "outputs": [],
   "source": [
    "import pandas as pd \n",
    "import numpy as np\n",
    "import matplotlib.pyplot as plt\n",
    "%matplotlib inline\n",
    "from sklearn import linear_model\n",
    "from sklearn.linear_model import LinearRegression\n",
    "from sklearn import metrics\n",
    "from sklearn.model_selection import train_test_split\n",
    "from sklearn.metrics import mean_squared_error\n",
    "import sys"
   ]
  },
  {
   "cell_type": "code",
   "execution_count": null,
   "metadata": {},
   "outputs": [],
   "source": [
    "# # Load the Wine Dataset\n",
    "df_wine = pd.read_csv(\"data/winemag-data-130k-v2.csv\", encoding = 'utf8')"
   ]
  },
  {
   "cell_type": "code",
   "execution_count": null,
   "metadata": {},
   "outputs": [],
   "source": [
    "df_wine.head(3)"
   ]
  },
  {
   "cell_type": "code",
   "execution_count": null,
   "metadata": {},
   "outputs": [],
   "source": [
    "#df_wine = df_wine.drop('points', 1)"
   ]
  },
  {
   "cell_type": "code",
   "execution_count": null,
   "metadata": {},
   "outputs": [],
   "source": [
    "print(df_wine.dtypes)"
   ]
  },
  {
   "cell_type": "code",
   "execution_count": null,
   "metadata": {},
   "outputs": [],
   "source": [
    "# Finding the number of rows with NULL values\n",
    "df_wine.isnull().sum()"
   ]
  },
  {
   "cell_type": "code",
   "execution_count": null,
   "metadata": {},
   "outputs": [],
   "source": [
    "# DROP region_2 column since most of the records NULL and we have region_1\n",
    "df_wine = df_wine.drop('region_2', 1)"
   ]
  },
  {
   "cell_type": "code",
   "execution_count": null,
   "metadata": {},
   "outputs": [],
   "source": [
    "# DROP rows with NULL values\n",
    "df_wine=df_wine.dropna()\n",
    "df_wine.shape"
   ]
  },
  {
   "cell_type": "code",
   "execution_count": null,
   "metadata": {},
   "outputs": [],
   "source": [
    "df_wine['price'].describe()"
   ]
  },
  {
   "cell_type": "markdown",
   "metadata": {},
   "source": [
    "# Convert categorical COUNTRY column to Numeric"
   ]
  },
  {
   "cell_type": "code",
   "execution_count": null,
   "metadata": {},
   "outputs": [],
   "source": [
    "df_wine['country'].unique()"
   ]
  },
  {
   "cell_type": "code",
   "execution_count": null,
   "metadata": {},
   "outputs": [],
   "source": [
    "df_country = df_wine.country.str.get_dummies() # get the pivot of the country attribte\n",
    "df_country.columns = ['from_' + col for col in df_country.columns] # naming the columns\n",
    "df_wine = pd.concat([df_wine, df_country], axis=1) # combine main dataframe with country matrix dataframe\n",
    "df_wine = df_wine.drop('country', axis=1) # drop the country attribute since different attributes per country value\n",
    "df_wine.head(3)"
   ]
  },
  {
   "cell_type": "code",
   "execution_count": null,
   "metadata": {},
   "outputs": [],
   "source": [
    "print(df_wine.dtypes)"
   ]
  },
  {
   "cell_type": "code",
   "execution_count": null,
   "metadata": {},
   "outputs": [],
   "source": [
    "# DEFINE X and Y VARIABLES\n",
    "df_X = df_wine.loc[:, 'from_Argentina':'from_US']\n",
    "df_X = pd.concat([df_wine.price, df_X], axis=1)\n",
    "df_Y = df_wine[['points']]\n",
    "print(df_X.shape)\n"
   ]
  },
  {
   "cell_type": "code",
   "execution_count": null,
   "metadata": {},
   "outputs": [],
   "source": [
    "# devide the dataframe for training and testing \n",
    "X_train, X_test, y_train, y_test = train_test_split(df_X, df_Y, test_size=0.20)\n",
    "print (X_train.shape, y_train.shape)\n",
    "print (X_test.shape, y_test.shape)\n"
   ]
  },
  {
   "cell_type": "markdown",
   "metadata": {},
   "source": [
    "<h3>Clean outliers from Test Data</h3>"
   ]
  },
  {
   "cell_type": "code",
   "execution_count": null,
   "metadata": {},
   "outputs": [],
   "source": [
    "# Clean test data\n",
    "def reject_outliers(data, m=2):\n",
    "    return data[abs(data - np.mean(data)) < m * np.std(data)]\n",
    "\n",
    "# ############################ REMOVE OUTLIERS FROM TESTING ##########################\n",
    "print(\"test data with outliers\", X_test.shape, y_test.shape)\n",
    "# clean prices from testing\n",
    "test_prices_wo_outliers = reject_outliers(X_test.values)\n",
    "# remove points from test set if price was an outlier\n",
    "min_price = min(test_prices_wo_outliers)\n",
    "max_price = max(test_prices_wo_outliers)\n",
    "\n",
    "test_data = pd.concat([X_test, y_test], axis=1)\n",
    "test_data_clean = test_data.drop(test_data[test_data.price < min_price].index)\n",
    "test_data_clean = test_data_clean.drop(test_data_clean[test_data_clean.price > max_price].index)\n",
    "\n",
    "print(test_data_clean.shape)\n",
    "\n",
    "X_test = test_data_clean[test_data_clean.columns[:-1].tolist()]\n",
    "y_test = pd.DataFrame(test_data_clean['points'])\n",
    "print(\"test data without outliers\", X_test.shape, y_test.shape)\n",
    "#######################################################################################\n",
    "print(type(y_test))\n"
   ]
  },
  {
   "cell_type": "markdown",
   "metadata": {},
   "source": [
    "<h3>Regression WITH outliers in Training data (outlier-clean Test)</h3>"
   ]
  },
  {
   "cell_type": "code",
   "execution_count": null,
   "metadata": {},
   "outputs": [],
   "source": [
    "lm = linear_model.LinearRegression()\n",
    "model = lm.fit(X_train, y_train)\n",
    "y_predictions = lm.predict(X_test)\n",
    "\n",
    "w = model.coef_ # parameters of model\n",
    "b = model.intercept_ #intercept of model\n",
    "\n",
    "print(\"coeficient: \", w)\n",
    "print(\"intercept: \", b)"
   ]
  },
  {
   "cell_type": "code",
   "execution_count": null,
   "metadata": {},
   "outputs": [],
   "source": [
    "from copy import copy, deepcopy\n",
    "# store results\n",
    "ax1_y_test = deepcopy(y_test)\n",
    "ax1_y_predictions = deepcopy(y_predictions)\n"
   ]
  },
  {
   "cell_type": "code",
   "execution_count": null,
   "metadata": {},
   "outputs": [],
   "source": [
    "# Accuracy score\n",
    "print ('Accuracy:', model.score(X_test, y_test))\n",
    "# Root mean squared error (RMSE)\n",
    "print('RMSE:', np.sqrt(metrics.mean_squared_error(y_test, y_predictions)))\n",
    "# Mean absolute error (MAE)\n",
    "mae_with_outliers = metrics.mean_absolute_error(y_test, y_predictions)\n",
    "print('MAE:', mae_with_outliers)\n"
   ]
  },
  {
   "cell_type": "markdown",
   "metadata": {},
   "source": [
    "<h3>Regression W/O outliers in Training data (outlier-clean Test)</h3>"
   ]
  },
  {
   "cell_type": "code",
   "execution_count": null,
   "metadata": {},
   "outputs": [],
   "source": [
    "print(type(X_train))\n",
    "# remove outliers from training data\n",
    "print(\"training data with outliers\", X_train.shape, y_train.shape)\n",
    "\n",
    "training_prices_wo_outliers = reject_outliers(X_train['price'].values)\n",
    "# remove points from test set if price was an outlier\n",
    "min_price = min(training_prices_wo_outliers)\n",
    "max_price = max(training_prices_wo_outliers)\n",
    "\n",
    "\n",
    "training_data = pd.concat([X_train, y_train], axis=1)\n",
    "training_clean = training_data.drop(training_data[training_data.price < min_price].index)\n",
    "training_clean = training_clean.drop(training_clean[training_clean.price > max_price].index)\n",
    "\n",
    "X_train = training_clean[training_clean.columns[:-1].tolist()]\n",
    "y_train = training_clean['points'].values.reshape(-1, 1)\n",
    "print(\"training data without outliers\", X_train.shape, y_train.shape)\n",
    "\n",
    "\n",
    "# apply linear regression again\n",
    "lm = linear_model.LinearRegression()\n",
    "model = lm.fit(X_train, y_train)\n",
    "y_predictions = lm.predict(X_test)\n",
    "\n",
    "w = model.coef_ # parameters of model\n",
    "b = model.intercept_ #intercept of model\n",
    "\n",
    "print(\"coeficient: \", w)\n",
    "print(\"intercept: \", b)"
   ]
  },
  {
   "cell_type": "code",
   "execution_count": null,
   "metadata": {},
   "outputs": [],
   "source": [
    "from copy import copy, deepcopy\n",
    "# store results\n",
    "ax2_y_test = deepcopy(y_test)\n",
    "ax2_y_predictions = deepcopy(y_predictions)\n"
   ]
  },
  {
   "cell_type": "code",
   "execution_count": null,
   "metadata": {},
   "outputs": [],
   "source": [
    "# Accuracy score\n",
    "print ('Accuracy:', model.score(X_test, y_test))\n",
    "# Root mean squared error (RMSE)\n",
    "print('RMSE:', np.sqrt(metrics.mean_squared_error(y_test, y_predictions)))\n",
    "# Mean absolute error (MAE)\n",
    "mae_without_outliers = metrics.mean_absolute_error(y_test, y_predictions)\n",
    "print('MAE:', mae_without_outliers)\n"
   ]
  },
  {
   "cell_type": "markdown",
   "metadata": {},
   "source": [
    "<h3>SUMMARY</h3>"
   ]
  },
  {
   "cell_type": "code",
   "execution_count": null,
   "metadata": {},
   "outputs": [],
   "source": [
    "f, (ax1, ax2) = plt.subplots(1, 2, sharey=True)\n",
    "# plot w/o outliers in training data\n",
    "ax1.scatter(ax1_y_test, ax1_y_predictions)\n",
    "ax1.set(xlabel='True Values', ylabel='Predictions')\n",
    "\n",
    "max_y_predictions = int(max(ax1_y_predictions))\n",
    "min_y_predictions = int(min(ax1_y_predictions))\n",
    "\n",
    "print(\"--> With outliers in Training Set: \")\n",
    "print('max_y_predictions: ', max_y_predictions)\n",
    "print('min_y_predictions: ', min_y_predictions)\n",
    "print()\n",
    "\n",
    "max_y_true = int(max(ax1_y_test.points))\n",
    "min_y_true = int(min(ax1_y_test.points))\n",
    "\n",
    "ax1.axhline(max_y_true,label='max true value', color=\"red\")\n",
    "\n",
    "ax1.legend()\n",
    "ax1.grid()\n",
    "ax1.set_xlim([80,100])\n",
    "ax1.set_ylim([80,100])\n",
    "ax1.set_title('With outliers in Training Set')\n",
    "\n",
    "# plot w/o outliers in training data\n",
    "ax2.scatter(ax1_y_test, ax1_y_predictions)\n",
    "ax2.set(xlabel='True Values', ylabel='Predictions')\n",
    "\n",
    "max_y_predictions = int(max(ax2_y_predictions))\n",
    "min_y_predictions = int(min(ax2_y_predictions))\n",
    "\n",
    "print(\"--> Without outliers in Training Set:\")\n",
    "print('max_y_predictions: ', max_y_predictions)\n",
    "print('min_y_predictions: ', min_y_predictions)\n",
    "\n",
    "max_y_true = int(max(ax2_y_test.points))\n",
    "min_y_true = int(min(ax2_y_test.points))\n",
    "\n",
    "ax2.axhline(max_y_true,label='max true value', color=\"red\")\n",
    "\n",
    "ax2.legend()\n",
    "ax2.grid()\n",
    "ax2.set_xlim([80,100])\n",
    "ax2.set_ylim([80,100])\n",
    "ax2.set_title('Without outliers in Training Set')\n",
    "\n",
    "plt.subplots_adjust(left=None, bottom=None, right=None, top=None, wspace=0.5, hspace=None)\n",
    "\n"
   ]
  },
  {
   "cell_type": "markdown",
   "metadata": {},
   "source": [
    "<h1>Information gain</h1>"
   ]
  },
  {
   "cell_type": "code",
   "execution_count": null,
   "metadata": {},
   "outputs": [],
   "source": [
    "from sklearn.feature_selection import SelectFromModel\n",
    "from sklearn.ensemble import RandomForestClassifier\n",
    "\n",
    "embeded_rf_selector = SelectFromModel(RandomForestClassifier(n_estimators=100), threshold='1.25*median')\n",
    "embeded_rf_selector.fit(X_train, y_train)\n",
    "\n",
    "embeded_rf_support = embeded_rf_selector.get_support()\n",
    "embeded_rf_feature = X_train.loc[:,embeded_rf_support].columns.tolist()\n",
    "print(str(len(embeded_rf_feature)), 'selected features')\n",
    "print(embeded_rf_feature)"
   ]
  },
  {
   "cell_type": "markdown",
   "metadata": {},
   "source": [
    "<h3>Regression with only best features</h3>"
   ]
  },
  {
   "cell_type": "code",
   "execution_count": null,
   "metadata": {},
   "outputs": [],
   "source": [
    "# pd.concat([X_train, y_train], axis=1)\n",
    "# # selected_features_X_train = pd.concat(X_train.price.values, X_train.from_Italy.values)\n",
    "print(type(X_train))\n",
    "print(type(y_train))\n",
    "selected_features_X_train = X_train[['price','from_Italy', 'from_US']]\n",
    "selected_features_X_test = X_test[['price','from_Italy', 'from_US']]\n",
    "print(type(selected_features_X_train))\n",
    "\n",
    "\n",
    "# apply linear regression again\n",
    "lm = linear_model.LinearRegression()\n",
    "model = lm.fit(selected_features_X_train, y_train)\n",
    "y_predictions = lm.predict(selected_features_X_test)\n",
    "\n",
    "w = model.coef_ # parameters of model\n",
    "b = model.intercept_ #intercept of model\n",
    "\n",
    "print(\"coeficient: \", w)\n",
    "print(\"intercept: \", b)\n",
    "\n",
    "# Plot the results\n",
    "plt.scatter(y_test, y_predictions)\n",
    "plt.xlabel('True Values')\n",
    "plt.ylabel('Predictions')\n",
    "max_y_predictions = int(max(y_predictions))\n",
    "min_y_predictions = int(min(y_predictions))\n",
    "max_y_true = int(max(y_test.points))\n",
    "min_y_true = int(min(y_test.points))\n",
    "plt.axhline(max_y_true,label='max true value', color=\"red\")\n",
    "plt.legend()\n",
    "plt.grid()\n",
    "plt.ylim([80,150])\n",
    "\n",
    "# Accuracy score\n",
    "print ('Accuracy:', model.score(selected_features_X_test, y_test))\n",
    "# Root mean squared error (RMSE)\n",
    "print('RMSE:', np.sqrt(metrics.mean_squared_error(y_test, y_predictions)))\n",
    "# Mean absolute error (MAE)\n",
    "print('MAE:', metrics.mean_absolute_error(y_test, y_predictions))\n"
   ]
  },
  {
   "cell_type": "code",
   "execution_count": null,
   "metadata": {},
   "outputs": [],
   "source": []
  }
 ],
 "metadata": {
  "kernelspec": {
   "display_name": "Python 3",
   "language": "python",
   "name": "python3"
  },
  "language_info": {
   "codemirror_mode": {
    "name": "ipython",
    "version": 3
   },
   "file_extension": ".py",
   "mimetype": "text/x-python",
   "name": "python",
   "nbconvert_exporter": "python",
   "pygments_lexer": "ipython3",
   "version": "3.7.0"
  }
 },
 "nbformat": 4,
 "nbformat_minor": 2
}
