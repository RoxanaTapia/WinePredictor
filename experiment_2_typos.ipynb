{
 "cells": [
  {
   "cell_type": "code",
   "execution_count": 2,
   "metadata": {},
   "outputs": [],
   "source": [
    "from copy import copy, deepcopy\n",
    "import matplotlib.pyplot as plt\n",
    "from sklearn import metrics\n",
    "from sklearn.model_selection import train_test_split\n",
    "from sklearn.metrics import mean_squared_error\n",
    "from sklearn.model_selection import train_test_split \n",
    "from sklearn import metrics\n",
    "from sklearn import linear_model\n",
    "import pandas as pd \n",
    "import numpy as np\n",
    "%matplotlib inline"
   ]
  },
  {
   "cell_type": "code",
   "execution_count": 3,
   "metadata": {},
   "outputs": [],
   "source": [
    "# Load the Wine Dataset\n",
    "df_wine = pd.read_csv(\"data/data_transformed_typos.csv\", encoding = 'utf8', index_col=0)\n",
    "# df_wine = pd.read_csv(\"../data/winemag-data-130k-v2.csv\", encoding = 'utf8', index_col=0)\n",
    "df_wine = df_wine.reset_index()"
   ]
  },
  {
   "cell_type": "code",
   "execution_count": 4,
   "metadata": {},
   "outputs": [
    {
     "data": {
      "text/html": [
       "<div>\n",
       "<style scoped>\n",
       "    .dataframe tbody tr th:only-of-type {\n",
       "        vertical-align: middle;\n",
       "    }\n",
       "\n",
       "    .dataframe tbody tr th {\n",
       "        vertical-align: top;\n",
       "    }\n",
       "\n",
       "    .dataframe thead th {\n",
       "        text-align: right;\n",
       "    }\n",
       "</style>\n",
       "<table border=\"1\" class=\"dataframe\">\n",
       "  <thead>\n",
       "    <tr style=\"text-align: right;\">\n",
       "      <th></th>\n",
       "      <th>index</th>\n",
       "      <th>price</th>\n",
       "      <th>points</th>\n",
       "      <th>year_of_wine</th>\n",
       "      <th>v_Abouriou</th>\n",
       "      <th>v_Aglianico</th>\n",
       "      <th>v_Airen</th>\n",
       "      <th>v_Albana</th>\n",
       "      <th>v_Albanello</th>\n",
       "      <th>v_Albariño</th>\n",
       "      <th>...</th>\n",
       "      <th>province_Spanish Islands</th>\n",
       "      <th>province_Tasmania</th>\n",
       "      <th>province_Texas</th>\n",
       "      <th>province_Tuscany</th>\n",
       "      <th>province_Veneto</th>\n",
       "      <th>province_Vermont</th>\n",
       "      <th>province_Victoria</th>\n",
       "      <th>province_Virginia</th>\n",
       "      <th>province_Washington</th>\n",
       "      <th>province_Western Australia</th>\n",
       "    </tr>\n",
       "  </thead>\n",
       "  <tbody>\n",
       "    <tr>\n",
       "      <th>0</th>\n",
       "      <td>2</td>\n",
       "      <td>14.0</td>\n",
       "      <td>87</td>\n",
       "      <td>2012</td>\n",
       "      <td>0</td>\n",
       "      <td>0</td>\n",
       "      <td>0</td>\n",
       "      <td>0</td>\n",
       "      <td>0</td>\n",
       "      <td>0</td>\n",
       "      <td>...</td>\n",
       "      <td>0</td>\n",
       "      <td>0</td>\n",
       "      <td>0</td>\n",
       "      <td>0</td>\n",
       "      <td>0</td>\n",
       "      <td>0</td>\n",
       "      <td>0</td>\n",
       "      <td>0</td>\n",
       "      <td>0</td>\n",
       "      <td>0</td>\n",
       "    </tr>\n",
       "    <tr>\n",
       "      <th>1</th>\n",
       "      <td>3</td>\n",
       "      <td>13.0</td>\n",
       "      <td>87</td>\n",
       "      <td>2011</td>\n",
       "      <td>0</td>\n",
       "      <td>0</td>\n",
       "      <td>0</td>\n",
       "      <td>0</td>\n",
       "      <td>0</td>\n",
       "      <td>0</td>\n",
       "      <td>...</td>\n",
       "      <td>0</td>\n",
       "      <td>0</td>\n",
       "      <td>0</td>\n",
       "      <td>0</td>\n",
       "      <td>0</td>\n",
       "      <td>0</td>\n",
       "      <td>0</td>\n",
       "      <td>0</td>\n",
       "      <td>0</td>\n",
       "      <td>0</td>\n",
       "    </tr>\n",
       "    <tr>\n",
       "      <th>2</th>\n",
       "      <td>4</td>\n",
       "      <td>65.0</td>\n",
       "      <td>87</td>\n",
       "      <td>2013</td>\n",
       "      <td>0</td>\n",
       "      <td>0</td>\n",
       "      <td>0</td>\n",
       "      <td>0</td>\n",
       "      <td>0</td>\n",
       "      <td>0</td>\n",
       "      <td>...</td>\n",
       "      <td>0</td>\n",
       "      <td>0</td>\n",
       "      <td>0</td>\n",
       "      <td>0</td>\n",
       "      <td>0</td>\n",
       "      <td>0</td>\n",
       "      <td>0</td>\n",
       "      <td>0</td>\n",
       "      <td>0</td>\n",
       "      <td>0</td>\n",
       "    </tr>\n",
       "  </tbody>\n",
       "</table>\n",
       "<p>3 rows × 585 columns</p>\n",
       "</div>"
      ],
      "text/plain": [
       "   index  price  points  year_of_wine  v_Abouriou  v_Aglianico  v_Airen  \\\n",
       "0      2   14.0      87          2012           0            0        0   \n",
       "1      3   13.0      87          2011           0            0        0   \n",
       "2      4   65.0      87          2013           0            0        0   \n",
       "\n",
       "   v_Albana  v_Albanello  v_Albariño             ...              \\\n",
       "0         0            0           0             ...               \n",
       "1         0            0           0             ...               \n",
       "2         0            0           0             ...               \n",
       "\n",
       "   province_Spanish Islands  province_Tasmania  province_Texas  \\\n",
       "0                         0                  0               0   \n",
       "1                         0                  0               0   \n",
       "2                         0                  0               0   \n",
       "\n",
       "   province_Tuscany  province_Veneto  province_Vermont  province_Victoria  \\\n",
       "0                 0                0                 0                  0   \n",
       "1                 0                0                 0                  0   \n",
       "2                 0                0                 0                  0   \n",
       "\n",
       "   province_Virginia  province_Washington  province_Western Australia  \n",
       "0                  0                    0                           0  \n",
       "1                  0                    0                           0  \n",
       "2                  0                    0                           0  \n",
       "\n",
       "[3 rows x 585 columns]"
      ]
     },
     "execution_count": 4,
     "metadata": {},
     "output_type": "execute_result"
    }
   ],
   "source": [
    "df_wine.head(3)"
   ]
  },
  {
   "cell_type": "markdown",
   "metadata": {},
   "source": [
    "# Data Preparation"
   ]
  },
  {
   "cell_type": "code",
   "execution_count": null,
   "metadata": {},
   "outputs": [],
   "source": [
    "# DEFINE X and Y VARIABLES\n",
    "df_X = df_wine.drop('points', axis=1)\n",
    "df_Y = df_wine[['points']]\n",
    "print(df_X.shape)\n",
    "print(df_Y.shape)"
   ]
  },
  {
   "cell_type": "code",
   "execution_count": null,
   "metadata": {},
   "outputs": [],
   "source": [
    "# Split Data to Test and Traning\n",
    "X_train, X_test, y_train, y_test = train_test_split(df_X, df_Y, test_size=0.33)"
   ]
  },
  {
   "cell_type": "markdown",
   "metadata": {},
   "source": [
    "<h4>Outlier Analysis</h4>\n"
   ]
  },
  {
   "cell_type": "code",
   "execution_count": null,
   "metadata": {},
   "outputs": [],
   "source": []
  },
  {
   "cell_type": "code",
   "execution_count": null,
   "metadata": {},
   "outputs": [],
   "source": [
    "before = y_test.shape[0]\n",
    "print(\"Test before outliers: \", before)\n",
    "\n",
    "def check_outliers(data, m=2):\n",
    "    clean_data = data[abs(data - np.mean(data)) < m * np.std(data)]\n",
    "    return clean_data.shape[0]\n",
    "\n",
    "after = check_outliers(y_test.values)\n",
    "print(\"Test after outliers: \", after)\n",
    "\n",
    "diff = before-after\n",
    "percent = round((diff * 100)/before, 2)\n",
    "print(\"Total: {} out of {} ({}%).\".format(diff, before, percent))\n"
   ]
  },
  {
   "cell_type": "code",
   "execution_count": null,
   "metadata": {},
   "outputs": [],
   "source": [
    "before = y_train.shape[0]\n",
    "print(\"Training before outliers: \", before)\n",
    "\n",
    "def check_outliers(data, m=2):\n",
    "    clean_data = data[abs(data - np.mean(data)) < m * np.std(data)]\n",
    "    return clean_data.shape[0]\n",
    "\n",
    "after = check_outliers(y_train.values)\n",
    "print(\"Training after outliers: \", after)\n",
    "\n",
    "diff = before-after\n",
    "percent = round((diff * 100)/before, 2)\n",
    "print(\"Total: {} out of {} ({}%).\".format(diff, before, percent))"
   ]
  },
  {
   "cell_type": "code",
   "execution_count": null,
   "metadata": {},
   "outputs": [],
   "source": [
    "import seaborn as sns\n",
    "\n",
    "sns.distplot(np.log(y_test))"
   ]
  },
  {
   "cell_type": "code",
   "execution_count": null,
   "metadata": {},
   "outputs": [],
   "source": [
    "sns.distplot(np.log(y_train))"
   ]
  },
  {
   "cell_type": "markdown",
   "metadata": {},
   "source": [
    "# Outliers in Test Data"
   ]
  },
  {
   "cell_type": "markdown",
   "metadata": {},
   "source": [
    "### Regression WITH outliers in Training data"
   ]
  },
  {
   "cell_type": "code",
   "execution_count": null,
   "metadata": {},
   "outputs": [],
   "source": [
    "# test sets also have outliers\n",
    "lm = linear_model.LinearRegression()\n",
    "model = lm.fit(X_train, y_train)\n",
    "y_predictions_3 = lm.predict(X_test)"
   ]
  },
  {
   "cell_type": "code",
   "execution_count": null,
   "metadata": {},
   "outputs": [],
   "source": [
    "from copy import copy, deepcopy\n",
    "# store results\n",
    "ax3_y_test = deepcopy(y_test)\n",
    "ax3_y_predictions = deepcopy(y_predictions_3)"
   ]
  },
  {
   "cell_type": "code",
   "execution_count": null,
   "metadata": {},
   "outputs": [],
   "source": [
    "# Root mean squared error (RMSE)\n",
    "print('RMSE:', np.sqrt(metrics.mean_squared_error(ax3_y_test, ax3_y_predictions)))\n",
    "print('MAE:', metrics.mean_absolute_error(ax3_y_test, ax3_y_predictions))\n",
    "rmse_3 = np.sqrt(metrics.mean_squared_error(ax3_y_test, ax3_y_predictions))\n",
    "mae_3 = metrics.mean_absolute_error(ax3_y_test, ax3_y_predictions)"
   ]
  },
  {
   "cell_type": "markdown",
   "metadata": {},
   "source": [
    "### Regression W/O outliers in Training Data\n"
   ]
  },
  {
   "cell_type": "code",
   "execution_count": null,
   "metadata": {},
   "outputs": [],
   "source": [
    "# Clean test data\n",
    "def reject_outliers(data, m=2):\n",
    "    return data[abs(data - np.mean(data)) < m * np.std(data)]\n",
    "\n",
    "# store clean training data\n",
    "X_train_clean = deepcopy(X_train)\n",
    "y_train_clean = deepcopy(y_train)\n",
    "\n",
    "# remove outliers from training data\n",
    "print(\"Training data with outliers\", X_train_clean.shape, y_train_clean.shape)\n",
    "\n",
    "training_prices_wo_outliers = reject_outliers(X_train_clean['price'].values)\n",
    "# remove points from test set if price was an outlier\n",
    "min_price = min(training_prices_wo_outliers)\n",
    "max_price = max(training_prices_wo_outliers)\n",
    "\n",
    "\n",
    "training_data = pd.concat([X_train_clean, y_train_clean], axis=1)\n",
    "training_clean = training_data.drop(training_data[training_data.price < min_price].index)\n",
    "training_clean = training_clean.drop(training_clean[training_clean.price > max_price].index)\n",
    "\n",
    "X_train_outlier_clean = training_clean[training_clean.columns[:-1].tolist()]\n",
    "y_train_outlier_clean = training_clean['points'].values.reshape(-1, 1)\n",
    "print(\"Training data without outliers\", X_train_outlier_clean.shape, y_train_outlier_clean.shape)"
   ]
  },
  {
   "cell_type": "code",
   "execution_count": null,
   "metadata": {},
   "outputs": [],
   "source": [
    "# apply linear regression again\n",
    "lm = linear_model.LinearRegression()\n",
    "model = lm.fit(X_train_outlier_clean, y_train_outlier_clean)\n",
    "y_predictions_4 = lm.predict(X_test)"
   ]
  },
  {
   "cell_type": "code",
   "execution_count": null,
   "metadata": {},
   "outputs": [],
   "source": [
    "from copy import copy, deepcopy\n",
    "# store results for chart 4\n",
    "ax4_y_test = deepcopy(y_test)\n",
    "ax4_y_predictions = deepcopy(y_predictions_4)"
   ]
  },
  {
   "cell_type": "code",
   "execution_count": null,
   "metadata": {},
   "outputs": [],
   "source": [
    "# Root mean squared error (RMSE)\n",
    "print('RMSE:', np.sqrt(metrics.mean_squared_error(y_test, ax4_y_predictions)))\n",
    "print('MAE:', metrics.mean_absolute_error(y_test, ax4_y_predictions))\n",
    "rmse_4 = np.sqrt(metrics.mean_squared_error(y_test, ax4_y_predictions))\n",
    "mae_4 = metrics.mean_absolute_error(y_test, ax4_y_predictions)"
   ]
  },
  {
   "cell_type": "markdown",
   "metadata": {},
   "source": [
    "### Clean outliers from Test Data"
   ]
  },
  {
   "cell_type": "code",
   "execution_count": null,
   "metadata": {},
   "outputs": [],
   "source": [
    "# store clean test data\n",
    "X_test_clean = deepcopy(X_test)\n",
    "y_test_clean = deepcopy(y_test)"
   ]
  },
  {
   "cell_type": "code",
   "execution_count": null,
   "metadata": {},
   "outputs": [],
   "source": [
    "############################# REMOVE OUTLIERS FROM TESTING ##########################\n",
    "print(\"Test data with outliers\", X_test_clean.shape, y_test_clean.shape)\n",
    "# clean prices from testing\n",
    "test_prices_wo_outliers = reject_outliers(X_test_clean.values)\n",
    "# remove points from test set if price was an outlier\n",
    "min_price = min(test_prices_wo_outliers)\n",
    "max_price = max(test_prices_wo_outliers)\n",
    "\n",
    "test_data = pd.concat([X_test, y_test], axis=1)\n",
    "test_data_clean = test_data.drop(test_data[test_data.price < min_price].index)\n",
    "test_data_clean = test_data_clean.drop(test_data_clean[test_data_clean.price > max_price].index)\n",
    "\n",
    "X_test_outlier_clean = test_data_clean[test_data_clean.columns[:-1].tolist()]\n",
    "y_test_outlier_clean = pd.DataFrame(test_data_clean['points'])\n",
    "print(\"Test data without outliers\", X_test_outlier_clean.shape, y_test_outlier_clean.shape)\n",
    "#######################################################################################"
   ]
  },
  {
   "cell_type": "markdown",
   "metadata": {},
   "source": [
    "### Regression WITH outliers in Training data\n"
   ]
  },
  {
   "cell_type": "code",
   "execution_count": null,
   "metadata": {},
   "outputs": [],
   "source": [
    "lm = linear_model.LinearRegression()\n",
    "model = lm.fit(X_train, y_train) # dirty training\n",
    "y_predictions_1 = lm.predict(X_test_outlier_clean) # clean test"
   ]
  },
  {
   "cell_type": "code",
   "execution_count": null,
   "metadata": {},
   "outputs": [],
   "source": [
    "from copy import copy, deepcopy\n",
    "# store results\n",
    "ax1_y_test = deepcopy(y_test_outlier_clean)\n",
    "ax1_y_predictions = deepcopy(y_predictions_1)"
   ]
  },
  {
   "cell_type": "code",
   "execution_count": null,
   "metadata": {},
   "outputs": [],
   "source": [
    "# Root mean squared error (RMSE)\n",
    "print('RMSE:', np.sqrt(metrics.mean_squared_error(ax1_y_test, ax1_y_predictions)))\n",
    "print('MAE:', metrics.mean_absolute_error(ax1_y_test, ax1_y_predictions))\n",
    "rmse_1 = np.sqrt(metrics.mean_squared_error(ax1_y_test, ax1_y_predictions))\n",
    "mae_1 = metrics.mean_absolute_error(ax1_y_test, ax1_y_predictions)"
   ]
  },
  {
   "cell_type": "markdown",
   "metadata": {},
   "source": [
    "### Regression W/O outliers in Training data"
   ]
  },
  {
   "cell_type": "code",
   "execution_count": null,
   "metadata": {},
   "outputs": [],
   "source": [
    "# apply linear regression again\n",
    "lm = linear_model.LinearRegression()\n",
    "model = lm.fit(X_train_outlier_clean, y_train_outlier_clean)\n",
    "y_predictions_2 = lm.predict(X_test_outlier_clean)"
   ]
  },
  {
   "cell_type": "code",
   "execution_count": null,
   "metadata": {},
   "outputs": [],
   "source": [
    "from copy import copy, deepcopy\n",
    "# store results\n",
    "ax2_y_test = deepcopy(y_test_outlier_clean)\n",
    "ax2_y_predictions = deepcopy(y_predictions_2)"
   ]
  },
  {
   "cell_type": "code",
   "execution_count": null,
   "metadata": {},
   "outputs": [],
   "source": [
    "# Root mean squared error (RMSE)\n",
    "print('RMSE:', np.sqrt(metrics.mean_squared_error(ax2_y_test, y_predictions_2)))\n",
    "print('MAE:', metrics.mean_absolute_error(ax2_y_test, y_predictions_2))\n",
    "rmse_2 = np.sqrt(metrics.mean_squared_error(ax2_y_test, y_predictions_2))\n",
    "mae_2 = metrics.mean_absolute_error(ax2_y_test, y_predictions_2)"
   ]
  },
  {
   "cell_type": "markdown",
   "metadata": {},
   "source": [
    "# SUMMARY"
   ]
  },
  {
   "cell_type": "code",
   "execution_count": null,
   "metadata": {},
   "outputs": [],
   "source": [
    "from IPython.display import HTML, display\n",
    "\n",
    "data = [[\"Training\\Test\", \"W/ OUTLIERS\",\"W/O OUTLIERS\"],\n",
    "         [\"W/ OUTLIERS\",mae_3, mae_1],\n",
    "         [\"W/O OUTLIERS\",mae_4, mae_2],\n",
    "         ]\n",
    "\n",
    "display(HTML(\n",
    "    '<table><tr>{}</tr></table>'.format(\n",
    "        '</tr><tr>'.join(\n",
    "            '<td>{}</td>'.format('</td><td>'.join(str(_) for _ in row)) for row in data)\n",
    "        )\n",
    " ))"
   ]
  },
  {
   "cell_type": "code",
   "execution_count": null,
   "metadata": {},
   "outputs": [],
   "source": [
    "from IPython.display import HTML, display\n",
    "\n",
    "data = [[\"Training\\Test\", \"W/ OUTLIERS\",\"W/O OUTLIERS\"],\n",
    "         [\"W/ OUTLIERS\",rmse_3, rmse_1],\n",
    "         [\"W/O OUTLIERS\",rmse_4, rmse_2],\n",
    "         ]\n",
    "\n",
    "display(HTML(\n",
    "    '<table><tr>{}</tr></table>'.format(\n",
    "        '</tr><tr>'.join(\n",
    "            '<td>{}</td>'.format('</td><td>'.join(str(_) for _ in row)) for row in data)\n",
    "        )\n",
    " ))"
   ]
  },
  {
   "cell_type": "code",
   "execution_count": null,
   "metadata": {},
   "outputs": [],
   "source": [
    "f, ((ax3, ax4), (ax1, ax2)) = plt.subplots(2, 2, sharey=True, figsize=(15,15))\n",
    "\n",
    "# Dirty test outliers\n",
    "print(\"************OUTLIERS IN TEST DATA **************\")\n",
    "# plot w/ outliers in training data\n",
    "ax3.scatter(ax3_y_test, ax3_y_predictions)\n",
    "ax3.set(xlabel='True Values', ylabel='Predictions')\n",
    "\n",
    "max_y_predictions = int(max(ax3_y_predictions))\n",
    "min_y_predictions = int(min(ax3_y_predictions))\n",
    "\n",
    "print(\"--> TEST OUTLIERS AND TRAINING OUTLIERS\")\n",
    "print('max_y_predictions: ', max_y_predictions)\n",
    "print('min_y_predictions: ', min_y_predictions)\n",
    "print('MAE:', mae_3)\n",
    "print()\n",
    "\n",
    "max_y_true = int(max(ax3_y_test.points))\n",
    "min_y_true = int(min(ax3_y_test.points))\n",
    "\n",
    "ax3.axhline(max_y_true,label='max true value', color=\"red\")\n",
    "\n",
    "ax3.legend()\n",
    "ax3.grid()\n",
    "ax3.set_xlim([80,100+0.1])\n",
    "ax3.set_ylim([80,120+2])\n",
    "ax3.set_title('1) TEST OUTLIERS AND TRAINING OUTLIERS')\n",
    "\n",
    "# plot w/o outliers in training data\n",
    "ax4.scatter(ax4_y_test, ax4_y_predictions)\n",
    "ax4.set(xlabel='True Values', ylabel='Predictions')\n",
    "\n",
    "max_y_predictions = int(max(ax4_y_predictions))\n",
    "min_y_predictions = int(min(ax4_y_predictions))\n",
    "\n",
    "print(\"--> ONLY OUTLIERS IN TEST\")\n",
    "print('max_y_predictions: ', max_y_predictions)\n",
    "print('min_y_predictions: ', min_y_predictions)\n",
    "print('MAE:', mae_4)\n",
    "\n",
    "max_y_true = int(max(ax4_y_test.points))\n",
    "min_y_true = int(min(ax4_y_test.points))\n",
    "\n",
    "ax4.axhline(max_y_true,label='max true value', color=\"red\")\n",
    "\n",
    "ax4.legend()\n",
    "ax4.grid()\n",
    "ax4.set_xlim([80,100+0.1])\n",
    "ax4.set_ylim([80,120+2])\n",
    "ax4.set_title('2) ONLY OUTLIERS IN TEST')\n",
    "\n",
    "print()\n",
    "\n",
    "# Clean test\n",
    "print(\"************CLEAN TEST DATA**************\")\n",
    "# plot w/ outliers in training data\n",
    "ax1.scatter(ax1_y_test, ax1_y_predictions)\n",
    "ax1.set(xlabel='True Values', ylabel='Predictions')\n",
    "\n",
    "max_y_predictions = int(max(ax1_y_predictions))\n",
    "min_y_predictions = int(min(ax1_y_predictions))\n",
    "\n",
    "print(\"--> ONLY OUTLIERS IN TRAINING:\")\n",
    "print('max_y_predictions: ', max_y_predictions)\n",
    "print('min_y_predictions: ', min_y_predictions)\n",
    "print('MAE:', mae_1)\n",
    "print()\n",
    "\n",
    "max_y_true = int(max(ax1_y_test.points))\n",
    "min_y_true = int(min(ax1_y_test.points))\n",
    "\n",
    "ax1.axhline(max_y_true,label='max true value', color=\"red\")\n",
    "\n",
    "ax1.legend()\n",
    "ax1.grid()\n",
    "ax1.set_xlim([80,100+0.1])\n",
    "ax1.set_ylim([80,120+2])\n",
    "ax1.set_title('3) ONLY OUTLIERS IN TRAINING')\n",
    "\n",
    "# plot w/o outliers in training data\n",
    "ax2.scatter(ax2_y_test, ax2_y_predictions)\n",
    "ax2.set(xlabel='True Values', ylabel='Predictions')\n",
    "\n",
    "max_y_predictions = int(max(ax2_y_predictions))\n",
    "min_y_predictions = int(min(ax2_y_predictions))\n",
    "\n",
    "print(\"--> NO OUTLIERS:\")\n",
    "print('max_y_predictions: ', max_y_predictions)\n",
    "print('min_y_predictions: ', min_y_predictions)\n",
    "print('MAE:', mae_2)\n",
    "\n",
    "max_y_true = int(max(ax2_y_test.points))\n",
    "min_y_true = int(min(ax2_y_test.points))\n",
    "\n",
    "ax2.axhline(max_y_true,label='max true value', color=\"red\")\n",
    "\n",
    "ax2.legend()\n",
    "ax2.grid()\n",
    "ax2.set_xlim([80,100+0.1])\n",
    "ax2.set_ylim([80,120+2])\n",
    "ax2.set_title('4) NO OUTLIERS')\n",
    "\n",
    "plt.tight_layout()"
   ]
  }
 ],
 "metadata": {
  "kernelspec": {
   "display_name": "Python 3",
   "language": "python",
   "name": "python3"
  },
  "language_info": {
   "codemirror_mode": {
    "name": "ipython",
    "version": 3
   },
   "file_extension": ".py",
   "mimetype": "text/x-python",
   "name": "python",
   "nbconvert_exporter": "python",
   "pygments_lexer": "ipython3",
   "version": "3.7.0"
  }
 },
 "nbformat": 4,
 "nbformat_minor": 2
}
